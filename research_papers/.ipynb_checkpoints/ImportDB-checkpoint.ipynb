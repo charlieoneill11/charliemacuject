{
 "cells": [
  {
   "cell_type": "code",
   "execution_count": 6,
   "id": "24bf640f",
   "metadata": {},
   "outputs": [],
   "source": [
    "import pandas as pd"
   ]
  },
  {
   "cell_type": "markdown",
   "id": "762b92b2",
   "metadata": {},
   "source": [
    "# Class for importing the data as a CSV"
   ]
  },
  {
   "cell_type": "code",
   "execution_count": 45,
   "id": "74b29b60",
   "metadata": {},
   "outputs": [],
   "source": [
    "class ImportDB:\n",
    "    \n",
    "    \"\"\"\n",
    "    Initialises the class, with doctor being either 1,2,3,4,5.\n",
    "    If all doctors wish to be selected, enter 0.\n",
    "    \"\"\"\n",
    "    def __init__(self, doctor, to_clean):\n",
    "        self.doctor = doctor\n",
    "        self.to_clean = to_clean\n",
    "    \n",
    "    \"\"\"\n",
    "    Retrieves the data as a CSV file from the specific Heroku dataclip.\n",
    "    \"\"\"\n",
    "    def set_url(self):\n",
    "        doctor = self.doctor\n",
    "        if doctor == 0:\n",
    "            url = 'https://data.heroku.com/dataclips/xhjairmlyklsargdrbieqklvwitf.csv'\n",
    "        return url\n",
    "    \n",
    "    def return_db(self):\n",
    "        url = self.set_url()\n",
    "        df = pd.read_csv(url, low_memory=False)\n",
    "        df.sort_values(by=['eye_id'], inplace=True)\n",
    "        df.reset_index(inplace=True)\n",
    "        if self.to_clean == True:\n",
    "            df.drop(columns=['index',\n",
    "                              'is_submacular_blood_present', 'type', 'created_at', 'updated_at',\n",
    "                              'is_floaters_present', 'is_irf_present', 'is_irf_gt_initiation',\n",
    "                              'is_srf_present', 'is_srf_gt_initiation', 'is_ped_gt_last_visit',\n",
    "                              'is_ped_gt_initiation', 'is_submacular_blood_new',\n",
    "                              'is_vision_worse_than_last_visit', 'drug_id',\n",
    "                              'next_drug_id', 'next_recommendation_eye_state', 'admission_date',\n",
    "                              'message', 'has_submacular_blood_resolved', 'should_extend',\n",
    "                              'doctor_visit_type', 'doctor_visits_id', 'irf_srf_ped_lt_previous_drug',\n",
    "                              'resume_treatment', 'is_atypical', 'status_from_silverpond',\n",
    "                              'silverpond_original_image_url', 'silverpond_overlay_image_url',\n",
    "                              'is_oct_correct', 'is_irf_gt_initiation_prediction',\n",
    "                              'is_srf_gt_initiation_prediction', 'is_recommendation_changed', 'creation_mode',\n",
    "                              'high_res_silverpond_original_image_url', 'high_res_silverpond_overlay_image_url', \n",
    "                              'clinic_visit_type', 'planned_drug_id', 'completed', 'treatment_reason', 'reason_bilat', \n",
    "                              'reason_pt', 'reason_fluid', 'reason_only_eye', 'oct_attached_at', 'fluid_measured_at', \n",
    "                              'patched', 'oct_inference_job_id'], inplace=True)\n",
    "        return df"
   ]
  },
  {
   "cell_type": "code",
   "execution_count": 43,
   "id": "9d493e94",
   "metadata": {},
   "outputs": [],
   "source": [
    "db = ImportDB(0, True)\n",
    "df = db.return_db()"
   ]
  },
  {
   "cell_type": "code",
   "execution_count": null,
   "id": "42014d83",
   "metadata": {},
   "outputs": [],
   "source": []
  }
 ],
 "metadata": {
  "environment": {
   "name": "common-cu110.m74",
   "type": "gcloud",
   "uri": "gcr.io/deeplearning-platform-release/base-cu110:m74"
  },
  "kernelspec": {
   "display_name": "Python 3",
   "language": "python",
   "name": "python3"
  },
  "language_info": {
   "codemirror_mode": {
    "name": "ipython",
    "version": 3
   },
   "file_extension": ".py",
   "mimetype": "text/x-python",
   "name": "python",
   "nbconvert_exporter": "python",
   "pygments_lexer": "ipython3",
   "version": "3.7.10"
  }
 },
 "nbformat": 4,
 "nbformat_minor": 5
}

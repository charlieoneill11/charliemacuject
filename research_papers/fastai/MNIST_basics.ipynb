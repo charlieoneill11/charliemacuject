{
 "cells": [
  {
   "cell_type": "code",
   "execution_count": 1,
   "id": "e802643e",
   "metadata": {},
   "outputs": [],
   "source": [
    "import fastbook\n",
    "from fastai.vision.all import *\n",
    "from fastbook import *"
   ]
  },
  {
   "cell_type": "code",
   "execution_count": 2,
   "id": "c965a220",
   "metadata": {},
   "outputs": [],
   "source": [
    "matplotlib.rc('image', cmap='Greys')"
   ]
  },
  {
   "cell_type": "code",
   "execution_count": 3,
   "id": "5e3bea3b",
   "metadata": {},
   "outputs": [
    {
     "data": {
      "text/html": [],
      "text/plain": [
       "<IPython.core.display.HTML object>"
      ]
     },
     "metadata": {},
     "output_type": "display_data"
    }
   ],
   "source": [
    "path = untar_data(URLs.MNIST_SAMPLE)"
   ]
  },
  {
   "cell_type": "code",
   "execution_count": 4,
   "id": "8d9da86c",
   "metadata": {},
   "outputs": [],
   "source": [
    "Path.BASE_PATH = path"
   ]
  },
  {
   "cell_type": "code",
   "execution_count": 5,
   "id": "f377d712",
   "metadata": {},
   "outputs": [
    {
     "data": {
      "text/plain": [
       "(#3) [Path('train'),Path('valid'),Path('labels.csv')]"
      ]
     },
     "execution_count": 5,
     "metadata": {},
     "output_type": "execute_result"
    }
   ],
   "source": [
    "path.ls()"
   ]
  },
  {
   "cell_type": "code",
   "execution_count": 6,
   "id": "895fbb8b",
   "metadata": {},
   "outputs": [
    {
     "data": {
      "text/plain": [
       "(#2) [Path('train/7'),Path('train/3')]"
      ]
     },
     "execution_count": 6,
     "metadata": {},
     "output_type": "execute_result"
    }
   ],
   "source": [
    "(path/'train').ls()"
   ]
  },
  {
   "cell_type": "code",
   "execution_count": 7,
   "id": "88549623",
   "metadata": {},
   "outputs": [
    {
     "data": {
      "text/plain": [
       "(#6131) [Path('train/3/10.png'),Path('train/3/10000.png'),Path('train/3/10011.png'),Path('train/3/10031.png'),Path('train/3/10034.png'),Path('train/3/10042.png'),Path('train/3/10052.png'),Path('train/3/1007.png'),Path('train/3/10074.png'),Path('train/3/10091.png')...]"
      ]
     },
     "execution_count": 7,
     "metadata": {},
     "output_type": "execute_result"
    }
   ],
   "source": [
    "threes = (path/'train'/'3').ls().sorted() # use sorted to ensure we get the same order of files\n",
    "sevens = (path/'train'/'7').ls().sorted()\n",
    "threes"
   ]
  },
  {
   "cell_type": "code",
   "execution_count": 8,
   "id": "ecab6444",
   "metadata": {},
   "outputs": [
    {
     "data": {
      "image/png": "[encoded data removed]",
      "text/plain": [
       "<PIL.PngImagePlugin.PngImageFile image mode=L size=28x28 at 0x7F7795F8FF50>"
      ]
     },
     "execution_count": 8,
     "metadata": {},
     "output_type": "execute_result"
    }
   ],
   "source": [
    "im3_path = threes[1]\n",
    "im3 = Image.open(im3_path)\n",
    "im3"
   ]
  },
  {
   "cell_type": "code",
   "execution_count": 11,
   "id": "60b0cb4f",
   "metadata": {},
   "outputs": [
    {
     "data": {
      "text/plain": [
       "array([[  0,   0,   0,   0,   0,   0],\n",
       "       [  0,   0,   0,   0,   0,  29],\n",
       "       [  0,   0,   0,  48, 166, 224],\n",
       "       [  0,  93, 244, 249, 253, 187],\n",
       "       [  0, 107, 253, 253, 230,  48],\n",
       "       [  0,   3,  20,  20,  15,   0]], dtype=uint8)"
      ]
     },
     "execution_count": 11,
     "metadata": {},
     "output_type": "execute_result"
    }
   ],
   "source": [
    "array(im3)[4:10, 4:10]"
   ]
  },
  {
   "cell_type": "code",
   "execution_count": 12,
   "id": "e4559781",
   "metadata": {},
   "outputs": [
    {
     "data": {
      "text/html": [
       "<style  type=\"text/css\" >\n",
       "#T_4df7f_row0_col0,#T_4df7f_row0_col1,#T_4df7f_row0_col2,#T_4df7f_row0_col3,#T_4df7f_row0_col4,#T_4df7f_row0_col5,#T_4df7f_row0_col6,#T_4df7f_row0_col7,#T_4df7f_row0_col8,#T_4df7f_row0_col9,#T_4df7f_row0_col10,#T_4df7f_row0_col11,#T_4df7f_row0_col12,#T_4df7f_row0_col13,#T_4df7f_row0_col14,#T_4df7f_row0_col15,#T_4df7f_row0_col16,#T_4df7f_row0_col17,#T_4df7f_row1_col0,#T_4df7f_row1_col1,#T_4df7f_row1_col2,#T_4df7f_row1_col3,#T_4df7f_row1_col4,#T_4df7f_row1_col15,#T_4df7f_row1_col16,#T_4df7f_row1_col17,#T_4df7f_row2_col0,#T_4df7f_row2_col1,#T_4df7f_row2_col2,#T_4df7f_row2_col15,#T_4df7f_row2_col16,#T_4df7f_row2_col17,#T_4df7f_row3_col0,#T_4df7f_row3_col15,#T_4df7f_row3_col16,#T_4df7f_row3_col17,#T_4df7f_row4_col0,#T_4df7f_row4_col6,#T_4df7f_row4_col7,#T_4df7f_row4_col8,#T_4df7f_row4_col9,#T_4df7f_row4_col10,#T_4df7f_row4_col15,#T_4df7f_row4_col16,#T_4df7f_row4_col17,#T_4df7f_row5_col0,#T_4df7f_row5_col5,#T_4df7f_row5_col6,#T_4df7f_row5_col7,#T_4df7f_row5_col8,#T_4df7f_row5_col9,#T_4df7f_row5_col15,#T_4df7f_row5_col16,#T_4df7f_row5_col17,#T_4df7f_row6_col0,#T_4df7f_row6_col1,#T_4df7f_row6_col2,#T_4df7f_row6_col3,#T_4df7f_row6_col4,#T_4df7f_row6_col5,#T_4df7f_row6_col6,#T_4df7f_row6_col7,#T_4df7f_row6_col8,#T_4df7f_row6_col9,#T_4df7f_row6_col14,#T_4df7f_row6_col15,#T_4df7f_row6_col16,#T_4df7f_row6_col17,#T_4df7f_row7_col0,#T_4df7f_row7_col1,#T_4df7f_row7_col2,#T_4df7f_row7_col3,#T_4df7f_row7_col4,#T_4df7f_row7_col5,#T_4df7f_row7_col6,#T_4df7f_row7_col13,#T_4df7f_row7_col14,#T_4df7f_row7_col15,#T_4df7f_row7_col16,#T_4df7f_row7_col17,#T_4df7f_row8_col0,#T_4df7f_row8_col1,#T_4df7f_row8_col2,#T_4df7f_row8_col3,#T_4df7f_row8_col4,#T_4df7f_row8_col13,#T_4df7f_row8_col14,#T_4df7f_row8_col15,#T_4df7f_row8_col16,#T_4df7f_row8_col17,#T_4df7f_row9_col0,#T_4df7f_row9_col1,#T_4df7f_row9_col2,#T_4df7f_row9_col3,#T_4df7f_row9_col4,#T_4df7f_row9_col16,#T_4df7f_row9_col17,#T_4df7f_row10_col0,#T_4df7f_row10_col1,#T_4df7f_row10_col2,#T_4df7f_row10_col3,#T_4df7f_row10_col4,#T_4df7f_row10_col5,#T_4df7f_row10_col6,#T_4df7f_row10_col17{\n",
       "            font-size:  6pt;\n",
       "            background-color:  #ffffff;\n",
       "            color:  #000000;\n",
       "        }#T_4df7f_row1_col5{\n",
       "            font-size:  6pt;\n",
       "            background-color:  #efefef;\n",
       "            color:  #000000;\n",
       "        }#T_4df7f_row1_col6,#T_4df7f_row1_col13{\n",
       "            font-size:  6pt;\n",
       "            background-color:  #7c7c7c;\n",
       "            color:  #000000;\n",
       "        }#T_4df7f_row1_col7{\n",
       "            font-size:  6pt;\n",
       "            background-color:  #4a4a4a;\n",
       "            color:  #f1f1f1;\n",
       "        }#T_4df7f_row1_col8,#T_4df7f_row1_col9,#T_4df7f_row1_col10,#T_4df7f_row2_col5,#T_4df7f_row2_col6,#T_4df7f_row2_col7,#T_4df7f_row2_col11,#T_4df7f_row2_col12,#T_4df7f_row2_col13,#T_4df7f_row3_col4,#T_4df7f_row3_col12,#T_4df7f_row3_col13,#T_4df7f_row4_col1,#T_4df7f_row4_col2,#T_4df7f_row4_col3,#T_4df7f_row4_col12,#T_4df7f_row4_col13,#T_4df7f_row5_col12,#T_4df7f_row6_col11,#T_4df7f_row9_col11,#T_4df7f_row10_col11,#T_4df7f_row10_col12,#T_4df7f_row10_col13,#T_4df7f_row10_col14,#T_4df7f_row10_col15,#T_4df7f_row10_col16{\n",
       "            font-size:  6pt;\n",
       "            background-color:  #000000;\n",
       "            color:  #f1f1f1;\n",
       "        }#T_4df7f_row1_col11{\n",
       "            font-size:  6pt;\n",
       "            background-color:  #606060;\n",
       "            color:  #f1f1f1;\n",
       "        }#T_4df7f_row1_col12{\n",
       "            font-size:  6pt;\n",
       "            background-color:  #4d4d4d;\n",
       "            color:  #f1f1f1;\n",
       "        }#T_4df7f_row1_col14{\n",
       "            font-size:  6pt;\n",
       "            background-color:  #bbbbbb;\n",
       "            color:  #000000;\n",
       "        }#T_4df7f_row2_col3{\n",
       "            font-size:  6pt;\n",
       "            background-color:  #e4e4e4;\n",
       "            color:  #000000;\n",
       "        }#T_4df7f_row2_col4,#T_4df7f_row8_col6{\n",
       "            font-size:  6pt;\n",
       "            background-color:  #6b6b6b;\n",
       "            color:  #000000;\n",
       "        }#T_4df7f_row2_col8,#T_4df7f_row2_col14,#T_4df7f_row3_col14{\n",
       "            font-size:  6pt;\n",
       "            background-color:  #171717;\n",
       "            color:  #f1f1f1;\n",
       "        }#T_4df7f_row2_col9,#T_4df7f_row3_col11{\n",
       "            font-size:  6pt;\n",
       "            background-color:  #4b4b4b;\n",
       "            color:  #f1f1f1;\n",
       "        }#T_4df7f_row2_col10,#T_4df7f_row7_col10,#T_4df7f_row8_col8,#T_4df7f_row8_col10,#T_4df7f_row9_col8,#T_4df7f_row9_col10{\n",
       "            font-size:  6pt;\n",
       "            background-color:  #010101;\n",
       "            color:  #f1f1f1;\n",
       "        }#T_4df7f_row3_col1{\n",
       "            font-size:  6pt;\n",
       "            background-color:  #272727;\n",
       "            color:  #f1f1f1;\n",
       "        }#T_4df7f_row3_col2{\n",
       "            font-size:  6pt;\n",
       "            background-color:  #0a0a0a;\n",
       "            color:  #f1f1f1;\n",
       "        }#T_4df7f_row3_col3{\n",
       "            font-size:  6pt;\n",
       "            background-color:  #050505;\n",
       "            color:  #f1f1f1;\n",
       "        }#T_4df7f_row3_col5{\n",
       "            font-size:  6pt;\n",
       "            background-color:  #333333;\n",
       "            color:  #f1f1f1;\n",
       "        }#T_4df7f_row3_col6{\n",
       "            font-size:  6pt;\n",
       "            background-color:  #e6e6e6;\n",
       "            color:  #000000;\n",
       "        }#T_4df7f_row3_col7,#T_4df7f_row3_col10{\n",
       "            font-size:  6pt;\n",
       "            background-color:  #fafafa;\n",
       "            color:  #000000;\n",
       "        }#T_4df7f_row3_col8{\n",
       "            font-size:  6pt;\n",
       "            background-color:  #fbfbfb;\n",
       "            color:  #000000;\n",
       "        }#T_4df7f_row3_col9{\n",
       "            font-size:  6pt;\n",
       "            background-color:  #fdfdfd;\n",
       "            color:  #000000;\n",
       "        }#T_4df7f_row4_col4{\n",
       "            font-size:  6pt;\n",
       "            background-color:  #1b1b1b;\n",
       "            color:  #f1f1f1;\n",
       "        }#T_4df7f_row4_col5{\n",
       "            font-size:  6pt;\n",
       "            background-color:  #e0e0e0;\n",
       "            color:  #000000;\n",
       "        }#T_4df7f_row4_col11{\n",
       "            font-size:  6pt;\n",
       "            background-color:  #4e4e4e;\n",
       "            color:  #f1f1f1;\n",
       "        }#T_4df7f_row4_col14{\n",
       "            font-size:  6pt;\n",
       "            background-color:  #767676;\n",
       "            color:  #000000;\n",
       "        }#T_4df7f_row5_col1{\n",
       "            font-size:  6pt;\n",
       "            background-color:  #fcfcfc;\n",
       "            color:  #000000;\n",
       "        }#T_4df7f_row5_col2,#T_4df7f_row5_col3{\n",
       "            font-size:  6pt;\n",
       "            background-color:  #f6f6f6;\n",
       "            color:  #000000;\n",
       "        }#T_4df7f_row5_col4,#T_4df7f_row7_col7{\n",
       "            font-size:  6pt;\n",
       "            background-color:  #f8f8f8;\n",
       "            color:  #000000;\n",
       "        }#T_4df7f_row5_col10,#T_4df7f_row10_col7{\n",
       "            font-size:  6pt;\n",
       "            background-color:  #e8e8e8;\n",
       "            color:  #000000;\n",
       "        }#T_4df7f_row5_col11{\n",
       "            font-size:  6pt;\n",
       "            background-color:  #222222;\n",
       "            color:  #f1f1f1;\n",
       "        }#T_4df7f_row5_col13,#T_4df7f_row6_col12{\n",
       "            font-size:  6pt;\n",
       "            background-color:  #090909;\n",
       "            color:  #f1f1f1;\n",
       "        }#T_4df7f_row5_col14{\n",
       "            font-size:  6pt;\n",
       "            background-color:  #d0d0d0;\n",
       "            color:  #000000;\n",
       "        }#T_4df7f_row6_col10,#T_4df7f_row7_col11,#T_4df7f_row9_col6{\n",
       "            font-size:  6pt;\n",
       "            background-color:  #060606;\n",
       "            color:  #f1f1f1;\n",
       "        }#T_4df7f_row6_col13{\n",
       "            font-size:  6pt;\n",
       "            background-color:  #979797;\n",
       "            color:  #000000;\n",
       "        }#T_4df7f_row7_col8{\n",
       "            font-size:  6pt;\n",
       "            background-color:  #b6b6b6;\n",
       "            color:  #000000;\n",
       "        }#T_4df7f_row7_col9{\n",
       "            font-size:  6pt;\n",
       "            background-color:  #252525;\n",
       "            color:  #f1f1f1;\n",
       "        }#T_4df7f_row7_col12{\n",
       "            font-size:  6pt;\n",
       "            background-color:  #999999;\n",
       "            color:  #000000;\n",
       "        }#T_4df7f_row8_col5{\n",
       "            font-size:  6pt;\n",
       "            background-color:  #f9f9f9;\n",
       "            color:  #000000;\n",
       "        }#T_4df7f_row8_col7{\n",
       "            font-size:  6pt;\n",
       "            background-color:  #101010;\n",
       "            color:  #f1f1f1;\n",
       "        }#T_4df7f_row8_col9,#T_4df7f_row9_col9{\n",
       "            font-size:  6pt;\n",
       "            background-color:  #020202;\n",
       "            color:  #f1f1f1;\n",
       "        }#T_4df7f_row8_col11{\n",
       "            font-size:  6pt;\n",
       "            background-color:  #545454;\n",
       "            color:  #f1f1f1;\n",
       "        }#T_4df7f_row8_col12{\n",
       "            font-size:  6pt;\n",
       "            background-color:  #f1f1f1;\n",
       "            color:  #000000;\n",
       "        }#T_4df7f_row9_col5{\n",
       "            font-size:  6pt;\n",
       "            background-color:  #f7f7f7;\n",
       "            color:  #000000;\n",
       "        }#T_4df7f_row9_col7{\n",
       "            font-size:  6pt;\n",
       "            background-color:  #030303;\n",
       "            color:  #f1f1f1;\n",
       "        }#T_4df7f_row9_col12{\n",
       "            font-size:  6pt;\n",
       "            background-color:  #181818;\n",
       "            color:  #f1f1f1;\n",
       "        }#T_4df7f_row9_col13{\n",
       "            font-size:  6pt;\n",
       "            background-color:  #303030;\n",
       "            color:  #f1f1f1;\n",
       "        }#T_4df7f_row9_col14{\n",
       "            font-size:  6pt;\n",
       "            background-color:  #a9a9a9;\n",
       "            color:  #000000;\n",
       "        }#T_4df7f_row9_col15{\n",
       "            font-size:  6pt;\n",
       "            background-color:  #fefefe;\n",
       "            color:  #000000;\n",
       "        }#T_4df7f_row10_col8,#T_4df7f_row10_col9{\n",
       "            font-size:  6pt;\n",
       "            background-color:  #bababa;\n",
       "            color:  #000000;\n",
       "        }#T_4df7f_row10_col10{\n",
       "            font-size:  6pt;\n",
       "            background-color:  #393939;\n",
       "            color:  #f1f1f1;\n",
       "        }</style><table id=\"T_4df7f_\" ><thead>    <tr>        <th class=\"blank level0\" ></th>        <th class=\"col_heading level0 col0\" >0</th>        <th class=\"col_heading level0 col1\" >1</th>        <th class=\"col_heading level0 col2\" >2</th>        <th class=\"col_heading level0 col3\" >3</th>        <th class=\"col_heading level0 col4\" >4</th>        <th class=\"col_heading level0 col5\" >5</th>        <th class=\"col_heading level0 col6\" >6</th>        <th class=\"col_heading level0 col7\" >7</th>        <th class=\"col_heading level0 col8\" >8</th>        <th class=\"col_heading level0 col9\" >9</th>        <th class=\"col_heading level0 col10\" >10</th>        <th class=\"col_heading level0 col11\" >11</th>        <th class=\"col_heading level0 col12\" >12</th>        <th class=\"col_heading level0 col13\" >13</th>        <th class=\"col_heading level0 col14\" >14</th>        <th class=\"col_heading level0 col15\" >15</th>        <th class=\"col_heading level0 col16\" >16</th>        <th class=\"col_heading level0 col17\" >17</th>    </tr></thead><tbody>\n",
       "                <tr>\n",
       "                        <th id=\"T_4df7f_level0_row0\" class=\"row_heading level0 row0\" >0</th>\n",
       "                        <td id=\"T_4df7f_row0_col0\" class=\"data row0 col0\" >0</td>\n",
       "                        <td id=\"T_4df7f_row0_col1\" class=\"data row0 col1\" >0</td>\n",
       "                        <td id=\"T_4df7f_row0_col2\" class=\"data row0 col2\" >0</td>\n",
       "                        <td id=\"T_4df7f_row0_col3\" class=\"data row0 col3\" >0</td>\n",
       "                        <td id=\"T_4df7f_row0_col4\" class=\"data row0 col4\" >0</td>\n",
       "                        <td id=\"T_4df7f_row0_col5\" class=\"data row0 col5\" >0</td>\n",
       "                        <td id=\"T_4df7f_row0_col6\" class=\"data row0 col6\" >0</td>\n",
       "                        <td id=\"T_4df7f_row0_col7\" class=\"data row0 col7\" >0</td>\n",
       "                        <td id=\"T_4df7f_row0_col8\" class=\"data row0 col8\" >0</td>\n",
       "                        <td id=\"T_4df7f_row0_col9\" class=\"data row0 col9\" >0</td>\n",
       "                        <td id=\"T_4df7f_row0_col10\" class=\"data row0 col10\" >0</td>\n",
       "                        <td id=\"T_4df7f_row0_col11\" class=\"data row0 col11\" >0</td>\n",
       "                        <td id=\"T_4df7f_row0_col12\" class=\"data row0 col12\" >0</td>\n",
       "                        <td id=\"T_4df7f_row0_col13\" class=\"data row0 col13\" >0</td>\n",
       "                        <td id=\"T_4df7f_row0_col14\" class=\"data row0 col14\" >0</td>\n",
       "                        <td id=\"T_4df7f_row0_col15\" class=\"data row0 col15\" >0</td>\n",
       "                        <td id=\"T_4df7f_row0_col16\" class=\"data row0 col16\" >0</td>\n",
       "                        <td id=\"T_4df7f_row0_col17\" class=\"data row0 col17\" >0</td>\n",
       "            </tr>\n",
       "            <tr>\n",
       "                        <th id=\"T_4df7f_level0_row1\" class=\"row_heading level0 row1\" >1</th>\n",
       "                        <td id=\"T_4df7f_row1_col0\" class=\"data row1 col0\" >0</td>\n",
       "                        <td id=\"T_4df7f_row1_col1\" class=\"data row1 col1\" >0</td>\n",
       "                        <td id=\"T_4df7f_row1_col2\" class=\"data row1 col2\" >0</td>\n",
       "                        <td id=\"T_4df7f_row1_col3\" class=\"data row1 col3\" >0</td>\n",
       "                        <td id=\"T_4df7f_row1_col4\" class=\"data row1 col4\" >0</td>\n",
       "                        <td id=\"T_4df7f_row1_col5\" class=\"data row1 col5\" >29</td>\n",
       "                        <td id=\"T_4df7f_row1_col6\" class=\"data row1 col6\" >150</td>\n",
       "                        <td id=\"T_4df7f_row1_col7\" class=\"data row1 col7\" >195</td>\n",
       "                        <td id=\"T_4df7f_row1_col8\" class=\"data row1 col8\" >254</td>\n",
       "                        <td id=\"T_4df7f_row1_col9\" class=\"data row1 col9\" >255</td>\n",
       "                        <td id=\"T_4df7f_row1_col10\" class=\"data row1 col10\" >254</td>\n",
       "                        <td id=\"T_4df7f_row1_col11\" class=\"data row1 col11\" >176</td>\n",
       "                        <td id=\"T_4df7f_row1_col12\" class=\"data row1 col12\" >193</td>\n",
       "                        <td id=\"T_4df7f_row1_col13\" class=\"data row1 col13\" >150</td>\n",
       "                        <td id=\"T_4df7f_row1_col14\" class=\"data row1 col14\" >96</td>\n",
       "                        <td id=\"T_4df7f_row1_col15\" class=\"data row1 col15\" >0</td>\n",
       "                        <td id=\"T_4df7f_row1_col16\" class=\"data row1 col16\" >0</td>\n",
       "                        <td id=\"T_4df7f_row1_col17\" class=\"data row1 col17\" >0</td>\n",
       "            </tr>\n",
       "            <tr>\n",
       "                        <th id=\"T_4df7f_level0_row2\" class=\"row_heading level0 row2\" >2</th>\n",
       "                        <td id=\"T_4df7f_row2_col0\" class=\"data row2 col0\" >0</td>\n",
       "                        <td id=\"T_4df7f_row2_col1\" class=\"data row2 col1\" >0</td>\n",
       "                        <td id=\"T_4df7f_row2_col2\" class=\"data row2 col2\" >0</td>\n",
       "                        <td id=\"T_4df7f_row2_col3\" class=\"data row2 col3\" >48</td>\n",
       "                        <td id=\"T_4df7f_row2_col4\" class=\"data row2 col4\" >166</td>\n",
       "                        <td id=\"T_4df7f_row2_col5\" class=\"data row2 col5\" >224</td>\n",
       "                        <td id=\"T_4df7f_row2_col6\" class=\"data row2 col6\" >253</td>\n",
       "                        <td id=\"T_4df7f_row2_col7\" class=\"data row2 col7\" >253</td>\n",
       "                        <td id=\"T_4df7f_row2_col8\" class=\"data row2 col8\" >234</td>\n",
       "                        <td id=\"T_4df7f_row2_col9\" class=\"data row2 col9\" >196</td>\n",
       "                        <td id=\"T_4df7f_row2_col10\" class=\"data row2 col10\" >253</td>\n",
       "                        <td id=\"T_4df7f_row2_col11\" class=\"data row2 col11\" >253</td>\n",
       "                        <td id=\"T_4df7f_row2_col12\" class=\"data row2 col12\" >253</td>\n",
       "                        <td id=\"T_4df7f_row2_col13\" class=\"data row2 col13\" >253</td>\n",
       "                        <td id=\"T_4df7f_row2_col14\" class=\"data row2 col14\" >233</td>\n",
       "                        <td id=\"T_4df7f_row2_col15\" class=\"data row2 col15\" >0</td>\n",
       "                        <td id=\"T_4df7f_row2_col16\" class=\"data row2 col16\" >0</td>\n",
       "                        <td id=\"T_4df7f_row2_col17\" class=\"data row2 col17\" >0</td>\n",
       "            </tr>\n",
       "            <tr>\n",
       "                        <th id=\"T_4df7f_level0_row3\" class=\"row_heading level0 row3\" >3</th>\n",
       "                        <td id=\"T_4df7f_row3_col0\" class=\"data row3 col0\" >0</td>\n",
       "                        <td id=\"T_4df7f_row3_col1\" class=\"data row3 col1\" >93</td>\n",
       "                        <td id=\"T_4df7f_row3_col2\" class=\"data row3 col2\" >244</td>\n",
       "                        <td id=\"T_4df7f_row3_col3\" class=\"data row3 col3\" >249</td>\n",
       "                        <td id=\"T_4df7f_row3_col4\" class=\"data row3 col4\" >253</td>\n",
       "                        <td id=\"T_4df7f_row3_col5\" class=\"data row3 col5\" >187</td>\n",
       "                        <td id=\"T_4df7f_row3_col6\" class=\"data row3 col6\" >46</td>\n",
       "                        <td id=\"T_4df7f_row3_col7\" class=\"data row3 col7\" >10</td>\n",
       "                        <td id=\"T_4df7f_row3_col8\" class=\"data row3 col8\" >8</td>\n",
       "                        <td id=\"T_4df7f_row3_col9\" class=\"data row3 col9\" >4</td>\n",
       "                        <td id=\"T_4df7f_row3_col10\" class=\"data row3 col10\" >10</td>\n",
       "                        <td id=\"T_4df7f_row3_col11\" class=\"data row3 col11\" >194</td>\n",
       "                        <td id=\"T_4df7f_row3_col12\" class=\"data row3 col12\" >253</td>\n",
       "                        <td id=\"T_4df7f_row3_col13\" class=\"data row3 col13\" >253</td>\n",
       "                        <td id=\"T_4df7f_row3_col14\" class=\"data row3 col14\" >233</td>\n",
       "                        <td id=\"T_4df7f_row3_col15\" class=\"data row3 col15\" >0</td>\n",
       "                        <td id=\"T_4df7f_row3_col16\" class=\"data row3 col16\" >0</td>\n",
       "                        <td id=\"T_4df7f_row3_col17\" class=\"data row3 col17\" >0</td>\n",
       "            </tr>\n",
       "            <tr>\n",
       "                        <th id=\"T_4df7f_level0_row4\" class=\"row_heading level0 row4\" >4</th>\n",
       "                        <td id=\"T_4df7f_row4_col0\" class=\"data row4 col0\" >0</td>\n",
       "                        <td id=\"T_4df7f_row4_col1\" class=\"data row4 col1\" >107</td>\n",
       "                        <td id=\"T_4df7f_row4_col2\" class=\"data row4 col2\" >253</td>\n",
       "                        <td id=\"T_4df7f_row4_col3\" class=\"data row4 col3\" >253</td>\n",
       "                        <td id=\"T_4df7f_row4_col4\" class=\"data row4 col4\" >230</td>\n",
       "                        <td id=\"T_4df7f_row4_col5\" class=\"data row4 col5\" >48</td>\n",
       "                        <td id=\"T_4df7f_row4_col6\" class=\"data row4 col6\" >0</td>\n",
       "                        <td id=\"T_4df7f_row4_col7\" class=\"data row4 col7\" >0</td>\n",
       "                        <td id=\"T_4df7f_row4_col8\" class=\"data row4 col8\" >0</td>\n",
       "                        <td id=\"T_4df7f_row4_col9\" class=\"data row4 col9\" >0</td>\n",
       "                        <td id=\"T_4df7f_row4_col10\" class=\"data row4 col10\" >0</td>\n",
       "                        <td id=\"T_4df7f_row4_col11\" class=\"data row4 col11\" >192</td>\n",
       "                        <td id=\"T_4df7f_row4_col12\" class=\"data row4 col12\" >253</td>\n",
       "                        <td id=\"T_4df7f_row4_col13\" class=\"data row4 col13\" >253</td>\n",
       "                        <td id=\"T_4df7f_row4_col14\" class=\"data row4 col14\" >156</td>\n",
       "                        <td id=\"T_4df7f_row4_col15\" class=\"data row4 col15\" >0</td>\n",
       "                        <td id=\"T_4df7f_row4_col16\" class=\"data row4 col16\" >0</td>\n",
       "                        <td id=\"T_4df7f_row4_col17\" class=\"data row4 col17\" >0</td>\n",
       "            </tr>\n",
       "            <tr>\n",
       "                        <th id=\"T_4df7f_level0_row5\" class=\"row_heading level0 row5\" >5</th>\n",
       "                        <td id=\"T_4df7f_row5_col0\" class=\"data row5 col0\" >0</td>\n",
       "                        <td id=\"T_4df7f_row5_col1\" class=\"data row5 col1\" >3</td>\n",
       "                        <td id=\"T_4df7f_row5_col2\" class=\"data row5 col2\" >20</td>\n",
       "                        <td id=\"T_4df7f_row5_col3\" class=\"data row5 col3\" >20</td>\n",
       "                        <td id=\"T_4df7f_row5_col4\" class=\"data row5 col4\" >15</td>\n",
       "                        <td id=\"T_4df7f_row5_col5\" class=\"data row5 col5\" >0</td>\n",
       "                        <td id=\"T_4df7f_row5_col6\" class=\"data row5 col6\" >0</td>\n",
       "                        <td id=\"T_4df7f_row5_col7\" class=\"data row5 col7\" >0</td>\n",
       "                        <td id=\"T_4df7f_row5_col8\" class=\"data row5 col8\" >0</td>\n",
       "                        <td id=\"T_4df7f_row5_col9\" class=\"data row5 col9\" >0</td>\n",
       "                        <td id=\"T_4df7f_row5_col10\" class=\"data row5 col10\" >43</td>\n",
       "                        <td id=\"T_4df7f_row5_col11\" class=\"data row5 col11\" >224</td>\n",
       "                        <td id=\"T_4df7f_row5_col12\" class=\"data row5 col12\" >253</td>\n",
       "                        <td id=\"T_4df7f_row5_col13\" class=\"data row5 col13\" >245</td>\n",
       "                        <td id=\"T_4df7f_row5_col14\" class=\"data row5 col14\" >74</td>\n",
       "                        <td id=\"T_4df7f_row5_col15\" class=\"data row5 col15\" >0</td>\n",
       "                        <td id=\"T_4df7f_row5_col16\" class=\"data row5 col16\" >0</td>\n",
       "                        <td id=\"T_4df7f_row5_col17\" class=\"data row5 col17\" >0</td>\n",
       "            </tr>\n",
       "            <tr>\n",
       "                        <th id=\"T_4df7f_level0_row6\" class=\"row_heading level0 row6\" >6</th>\n",
       "                        <td id=\"T_4df7f_row6_col0\" class=\"data row6 col0\" >0</td>\n",
       "                        <td id=\"T_4df7f_row6_col1\" class=\"data row6 col1\" >0</td>\n",
       "                        <td id=\"T_4df7f_row6_col2\" class=\"data row6 col2\" >0</td>\n",
       "                        <td id=\"T_4df7f_row6_col3\" class=\"data row6 col3\" >0</td>\n",
       "                        <td id=\"T_4df7f_row6_col4\" class=\"data row6 col4\" >0</td>\n",
       "                        <td id=\"T_4df7f_row6_col5\" class=\"data row6 col5\" >0</td>\n",
       "                        <td id=\"T_4df7f_row6_col6\" class=\"data row6 col6\" >0</td>\n",
       "                        <td id=\"T_4df7f_row6_col7\" class=\"data row6 col7\" >0</td>\n",
       "                        <td id=\"T_4df7f_row6_col8\" class=\"data row6 col8\" >0</td>\n",
       "                        <td id=\"T_4df7f_row6_col9\" class=\"data row6 col9\" >0</td>\n",
       "                        <td id=\"T_4df7f_row6_col10\" class=\"data row6 col10\" >249</td>\n",
       "                        <td id=\"T_4df7f_row6_col11\" class=\"data row6 col11\" >253</td>\n",
       "                        <td id=\"T_4df7f_row6_col12\" class=\"data row6 col12\" >245</td>\n",
       "                        <td id=\"T_4df7f_row6_col13\" class=\"data row6 col13\" >126</td>\n",
       "                        <td id=\"T_4df7f_row6_col14\" class=\"data row6 col14\" >0</td>\n",
       "                        <td id=\"T_4df7f_row6_col15\" class=\"data row6 col15\" >0</td>\n",
       "                        <td id=\"T_4df7f_row6_col16\" class=\"data row6 col16\" >0</td>\n",
       "                        <td id=\"T_4df7f_row6_col17\" class=\"data row6 col17\" >0</td>\n",
       "            </tr>\n",
       "            <tr>\n",
       "                        <th id=\"T_4df7f_level0_row7\" class=\"row_heading level0 row7\" >7</th>\n",
       "                        <td id=\"T_4df7f_row7_col0\" class=\"data row7 col0\" >0</td>\n",
       "                        <td id=\"T_4df7f_row7_col1\" class=\"data row7 col1\" >0</td>\n",
       "                        <td id=\"T_4df7f_row7_col2\" class=\"data row7 col2\" >0</td>\n",
       "                        <td id=\"T_4df7f_row7_col3\" class=\"data row7 col3\" >0</td>\n",
       "                        <td id=\"T_4df7f_row7_col4\" class=\"data row7 col4\" >0</td>\n",
       "                        <td id=\"T_4df7f_row7_col5\" class=\"data row7 col5\" >0</td>\n",
       "                        <td id=\"T_4df7f_row7_col6\" class=\"data row7 col6\" >0</td>\n",
       "                        <td id=\"T_4df7f_row7_col7\" class=\"data row7 col7\" >14</td>\n",
       "                        <td id=\"T_4df7f_row7_col8\" class=\"data row7 col8\" >101</td>\n",
       "                        <td id=\"T_4df7f_row7_col9\" class=\"data row7 col9\" >223</td>\n",
       "                        <td id=\"T_4df7f_row7_col10\" class=\"data row7 col10\" >253</td>\n",
       "                        <td id=\"T_4df7f_row7_col11\" class=\"data row7 col11\" >248</td>\n",
       "                        <td id=\"T_4df7f_row7_col12\" class=\"data row7 col12\" >124</td>\n",
       "                        <td id=\"T_4df7f_row7_col13\" class=\"data row7 col13\" >0</td>\n",
       "                        <td id=\"T_4df7f_row7_col14\" class=\"data row7 col14\" >0</td>\n",
       "                        <td id=\"T_4df7f_row7_col15\" class=\"data row7 col15\" >0</td>\n",
       "                        <td id=\"T_4df7f_row7_col16\" class=\"data row7 col16\" >0</td>\n",
       "                        <td id=\"T_4df7f_row7_col17\" class=\"data row7 col17\" >0</td>\n",
       "            </tr>\n",
       "            <tr>\n",
       "                        <th id=\"T_4df7f_level0_row8\" class=\"row_heading level0 row8\" >8</th>\n",
       "                        <td id=\"T_4df7f_row8_col0\" class=\"data row8 col0\" >0</td>\n",
       "                        <td id=\"T_4df7f_row8_col1\" class=\"data row8 col1\" >0</td>\n",
       "                        <td id=\"T_4df7f_row8_col2\" class=\"data row8 col2\" >0</td>\n",
       "                        <td id=\"T_4df7f_row8_col3\" class=\"data row8 col3\" >0</td>\n",
       "                        <td id=\"T_4df7f_row8_col4\" class=\"data row8 col4\" >0</td>\n",
       "                        <td id=\"T_4df7f_row8_col5\" class=\"data row8 col5\" >11</td>\n",
       "                        <td id=\"T_4df7f_row8_col6\" class=\"data row8 col6\" >166</td>\n",
       "                        <td id=\"T_4df7f_row8_col7\" class=\"data row8 col7\" >239</td>\n",
       "                        <td id=\"T_4df7f_row8_col8\" class=\"data row8 col8\" >253</td>\n",
       "                        <td id=\"T_4df7f_row8_col9\" class=\"data row8 col9\" >253</td>\n",
       "                        <td id=\"T_4df7f_row8_col10\" class=\"data row8 col10\" >253</td>\n",
       "                        <td id=\"T_4df7f_row8_col11\" class=\"data row8 col11\" >187</td>\n",
       "                        <td id=\"T_4df7f_row8_col12\" class=\"data row8 col12\" >30</td>\n",
       "                        <td id=\"T_4df7f_row8_col13\" class=\"data row8 col13\" >0</td>\n",
       "                        <td id=\"T_4df7f_row8_col14\" class=\"data row8 col14\" >0</td>\n",
       "                        <td id=\"T_4df7f_row8_col15\" class=\"data row8 col15\" >0</td>\n",
       "                        <td id=\"T_4df7f_row8_col16\" class=\"data row8 col16\" >0</td>\n",
       "                        <td id=\"T_4df7f_row8_col17\" class=\"data row8 col17\" >0</td>\n",
       "            </tr>\n",
       "            <tr>\n",
       "                        <th id=\"T_4df7f_level0_row9\" class=\"row_heading level0 row9\" >9</th>\n",
       "                        <td id=\"T_4df7f_row9_col0\" class=\"data row9 col0\" >0</td>\n",
       "                        <td id=\"T_4df7f_row9_col1\" class=\"data row9 col1\" >0</td>\n",
       "                        <td id=\"T_4df7f_row9_col2\" class=\"data row9 col2\" >0</td>\n",
       "                        <td id=\"T_4df7f_row9_col3\" class=\"data row9 col3\" >0</td>\n",
       "                        <td id=\"T_4df7f_row9_col4\" class=\"data row9 col4\" >0</td>\n",
       "                        <td id=\"T_4df7f_row9_col5\" class=\"data row9 col5\" >16</td>\n",
       "                        <td id=\"T_4df7f_row9_col6\" class=\"data row9 col6\" >248</td>\n",
       "                        <td id=\"T_4df7f_row9_col7\" class=\"data row9 col7\" >250</td>\n",
       "                        <td id=\"T_4df7f_row9_col8\" class=\"data row9 col8\" >253</td>\n",
       "                        <td id=\"T_4df7f_row9_col9\" class=\"data row9 col9\" >253</td>\n",
       "                        <td id=\"T_4df7f_row9_col10\" class=\"data row9 col10\" >253</td>\n",
       "                        <td id=\"T_4df7f_row9_col11\" class=\"data row9 col11\" >253</td>\n",
       "                        <td id=\"T_4df7f_row9_col12\" class=\"data row9 col12\" >232</td>\n",
       "                        <td id=\"T_4df7f_row9_col13\" class=\"data row9 col13\" >213</td>\n",
       "                        <td id=\"T_4df7f_row9_col14\" class=\"data row9 col14\" >111</td>\n",
       "                        <td id=\"T_4df7f_row9_col15\" class=\"data row9 col15\" >2</td>\n",
       "                        <td id=\"T_4df7f_row9_col16\" class=\"data row9 col16\" >0</td>\n",
       "                        <td id=\"T_4df7f_row9_col17\" class=\"data row9 col17\" >0</td>\n",
       "            </tr>\n",
       "            <tr>\n",
       "                        <th id=\"T_4df7f_level0_row10\" class=\"row_heading level0 row10\" >10</th>\n",
       "                        <td id=\"T_4df7f_row10_col0\" class=\"data row10 col0\" >0</td>\n",
       "                        <td id=\"T_4df7f_row10_col1\" class=\"data row10 col1\" >0</td>\n",
       "                        <td id=\"T_4df7f_row10_col2\" class=\"data row10 col2\" >0</td>\n",
       "                        <td id=\"T_4df7f_row10_col3\" class=\"data row10 col3\" >0</td>\n",
       "                        <td id=\"T_4df7f_row10_col4\" class=\"data row10 col4\" >0</td>\n",
       "                        <td id=\"T_4df7f_row10_col5\" class=\"data row10 col5\" >0</td>\n",
       "                        <td id=\"T_4df7f_row10_col6\" class=\"data row10 col6\" >0</td>\n",
       "                        <td id=\"T_4df7f_row10_col7\" class=\"data row10 col7\" >43</td>\n",
       "                        <td id=\"T_4df7f_row10_col8\" class=\"data row10 col8\" >98</td>\n",
       "                        <td id=\"T_4df7f_row10_col9\" class=\"data row10 col9\" >98</td>\n",
       "                        <td id=\"T_4df7f_row10_col10\" class=\"data row10 col10\" >208</td>\n",
       "                        <td id=\"T_4df7f_row10_col11\" class=\"data row10 col11\" >253</td>\n",
       "                        <td id=\"T_4df7f_row10_col12\" class=\"data row10 col12\" >253</td>\n",
       "                        <td id=\"T_4df7f_row10_col13\" class=\"data row10 col13\" >253</td>\n",
       "                        <td id=\"T_4df7f_row10_col14\" class=\"data row10 col14\" >253</td>\n",
       "                        <td id=\"T_4df7f_row10_col15\" class=\"data row10 col15\" >187</td>\n",
       "                        <td id=\"T_4df7f_row10_col16\" class=\"data row10 col16\" >22</td>\n",
       "                        <td id=\"T_4df7f_row10_col17\" class=\"data row10 col17\" >0</td>\n",
       "            </tr>\n",
       "    </tbody></table>"
      ],
      "text/plain": [
       "<pandas.io.formats.style.Styler at 0x7f780e972950>"
      ]
     },
     "execution_count": 12,
     "metadata": {},
     "output_type": "execute_result"
    }
   ],
   "source": [
    "im3_t = tensor(im3)\n",
    "df = pd.DataFrame(im3_t[4:15,4:22])\n",
    "df.style.set_properties(**{'font-size':'6pt'}).background_gradient('Greys')"
   ]
  },
  {
   "cell_type": "code",
   "execution_count": 13,
   "id": "5c191636",
   "metadata": {},
   "outputs": [
    {
     "data": {
      "text/plain": [
       "(6131, 6265)"
      ]
     },
     "execution_count": 13,
     "metadata": {},
     "output_type": "execute_result"
    }
   ],
   "source": [
    "seven_tensors = [tensor(Image.open(o)) for o in sevens]\n",
    "three_tensors = [tensor(Image.open(o)) for o in threes]\n",
    "len(three_tensors), len(seven_tensors)"
   ]
  },
  {
   "cell_type": "code",
   "execution_count": 14,
   "id": "6b4f3327",
   "metadata": {},
   "outputs": [
    {
     "data": {
      "text/plain": [
       "<AxesSubplot:>"
      ]
     },
     "execution_count": 14,
     "metadata": {},
     "output_type": "execute_result"
    },
    {
     "data": {
      "image/png": "[encoded data removed]",
      "text/plain": [
       "<Figure size 72x72 with 1 Axes>"
      ]
     },
     "metadata": {
      "needs_background": "light"
     },
     "output_type": "display_data"
    }
   ],
   "source": [
    "# fastai function show_image needed, since we now have tensors\n",
    "# jupyter defaults to showing tensors as printed values\n",
    "show_image(three_tensors[20])"
   ]
  },
  {
   "cell_type": "code",
   "execution_count": 16,
   "id": "bbdfe09d",
   "metadata": {},
   "outputs": [
    {
     "data": {
      "text/plain": [
       "torch.Size([6131, 28, 28])"
      ]
     },
     "execution_count": 16,
     "metadata": {},
     "output_type": "execute_result"
    }
   ],
   "source": [
    "# combine all the images in a list into a three-dim tensor\n",
    "stacked_sevens = torch.stack(seven_tensors).float()/255\n",
    "stacked_threes = torch.stack(three_tensors).float()/255\n",
    "stacked_threes.shape # 6131 images, each of size 28x28 pixels"
   ]
  },
  {
   "cell_type": "code",
   "execution_count": 17,
   "id": "933d922f",
   "metadata": {},
   "outputs": [
    {
     "data": {
      "text/plain": [
       "3"
      ]
     },
     "execution_count": 17,
     "metadata": {},
     "output_type": "execute_result"
    }
   ],
   "source": [
    "# length of a tensor's shape is its rank\n",
    "len(stacked_threes.shape) # rank is the number of dimensions in a tensor"
   ]
  },
  {
   "cell_type": "code",
   "execution_count": 18,
   "id": "0c49aaf8",
   "metadata": {},
   "outputs": [
    {
     "data": {
      "text/plain": [
       "3"
      ]
     },
     "execution_count": 18,
     "metadata": {},
     "output_type": "execute_result"
    }
   ],
   "source": [
    "# can also get rank directly\n",
    "stacked_threes.ndim"
   ]
  },
  {
   "cell_type": "code",
   "execution_count": 19,
   "id": "cad36d9f",
   "metadata": {},
   "outputs": [
    {
     "data": {
      "image/png": "[encoded data removed]",
      "text/plain": [
       "<Figure size 72x72 with 1 Axes>"
      ]
     },
     "metadata": {
      "needs_background": "light"
     },
     "output_type": "display_data"
    }
   ],
   "source": [
    "# calculate mean of all image tensors by taking mean along dimension 0\n",
    "mean3 = stacked_threes.mean(0)\n",
    "show_image(mean3);"
   ]
  },
  {
   "cell_type": "code",
   "execution_count": 20,
   "id": "e4f5b8a7",
   "metadata": {},
   "outputs": [
    {
     "data": {
      "image/png": "[encoded data removed]",
      "text/plain": [
       "<Figure size 72x72 with 1 Axes>"
      ]
     },
     "metadata": {
      "needs_background": "light"
     },
     "output_type": "display_data"
    }
   ],
   "source": [
    "mean7 = stacked_sevens.mean(0)\n",
    "show_image(mean7);"
   ]
  },
  {
   "cell_type": "code",
   "execution_count": 22,
   "id": "84dc8c5a",
   "metadata": {},
   "outputs": [
    {
     "data": {
      "image/png": "[encoded data removed]",
      "text/plain": [
       "<Figure size 72x72 with 1 Axes>"
      ]
     },
     "metadata": {
      "needs_background": "light"
     },
     "output_type": "display_data"
    }
   ],
   "source": [
    "# sample 3\n",
    "a_3 = stacked_threes[10]\n",
    "show_image(a_3);"
   ]
  },
  {
   "cell_type": "code",
   "execution_count": 23,
   "id": "02cc8a1c",
   "metadata": {},
   "outputs": [
    {
     "data": {
      "text/plain": [
       "(tensor(0.1100), tensor(0.2018))"
      ]
     },
     "execution_count": 23,
     "metadata": {},
     "output_type": "execute_result"
    }
   ],
   "source": [
    "# try both L1 and L2 norm\n",
    "dist_3_abs = (a_3 - mean3).abs().mean()\n",
    "dist_3_sqr = ((a_3 - mean3)**2).mean().sqrt()\n",
    "dist_3_abs, dist_3_sqr"
   ]
  },
  {
   "cell_type": "code",
   "execution_count": 24,
   "id": "126f42e4",
   "metadata": {},
   "outputs": [
    {
     "data": {
      "text/plain": [
       "(tensor(0.1556), tensor(0.2989))"
      ]
     },
     "execution_count": 24,
     "metadata": {},
     "output_type": "execute_result"
    }
   ],
   "source": [
    "dist_7_abs = (a_3 - mean7).abs().mean()\n",
    "dist_7_sqr = ((a_3 - mean7)**2).mean().sqrt()\n",
    "dist_7_abs,dist_7_sqr"
   ]
  },
  {
   "cell_type": "code",
   "execution_count": 25,
   "id": "5a14e99f",
   "metadata": {},
   "outputs": [
    {
     "data": {
      "text/plain": [
       "(tensor(0.1556), tensor(0.2989))"
      ]
     },
     "execution_count": 25,
     "metadata": {},
     "output_type": "execute_result"
    }
   ],
   "source": [
    "# pytorch already provides these as loss functions\n",
    "# available under torch.nn.functional, imported as F\n",
    "F.l1_loss(a_3.float(), mean7), F.mse_loss(a_3, mean7).sqrt()"
   ]
  },
  {
   "cell_type": "code",
   "execution_count": 26,
   "id": "b5a10902",
   "metadata": {},
   "outputs": [],
   "source": [
    "data = [[1,2,3],[4,5,6]]\n",
    "arr = array(data)\n",
    "tns = tensor(data)"
   ]
  },
  {
   "cell_type": "code",
   "execution_count": 27,
   "id": "1ed8b17e",
   "metadata": {},
   "outputs": [
    {
     "data": {
      "text/plain": [
       "array([[1, 2, 3],\n",
       "       [4, 5, 6]])"
      ]
     },
     "execution_count": 27,
     "metadata": {},
     "output_type": "execute_result"
    }
   ],
   "source": [
    "arr"
   ]
  },
  {
   "cell_type": "code",
   "execution_count": 28,
   "id": "c2d06419",
   "metadata": {},
   "outputs": [
    {
     "data": {
      "text/plain": [
       "tensor([[1, 2, 3],\n",
       "        [4, 5, 6]])"
      ]
     },
     "execution_count": 28,
     "metadata": {},
     "output_type": "execute_result"
    }
   ],
   "source": [
    "tns"
   ]
  },
  {
   "cell_type": "code",
   "execution_count": 31,
   "id": "12acd3a9",
   "metadata": {},
   "outputs": [
    {
     "data": {
      "text/plain": [
       "tensor(6)"
      ]
     },
     "execution_count": 31,
     "metadata": {},
     "output_type": "execute_result"
    }
   ],
   "source": [
    "tns[1,2]"
   ]
  },
  {
   "cell_type": "code",
   "execution_count": 30,
   "id": "98598ea5",
   "metadata": {},
   "outputs": [
    {
     "data": {
      "text/plain": [
       "tensor([2, 5])"
      ]
     },
     "execution_count": 30,
     "metadata": {},
     "output_type": "execute_result"
    }
   ],
   "source": [
    "tns[:,1]"
   ]
  },
  {
   "cell_type": "code",
   "execution_count": 32,
   "id": "318e5163",
   "metadata": {},
   "outputs": [
    {
     "data": {
      "text/plain": [
       "'torch.LongTensor'"
      ]
     },
     "execution_count": 32,
     "metadata": {},
     "output_type": "execute_result"
    }
   ],
   "source": [
    "tns.type()"
   ]
  },
  {
   "cell_type": "code",
   "execution_count": 33,
   "id": "5f8c346f",
   "metadata": {},
   "outputs": [
    {
     "data": {
      "text/plain": [
       "(torch.Size([1010, 28, 28]), torch.Size([1028, 28, 28]))"
      ]
     },
     "execution_count": 33,
     "metadata": {},
     "output_type": "execute_result"
    }
   ],
   "source": [
    "# create a validation set from directory\n",
    "valid_3_tens = torch.stack([tensor(Image.open(o)) for o in (path/'valid'/'3').ls()])\n",
    "valid_3_tens = valid_3_tens.float()/255\n",
    "valid_7_tens = torch.stack([tensor(Image.open(o)) \n",
    "                            for o in (path/'valid'/'7').ls()])\n",
    "valid_7_tens = valid_7_tens.float()/255\n",
    "valid_3_tens.shape,valid_7_tens.shape"
   ]
  },
  {
   "cell_type": "code",
   "execution_count": 35,
   "id": "38de38cd",
   "metadata": {},
   "outputs": [
    {
     "data": {
      "text/plain": [
       "tensor(0.1100)"
      ]
     },
     "execution_count": 35,
     "metadata": {},
     "output_type": "execute_result"
    }
   ],
   "source": [
    "# calculates mean absolute error\n",
    "def mnist_distance(a,b): return (a-b).abs().mean((-1,-2))\n",
    "mnist_distance(a_3, mean3)"
   ]
  },
  {
   "cell_type": "code",
   "execution_count": 36,
   "id": "5d01eb12",
   "metadata": {},
   "outputs": [
    {
     "data": {
      "text/plain": [
       "(tensor([0.1261, 0.1198, 0.1818,  ..., 0.1426, 0.1623, 0.1440]),\n",
       " torch.Size([1010]))"
      ]
     },
     "execution_count": 36,
     "metadata": {},
     "output_type": "execute_result"
    }
   ],
   "source": [
    "# broadcasting\n",
    "valid_3_dist = mnist_distance(valid_3_tens, mean3)\n",
    "valid_3_dist, valid_3_dist.shape"
   ]
  },
  {
   "cell_type": "code",
   "execution_count": 37,
   "id": "48a65824",
   "metadata": {},
   "outputs": [],
   "source": [
    "def is_3(x): return mnist_distance(x, mean3) < mnist_distance(x, mean7)"
   ]
  },
  {
   "cell_type": "code",
   "execution_count": 38,
   "id": "6efc549a",
   "metadata": {},
   "outputs": [
    {
     "data": {
      "text/plain": [
       "(tensor(True), tensor(1.))"
      ]
     },
     "execution_count": 38,
     "metadata": {},
     "output_type": "execute_result"
    }
   ],
   "source": [
    "is_3(a_3), is_3(a_3).float()"
   ]
  },
  {
   "cell_type": "code",
   "execution_count": 39,
   "id": "d26f53da",
   "metadata": {},
   "outputs": [
    {
     "data": {
      "text/plain": [
       "tensor([ True,  True, False,  ...,  True,  True,  True])"
      ]
     },
     "execution_count": 39,
     "metadata": {},
     "output_type": "execute_result"
    }
   ],
   "source": [
    "is_3(valid_3_tens)"
   ]
  },
  {
   "cell_type": "code",
   "execution_count": 41,
   "id": "21a5f1d3",
   "metadata": {},
   "outputs": [
    {
     "data": {
      "text/plain": [
       "(tensor(0.9168), tensor(0.9854), tensor(0.9511))"
      ]
     },
     "execution_count": 41,
     "metadata": {},
     "output_type": "execute_result"
    }
   ],
   "source": [
    "accuracy_3s = is_3(valid_3_tens).float().mean()\n",
    "accuracy_7s = (1 - is_3(valid_7_tens).float()).mean()\n",
    "accuracy_3s,accuracy_7s,(accuracy_3s+accuracy_7s)/2"
   ]
  },
  {
   "cell_type": "code",
   "execution_count": 42,
   "id": "cfda14ff",
   "metadata": {},
   "outputs": [],
   "source": [
    "xt = tensor(3.).requires_grad_()\n",
    "# tags the varibale, so pytorch will remember to keep track of how to compute gradients"
   ]
  },
  {
   "cell_type": "code",
   "execution_count": 43,
   "id": "628b51b9",
   "metadata": {},
   "outputs": [],
   "source": [
    "def f(x): return x**2"
   ]
  },
  {
   "cell_type": "code",
   "execution_count": 44,
   "id": "bcfdfe9f",
   "metadata": {},
   "outputs": [
    {
     "data": {
      "text/plain": [
       "tensor(9., grad_fn=<PowBackward0>)"
      ]
     },
     "execution_count": 44,
     "metadata": {},
     "output_type": "execute_result"
    }
   ],
   "source": [
    "yt = f(xt)\n",
    "yt"
   ]
  },
  {
   "cell_type": "code",
   "execution_count": 45,
   "id": "595a3a7e",
   "metadata": {},
   "outputs": [],
   "source": [
    "yt.backward()"
   ]
  },
  {
   "cell_type": "code",
   "execution_count": 46,
   "id": "5516de1d",
   "metadata": {},
   "outputs": [
    {
     "data": {
      "text/plain": [
       "tensor(6.)"
      ]
     },
     "execution_count": 46,
     "metadata": {},
     "output_type": "execute_result"
    }
   ],
   "source": [
    "xt.grad"
   ]
  },
  {
   "cell_type": "markdown",
   "id": "8257d08a",
   "metadata": {},
   "source": [
    "## End-to-end SGD example"
   ]
  },
  {
   "cell_type": "code",
   "execution_count": 87,
   "id": "2a9070a3",
   "metadata": {},
   "outputs": [
    {
     "data": {
      "text/plain": [
       "tensor([ 0.,  1.,  2.,  3.,  4.,  5.,  6.,  7.,  8.,  9., 10., 11., 12., 13., 14., 15., 16., 17., 18., 19.])"
      ]
     },
     "execution_count": 87,
     "metadata": {},
     "output_type": "execute_result"
    }
   ],
   "source": [
    "time = torch.arange(0,20).float(); time"
   ]
  },
  {
   "cell_type": "code",
   "execution_count": 88,
   "id": "c53d8c54",
   "metadata": {},
   "outputs": [
    {
     "data": {
      "image/png": "[encoded data removed]",
      "text/plain": [
       "<Figure size 432x288 with 1 Axes>"
      ]
     },
     "metadata": {
      "needs_background": "light"
     },
     "output_type": "display_data"
    }
   ],
   "source": [
    "speed = torch.randn(20)*3 + 0.75*(time-9.5)**2 + 1\n",
    "plt.scatter(time, speed);"
   ]
  },
  {
   "cell_type": "code",
   "execution_count": 89,
   "id": "f2001927",
   "metadata": {},
   "outputs": [],
   "source": [
    "# restricted capacity to quadratic function, need to find parameters a,b,c\n",
    "def f(t, params):\n",
    "    a,b,c = params\n",
    "    return a*(t**2) + (b*t) + c"
   ]
  },
  {
   "cell_type": "code",
   "execution_count": 90,
   "id": "b0fbf74b",
   "metadata": {},
   "outputs": [],
   "source": [
    "def mse(preds, targets): return ((preds - targets)**2).mean().sqrt()"
   ]
  },
  {
   "cell_type": "code",
   "execution_count": 91,
   "id": "1a5a31f2",
   "metadata": {},
   "outputs": [
    {
     "data": {
      "text/plain": [
       "tensor([-0.7409,  0.3618,  1.9199], requires_grad=True)"
      ]
     },
     "execution_count": 91,
     "metadata": {},
     "output_type": "execute_result"
    }
   ],
   "source": [
    "# initialise parameters\n",
    "params = torch.randn(3).requires_grad_()\n",
    "params"
   ]
  },
  {
   "cell_type": "code",
   "execution_count": 92,
   "id": "365da9ce",
   "metadata": {},
   "outputs": [
    {
     "data": {
      "text/plain": [
       "<matplotlib.collections.PathCollection at 0x7f77949cbed0>"
      ]
     },
     "execution_count": 92,
     "metadata": {},
     "output_type": "execute_result"
    },
    {
     "data": {
      "image/png": "[encoded data removed]",
      "text/plain": [
       "<Figure size 432x288 with 1 Axes>"
      ]
     },
     "metadata": {
      "needs_background": "light"
     },
     "output_type": "display_data"
    }
   ],
   "source": [
    "# use current params to predict the values at each time step\n",
    "preds = f(time, params)\n",
    "preds_plot = preds.detach().numpy()\n",
    "preds_plot = preds_plot.tolist()\n",
    "plt.scatter(time, preds_plot)"
   ]
  },
  {
   "cell_type": "code",
   "execution_count": 93,
   "id": "29e4abe3",
   "metadata": {},
   "outputs": [
    {
     "data": {
      "text/plain": [
       "tensor(144.4233, grad_fn=<SqrtBackward>)"
      ]
     },
     "execution_count": 93,
     "metadata": {},
     "output_type": "execute_result"
    }
   ],
   "source": [
    "# calculate the loss of the current model\n",
    "loss = mse(preds, speed)\n",
    "loss"
   ]
  },
  {
   "cell_type": "code",
   "execution_count": 94,
   "id": "bec5516f",
   "metadata": {},
   "outputs": [],
   "source": [
    "loss.backward() # to calculate the gradients, we call backward() on the loss\n",
    "# this loss was itself calculated by mse, which was calculated using f taking as input params\n",
    "# params was the object on which we originally called required_grads_"
   ]
  },
  {
   "cell_type": "code",
   "execution_count": 95,
   "id": "acd43263",
   "metadata": {},
   "outputs": [
    {
     "data": {
      "text/plain": [
       "tensor([-165.2907,  -10.5516,   -0.7762])"
      ]
     },
     "execution_count": 95,
     "metadata": {},
     "output_type": "execute_result"
    }
   ],
   "source": [
    "params.grad"
   ]
  },
  {
   "cell_type": "code",
   "execution_count": 96,
   "id": "d33364db",
   "metadata": {},
   "outputs": [
    {
     "data": {
      "text/plain": [
       "tensor([-1.6529e-03, -1.0552e-04, -7.7624e-06])"
      ]
     },
     "execution_count": 96,
     "metadata": {},
     "output_type": "execute_result"
    }
   ],
   "source": [
    "params.grad * 1e-5"
   ]
  },
  {
   "cell_type": "code",
   "execution_count": 97,
   "id": "03ef5025",
   "metadata": {},
   "outputs": [],
   "source": [
    "# step the weights\n",
    "lr = 1e-5\n",
    "params.data -= lr * params.grad.data\n",
    "params.grad = None"
   ]
  },
  {
   "cell_type": "code",
   "execution_count": 98,
   "id": "4a9c7447",
   "metadata": {},
   "outputs": [
    {
     "data": {
      "text/plain": [
       "tensor(144.1489, grad_fn=<SqrtBackward>)"
      ]
     },
     "execution_count": 98,
     "metadata": {},
     "output_type": "execute_result"
    }
   ],
   "source": [
    "# see if the loss has improved\n",
    "preds = f(time, params)\n",
    "mse(preds, speed)"
   ]
  },
  {
   "cell_type": "code",
   "execution_count": 99,
   "id": "853780f3",
   "metadata": {},
   "outputs": [
    {
     "data": {
      "image/png": "[encoded data removed]",
      "text/plain": [
       "<Figure size 432x288 with 1 Axes>"
      ]
     },
     "metadata": {
      "needs_background": "light"
     },
     "output_type": "display_data"
    }
   ],
   "source": [
    "def show_preds(preds, ax=None):\n",
    "    if ax is None: ax=plt.subplots()[1]\n",
    "    ax.scatter(time, speed)\n",
    "    ax.scatter(time, to_np(preds), color='red')\n",
    "    ax.set_ylim(-300,100)\n",
    "    \n",
    "show_preds(preds)"
   ]
  },
  {
   "cell_type": "code",
   "execution_count": 117,
   "id": "b7eee0ad",
   "metadata": {},
   "outputs": [],
   "source": [
    "# repeat\n",
    "def apply_step(params, prn=True, num_epochs=10000):\n",
    "    for i in range(num_epochs):\n",
    "        preds = f(time, params)\n",
    "        loss = mse(preds, speed)\n",
    "        loss.backward()\n",
    "        params.data -= lr * params.grad.data\n",
    "        params.grad = None\n",
    "        if prn: print(loss.item())\n",
    "    return preds, loss"
   ]
  },
  {
   "cell_type": "code",
   "execution_count": 118,
   "id": "c5188b9e",
   "metadata": {},
   "outputs": [],
   "source": [
    "preds, loss = apply_step(params, prn=False)"
   ]
  },
  {
   "cell_type": "code",
   "execution_count": 119,
   "id": "efa05601",
   "metadata": {},
   "outputs": [
    {
     "data": {
      "text/plain": [
       "tensor(24.4996, grad_fn=<SqrtBackward>)"
      ]
     },
     "execution_count": 119,
     "metadata": {},
     "output_type": "execute_result"
    }
   ],
   "source": [
    "loss"
   ]
  },
  {
   "cell_type": "code",
   "execution_count": 120,
   "id": "5d5fe451",
   "metadata": {},
   "outputs": [
    {
     "data": {
      "image/png": "[encoded data removed]",
      "text/plain": [
       "<Figure size 432x288 with 1 Axes>"
      ]
     },
     "metadata": {
      "needs_background": "light"
     },
     "output_type": "display_data"
    }
   ],
   "source": [
    "show_preds(preds)"
   ]
  },
  {
   "cell_type": "markdown",
   "id": "4cb71352",
   "metadata": {},
   "source": [
    "## Back to MNIST"
   ]
  },
  {
   "cell_type": "code",
   "execution_count": 122,
   "id": "41c7a018",
   "metadata": {},
   "outputs": [],
   "source": [
    "# concatenate into single tensor, and change them from a list of matrices to a list of vectors\n",
    "train_x = torch.cat([stacked_threes, stacked_sevens]).view(-1, 28*28)"
   ]
  },
  {
   "cell_type": "code",
   "execution_count": 123,
   "id": "5ad49925",
   "metadata": {},
   "outputs": [
    {
     "data": {
      "text/plain": [
       "(torch.Size([12396, 784]), torch.Size([12396, 1]))"
      ]
     },
     "execution_count": 123,
     "metadata": {},
     "output_type": "execute_result"
    }
   ],
   "source": [
    "# need a label for each image\n",
    "train_y = tensor([1]*len(threes) + [0]*len(sevens)).unsqueeze(1)\n",
    "train_x.shape, train_y.shape"
   ]
  },
  {
   "cell_type": "code",
   "execution_count": 125,
   "id": "e4c3dddf",
   "metadata": {},
   "outputs": [
    {
     "data": {
      "text/plain": [
       "(torch.Size([784]), tensor([1]))"
      ]
     },
     "execution_count": 125,
     "metadata": {},
     "output_type": "execute_result"
    }
   ],
   "source": [
    "# a dataset in pytorch is required to return a tuple of (x,y) when indexed\n",
    "# use zip function to do this\n",
    "dset = list(zip(train_x, train_y))\n",
    "x,y = dset[0]\n",
    "x.shape, y"
   ]
  },
  {
   "cell_type": "code",
   "execution_count": 126,
   "id": "07448696",
   "metadata": {},
   "outputs": [],
   "source": [
    "valid_x = torch.cat([valid_3_tens, valid_7_tens]).view(-1, 28*28)\n",
    "valid_y = tensor([1]*len(valid_3_tens) + [0]*len(valid_7_tens)).unsqueeze(1)\n",
    "valid_dset = list(zip(valid_x,valid_y))"
   ]
  },
  {
   "cell_type": "code",
   "execution_count": 127,
   "id": "296bfef1",
   "metadata": {},
   "outputs": [],
   "source": [
    "def init_params(size, std=1.0): return (torch.randn(size)*std).requires_grad_()"
   ]
  },
  {
   "cell_type": "code",
   "execution_count": 128,
   "id": "d916f036",
   "metadata": {},
   "outputs": [],
   "source": [
    "weights = init_params((28*28,1))"
   ]
  },
  {
   "cell_type": "code",
   "execution_count": 130,
   "id": "979b7bea",
   "metadata": {},
   "outputs": [
    {
     "data": {
      "text/plain": [
       "torch.Size([784, 1])"
      ]
     },
     "execution_count": 130,
     "metadata": {},
     "output_type": "execute_result"
    }
   ],
   "source": [
    "weights.shape"
   ]
  },
  {
   "cell_type": "code",
   "execution_count": 131,
   "id": "1a26de58",
   "metadata": {},
   "outputs": [],
   "source": [
    "bias = init_params(1)"
   ]
  },
  {
   "cell_type": "code",
   "execution_count": 132,
   "id": "7f3e71c0",
   "metadata": {},
   "outputs": [
    {
     "data": {
      "text/plain": [
       "tensor([3.7602], grad_fn=<AddBackward0>)"
      ]
     },
     "execution_count": 132,
     "metadata": {},
     "output_type": "execute_result"
    }
   ],
   "source": [
    "# calculate prediction for one image\n",
    "(train_x[0]*weights.T).sum() + bias"
   ]
  },
  {
   "cell_type": "code",
   "execution_count": 134,
   "id": "a63f5323",
   "metadata": {},
   "outputs": [
    {
     "data": {
      "text/plain": [
       "tensor([[ 3.7602],\n",
       "        [10.0223],\n",
       "        [15.1395],\n",
       "        ...,\n",
       "        [ 4.7646],\n",
       "        [ 1.8502],\n",
       "        [ 3.3399]], grad_fn=<AddBackward0>)"
      ]
     },
     "execution_count": 134,
     "metadata": {},
     "output_type": "execute_result"
    }
   ],
   "source": [
    "def linear1(xb): return xb@weights + bias\n",
    "preds = linear1(train_x)\n",
    "preds"
   ]
  },
  {
   "cell_type": "code",
   "execution_count": 135,
   "id": "0895cdb1",
   "metadata": {},
   "outputs": [
    {
     "data": {
      "text/plain": [
       "tensor([[ True],\n",
       "        [ True],\n",
       "        [ True],\n",
       "        ...,\n",
       "        [False],\n",
       "        [False],\n",
       "        [False]])"
      ]
     },
     "execution_count": 135,
     "metadata": {},
     "output_type": "execute_result"
    }
   ],
   "source": [
    "corrects = (preds>0.5).float() == train_y\n",
    "corrects"
   ]
  },
  {
   "cell_type": "code",
   "execution_count": 140,
   "id": "14df82df",
   "metadata": {},
   "outputs": [
    {
     "data": {
      "text/plain": [
       "0.4831397235393524"
      ]
     },
     "execution_count": 140,
     "metadata": {},
     "output_type": "execute_result"
    }
   ],
   "source": [
    "corrects.float().mean().item()"
   ]
  },
  {
   "cell_type": "code",
   "execution_count": 144,
   "id": "ea01f834",
   "metadata": {},
   "outputs": [],
   "source": [
    "trgs = tensor([1,0,1])\n",
    "prds = tensor([0.9, 0.4, 0.2])"
   ]
  },
  {
   "cell_type": "code",
   "execution_count": 145,
   "id": "c071e915",
   "metadata": {},
   "outputs": [],
   "source": [
    "def mnist_loss(predictions, targets):\n",
    "    return torch.where(targets==1, 1-predictions, predictions).mean()"
   ]
  },
  {
   "cell_type": "code",
   "execution_count": 146,
   "id": "b7b15632",
   "metadata": {},
   "outputs": [
    {
     "data": {
      "text/plain": [
       "tensor([0.1000, 0.4000, 0.8000])"
      ]
     },
     "execution_count": 146,
     "metadata": {},
     "output_type": "execute_result"
    }
   ],
   "source": [
    "torch.where(trgs==1, 1-prds, prds)"
   ]
  },
  {
   "cell_type": "code",
   "execution_count": 148,
   "id": "a78ee69b",
   "metadata": {},
   "outputs": [
    {
     "data": {
      "text/plain": [
       "tensor(0.4333)"
      ]
     },
     "execution_count": 148,
     "metadata": {},
     "output_type": "execute_result"
    }
   ],
   "source": [
    "mnist_loss(prds, trgs)"
   ]
  },
  {
   "cell_type": "code",
   "execution_count": 149,
   "id": "911a6aca",
   "metadata": {},
   "outputs": [
    {
     "data": {
      "text/plain": [
       "tensor(0.2333)"
      ]
     },
     "execution_count": 149,
     "metadata": {},
     "output_type": "execute_result"
    }
   ],
   "source": [
    "mnist_loss(tensor([0.9, 0.4, 0.8]), trgs)"
   ]
  },
  {
   "cell_type": "code",
   "execution_count": 150,
   "id": "4214e061",
   "metadata": {},
   "outputs": [],
   "source": [
    "# mnist loss assumes predictions are always between 0 and 1\n",
    "# use sigmoid to ensure that this is the case\n",
    "def sigmoid(x): return 1/(1+torch.exp(-x))"
   ]
  },
  {
   "cell_type": "code",
   "execution_count": 151,
   "id": "ab888ecd",
   "metadata": {},
   "outputs": [
    {
     "name": "stderr",
     "output_type": "stream",
     "text": [
      "/opt/conda/lib/python3.7/site-packages/fastbook/__init__.py:73: UserWarning: Not providing a value for linspace's steps is deprecated and will throw a runtime error in a future release. This warning will appear only once per process. (Triggered internally at  /pytorch/aten/src/ATen/native/RangeFactories.cpp:25.)\n",
      "  x = torch.linspace(min,max)\n"
     ]
    },
    {
     "data": {
      "image/png": "[encoded data removed]",
      "text/plain": [
       "<Figure size 432x288 with 1 Axes>"
      ]
     },
     "metadata": {
      "needs_background": "light"
     },
     "output_type": "display_data"
    }
   ],
   "source": [
    "plot_function(torch.sigmoid, title='Sigmoid', min=-4, max=4)"
   ]
  },
  {
   "cell_type": "code",
   "execution_count": 152,
   "id": "768d43a4",
   "metadata": {},
   "outputs": [],
   "source": [
    "def mnist_loss(predictions, targets):\n",
    "    predictions = predictions.sigmoid()\n",
    "    return torch.where(targets==1, 1-predictions, predictions).mean()"
   ]
  },
  {
   "cell_type": "code",
   "execution_count": 154,
   "id": "986b7648",
   "metadata": {},
   "outputs": [
    {
     "data": {
      "text/plain": [
       "[tensor([ 8,  9,  5, 11,  4]),\n",
       " tensor([ 7, 13, 14,  2,  3]),\n",
       " tensor([ 6, 12, 10,  1,  0])]"
      ]
     },
     "execution_count": 154,
     "metadata": {},
     "output_type": "execute_result"
    }
   ],
   "source": [
    "# a DataLoader can take any Python collection and turn it into an iterator over many batches\n",
    "col1 = range(15)\n",
    "dl = DataLoader(col1, batch_size=5, shuffle=True)\n",
    "list(dl)"
   ]
  },
  {
   "cell_type": "code",
   "execution_count": 155,
   "id": "8e697aa5",
   "metadata": {},
   "outputs": [
    {
     "data": {
      "text/plain": [
       "(#26) [(0, 'a'),(1, 'b'),(2, 'c'),(3, 'd'),(4, 'e'),(5, 'f'),(6, 'g'),(7, 'h'),(8, 'i'),(9, 'j')...]"
      ]
     },
     "execution_count": 155,
     "metadata": {},
     "output_type": "execute_result"
    }
   ],
   "source": [
    "# for training a model we don't just want any Python collection\n",
    "# we want a colllection containing independent and dependent variables \n",
    "# collection containing tuples of independent and dependent variables is known as Dataset\n",
    "ds = L(enumerate(string.ascii_lowercase))\n",
    "ds"
   ]
  },
  {
   "cell_type": "code",
   "execution_count": 157,
   "id": "8501c535",
   "metadata": {},
   "outputs": [
    {
     "data": {
      "text/plain": [
       "[(tensor([20,  8,  2,  5, 12, 17]), ('u', 'i', 'c', 'f', 'm', 'r')),\n",
       " (tensor([19, 14, 15, 16, 11,  1]), ('t', 'o', 'p', 'q', 'l', 'b')),\n",
       " (tensor([23, 25,  0, 22,  6,  4]), ('x', 'z', 'a', 'w', 'g', 'e')),\n",
       " (tensor([ 3, 21, 24, 18,  9,  7]), ('d', 'v', 'y', 's', 'j', 'h')),\n",
       " (tensor([10, 13]), ('k', 'n'))]"
      ]
     },
     "execution_count": 157,
     "metadata": {},
     "output_type": "execute_result"
    }
   ],
   "source": [
    "# when we pass a dataset to a DataLoader, we will get back many batches which are tuples of\n",
    "# tensors, representing batches of independent and dependent variables\n",
    "dl = DataLoader(ds, batch_size=6, shuffle=True)\n",
    "list(dl)"
   ]
  },
  {
   "cell_type": "code",
   "execution_count": 158,
   "id": "82e9cac2",
   "metadata": {},
   "outputs": [],
   "source": [
    "weights = init_params((28*28,1))\n",
    "bias = init_params(1)"
   ]
  },
  {
   "cell_type": "code",
   "execution_count": 159,
   "id": "935de27a",
   "metadata": {},
   "outputs": [
    {
     "data": {
      "text/plain": [
       "(torch.Size([256, 784]), torch.Size([256, 1]))"
      ]
     },
     "execution_count": 159,
     "metadata": {},
     "output_type": "execute_result"
    }
   ],
   "source": [
    "# a DataLoader can be created from a Dataset\n",
    "dl = DataLoader(dset, batch_size=256)\n",
    "xb, yb = first(dl)\n",
    "xb.shape, yb.shape"
   ]
  },
  {
   "cell_type": "code",
   "execution_count": 160,
   "id": "5072831e",
   "metadata": {},
   "outputs": [],
   "source": [
    "valid_dl = DataLoader(valid_dset, batch_size=256)"
   ]
  },
  {
   "cell_type": "code",
   "execution_count": 161,
   "id": "b03d11b4",
   "metadata": {},
   "outputs": [
    {
     "data": {
      "text/plain": [
       "torch.Size([4, 784])"
      ]
     },
     "execution_count": 161,
     "metadata": {},
     "output_type": "execute_result"
    }
   ],
   "source": [
    "# create a mini-batch of size 4 for testing\n",
    "batch = train_x[:4]\n",
    "batch.shape"
   ]
  },
  {
   "cell_type": "code",
   "execution_count": 162,
   "id": "ddb67ccc",
   "metadata": {},
   "outputs": [
    {
     "data": {
      "text/plain": [
       "tensor([[ 9.7460],\n",
       "        [14.8540],\n",
       "        [ 6.6535],\n",
       "        [11.8257]], grad_fn=<AddBackward0>)"
      ]
     },
     "execution_count": 162,
     "metadata": {},
     "output_type": "execute_result"
    }
   ],
   "source": [
    "preds = linear1(batch)\n",
    "preds"
   ]
  },
  {
   "cell_type": "code",
   "execution_count": 165,
   "id": "b1b5f771",
   "metadata": {},
   "outputs": [
    {
     "data": {
      "text/plain": [
       "tensor(0.0003, grad_fn=<MeanBackward0>)"
      ]
     },
     "execution_count": 165,
     "metadata": {},
     "output_type": "execute_result"
    }
   ],
   "source": [
    "loss = mnist_loss(preds, train_y[:4])\n",
    "loss"
   ]
  },
  {
   "cell_type": "code",
   "execution_count": 166,
   "id": "2e87d1ca",
   "metadata": {},
   "outputs": [
    {
     "data": {
      "text/plain": [
       "(torch.Size([784, 1]), tensor(-4.8543e-05), tensor([-0.0003]))"
      ]
     },
     "execution_count": 166,
     "metadata": {},
     "output_type": "execute_result"
    }
   ],
   "source": [
    "loss.backward()\n",
    "weights.grad.shape, weights.grad.mean(), bias.grad"
   ]
  },
  {
   "cell_type": "code",
   "execution_count": 167,
   "id": "0ee6be89",
   "metadata": {},
   "outputs": [],
   "source": [
    "def calc_grad(xb, yb, model):\n",
    "    preds = model(xb)\n",
    "    loss = mnist_loss(preds, yb)\n",
    "    loss.backward()"
   ]
  },
  {
   "cell_type": "code",
   "execution_count": 168,
   "id": "6a2c58fc",
   "metadata": {},
   "outputs": [
    {
     "data": {
      "text/plain": [
       "(tensor(-9.7085e-05), tensor([-0.0007]))"
      ]
     },
     "execution_count": 168,
     "metadata": {},
     "output_type": "execute_result"
    }
   ],
   "source": [
    "calc_grad(batch, train_y[:4], linear1)\n",
    "weights.grad.mean(),bias.grad"
   ]
  },
  {
   "cell_type": "code",
   "execution_count": 169,
   "id": "eada170e",
   "metadata": {},
   "outputs": [
    {
     "data": {
      "text/plain": [
       "(tensor(-0.0001), tensor([-0.0010]))"
      ]
     },
     "execution_count": 169,
     "metadata": {},
     "output_type": "execute_result"
    }
   ],
   "source": [
    "# what happens if we call it twice?\n",
    "calc_grad(batch, train_y[:4], linear1)\n",
    "weights.grad.mean(),bias.grad"
   ]
  },
  {
   "cell_type": "code",
   "execution_count": 170,
   "id": "f8ec54c6",
   "metadata": {},
   "outputs": [
    {
     "data": {
      "text/plain": [
       "tensor([0.])"
      ]
     },
     "execution_count": 170,
     "metadata": {},
     "output_type": "execute_result"
    }
   ],
   "source": [
    "# need to set the gradients to 0 first\n",
    "weights.grad.zero_()\n",
    "bias.grad.zero_()"
   ]
  },
  {
   "cell_type": "code",
   "execution_count": 171,
   "id": "d9bbc408",
   "metadata": {},
   "outputs": [],
   "source": [
    "def train_epoch(model, lr, params):\n",
    "    for xb,yb in dl:\n",
    "        calc_grad(xb, yb, model)\n",
    "        for p in params:\n",
    "            p.data -= p.grad*lr # assign to the data attribute of the tensor, won't take gradient\n",
    "            p.grad.zero_()"
   ]
  },
  {
   "cell_type": "code",
   "execution_count": 177,
   "id": "875737ff",
   "metadata": {},
   "outputs": [
    {
     "data": {
      "text/plain": [
       "tensor([[True],\n",
       "        [True],\n",
       "        [True],\n",
       "        [True]])"
      ]
     },
     "execution_count": 177,
     "metadata": {},
     "output_type": "execute_result"
    }
   ],
   "source": [
    "# check how we're doing by looking at accuracy of validation set\n",
    "(preds>0.0).float() == train_y[:4]"
   ]
  },
  {
   "cell_type": "code",
   "execution_count": 173,
   "id": "e1048293",
   "metadata": {},
   "outputs": [],
   "source": [
    "def batch_accuracy(xb, yb):\n",
    "    preds = xb.sigmoid()\n",
    "    correct = (preds>0.5) == yb\n",
    "    return correct.float().mean()"
   ]
  },
  {
   "cell_type": "code",
   "execution_count": 176,
   "id": "ff660ac1",
   "metadata": {},
   "outputs": [
    {
     "data": {
      "text/plain": [
       "tensor(1.)"
      ]
     },
     "execution_count": 176,
     "metadata": {},
     "output_type": "execute_result"
    }
   ],
   "source": [
    "batch_accuracy(linear1(batch), train_y[:4])"
   ]
  },
  {
   "cell_type": "code",
   "execution_count": 178,
   "id": "03a2c22c",
   "metadata": {},
   "outputs": [],
   "source": [
    "# put the batches together\n",
    "def validate_epoch(model):\n",
    "    accs = [batch_accuracy(model(xb), yb) for xb, yb in valid_dl]\n",
    "    return round(torch.stack(accs).mean().item(), 4)"
   ]
  },
  {
   "cell_type": "code",
   "execution_count": 179,
   "id": "e80aa55c",
   "metadata": {},
   "outputs": [
    {
     "data": {
      "text/plain": [
       "0.6553"
      ]
     },
     "execution_count": 179,
     "metadata": {},
     "output_type": "execute_result"
    }
   ],
   "source": [
    "validate_epoch(linear1)"
   ]
  },
  {
   "cell_type": "code",
   "execution_count": 180,
   "id": "2be8d594",
   "metadata": {},
   "outputs": [
    {
     "data": {
      "text/plain": [
       "0.7372"
      ]
     },
     "execution_count": 180,
     "metadata": {},
     "output_type": "execute_result"
    }
   ],
   "source": [
    "# train for one epoch, see if accuracy improves\n",
    "lr = 1.\n",
    "params = weights,bias\n",
    "train_epoch(linear1, lr, params)\n",
    "validate_epoch(linear1)"
   ]
  },
  {
   "cell_type": "code",
   "execution_count": 181,
   "id": "14e15530",
   "metadata": {},
   "outputs": [
    {
     "name": "stdout",
     "output_type": "stream",
     "text": [
      "0.8886 0.9321 0.9457 0.954 0.9584 0.9599 0.9623 0.9643 0.9648 0.9662 0.9672 0.9677 0.9682 0.9697 0.9702 0.9702 0.9706 0.9716 0.9721 0.9721 "
     ]
    }
   ],
   "source": [
    "for i in range(20):\n",
    "    train_epoch(linear1, lr, params)\n",
    "    print(validate_epoch(linear1), end=' ')"
   ]
  },
  {
   "cell_type": "code",
   "execution_count": 182,
   "id": "4717828f",
   "metadata": {},
   "outputs": [],
   "source": [
    "## replace our linear1 function with nn.Linear module\n",
    "# does the same thing as init_params and linear together\n",
    "# contains both the weights and bias in a single class\n",
    "linear_model = nn.Linear(28*28,1)"
   ]
  },
  {
   "cell_type": "code",
   "execution_count": 183,
   "id": "cfcd33a0",
   "metadata": {},
   "outputs": [
    {
     "data": {
      "text/plain": [
       "(torch.Size([1, 784]), torch.Size([1]))"
      ]
     },
     "execution_count": 183,
     "metadata": {},
     "output_type": "execute_result"
    }
   ],
   "source": [
    "# trainable parameters\n",
    "w,b = linear_model.parameters()\n",
    "w.shape, b.shape"
   ]
  },
  {
   "cell_type": "code",
   "execution_count": 184,
   "id": "5eb19af2",
   "metadata": {},
   "outputs": [],
   "source": [
    "# create an optimiser\n",
    "class BasicOptim:\n",
    "    def __init__(self,params,lr): self.params, self.lr = list(params), lr\n",
    "        \n",
    "    def step(self, *args, **kwargs):\n",
    "        for p in self.params: p.data -= p.grad.data * self.lr\n",
    "            \n",
    "    def zero_grad(self, *args, **kwargs):\n",
    "        for p in self.params: p.grad = None"
   ]
  },
  {
   "cell_type": "code",
   "execution_count": 185,
   "id": "944a6db3",
   "metadata": {},
   "outputs": [],
   "source": [
    "# create our optimiser by passing in the model's parameters\n",
    "opt = BasicOptim(linear_model.parameters(), lr)"
   ]
  },
  {
   "cell_type": "code",
   "execution_count": 186,
   "id": "9bf657bb",
   "metadata": {},
   "outputs": [],
   "source": [
    "def train_epoch(model):\n",
    "    for xb, yb in dl:\n",
    "        calc_grad(xb, yb, model)\n",
    "        opt.step()\n",
    "        opt.zero_grad()"
   ]
  },
  {
   "cell_type": "code",
   "execution_count": 187,
   "id": "31ee373c",
   "metadata": {},
   "outputs": [
    {
     "data": {
      "text/plain": [
       "0.4564"
      ]
     },
     "execution_count": 187,
     "metadata": {},
     "output_type": "execute_result"
    }
   ],
   "source": [
    "validate_epoch(linear_model)"
   ]
  },
  {
   "cell_type": "code",
   "execution_count": 188,
   "id": "2ee55fdf",
   "metadata": {},
   "outputs": [],
   "source": [
    "def train_model(model, epochs):\n",
    "    for i in range(epochs):\n",
    "        train_epoch(model)\n",
    "        print(validate_epoch(model), end=' ')"
   ]
  },
  {
   "cell_type": "code",
   "execution_count": 189,
   "id": "9a5b8565",
   "metadata": {},
   "outputs": [
    {
     "name": "stdout",
     "output_type": "stream",
     "text": [
      "0.4932 0.7354 0.8564 0.9179 0.9346 0.9487 0.957 0.9638 0.9658 0.9673 0.9692 0.9717 0.9746 0.9746 0.9761 0.9765 0.9775 0.9775 0.978 0.9785 "
     ]
    }
   ],
   "source": [
    "train_model(linear_model, 20)"
   ]
  },
  {
   "cell_type": "code",
   "execution_count": 190,
   "id": "869051b6",
   "metadata": {},
   "outputs": [
    {
     "name": "stdout",
     "output_type": "stream",
     "text": [
      "0.4932 0.8091 0.8481 0.916 0.9336 0.9487 0.956 0.9638 0.9663 0.9682 0.9692 0.9721 0.9736 0.9751 0.9761 0.977 0.9775 0.978 0.978 0.9785 "
     ]
    }
   ],
   "source": [
    "# fastai provides the SGD class which does the same thing as our BasicOptim\n",
    "linear_model = nn.Linear(28*28, 1)\n",
    "opt = SGD(linear_model.parameters(), lr)\n",
    "train_model(linear_model, 20)"
   ]
  },
  {
   "cell_type": "code",
   "execution_count": 191,
   "id": "4249c9b6",
   "metadata": {},
   "outputs": [],
   "source": [
    "dls = DataLoaders(dl, valid_dl)"
   ]
  },
  {
   "cell_type": "code",
   "execution_count": 192,
   "id": "6be3f37c",
   "metadata": {},
   "outputs": [],
   "source": [
    "# to create a learner, we need to pass in:\n",
    "    # DataLoaders\n",
    "    # the model\n",
    "    # the optimisation function (which will be passed the parameters)\n",
    "    # the loss function\n",
    "    # any metrics to print\n",
    "learn = Learner(dls, nn.Linear(28*28,1), opt_func=SGD,\n",
    "               loss_func=mnist_loss, metrics=batch_accuracy)"
   ]
  },
  {
   "cell_type": "code",
   "execution_count": 193,
   "id": "a667937c",
   "metadata": {},
   "outputs": [
    {
     "data": {
      "text/html": [
       "<table border=\"1\" class=\"dataframe\">\n",
       "  <thead>\n",
       "    <tr style=\"text-align: left;\">\n",
       "      <th>epoch</th>\n",
       "      <th>train_loss</th>\n",
       "      <th>valid_loss</th>\n",
       "      <th>batch_accuracy</th>\n",
       "      <th>time</th>\n",
       "    </tr>\n",
       "  </thead>\n",
       "  <tbody>\n",
       "    <tr>\n",
       "      <td>0</td>\n",
       "      <td>0.636906</td>\n",
       "      <td>0.503421</td>\n",
       "      <td>0.495584</td>\n",
       "      <td>00:00</td>\n",
       "    </tr>\n",
       "    <tr>\n",
       "      <td>1</td>\n",
       "      <td>0.496982</td>\n",
       "      <td>0.187503</td>\n",
       "      <td>0.842983</td>\n",
       "      <td>00:00</td>\n",
       "    </tr>\n",
       "    <tr>\n",
       "      <td>2</td>\n",
       "      <td>0.183158</td>\n",
       "      <td>0.182068</td>\n",
       "      <td>0.834151</td>\n",
       "      <td>00:00</td>\n",
       "    </tr>\n",
       "    <tr>\n",
       "      <td>3</td>\n",
       "      <td>0.080887</td>\n",
       "      <td>0.107829</td>\n",
       "      <td>0.909225</td>\n",
       "      <td>00:00</td>\n",
       "    </tr>\n",
       "    <tr>\n",
       "      <td>4</td>\n",
       "      <td>0.043171</td>\n",
       "      <td>0.078633</td>\n",
       "      <td>0.932287</td>\n",
       "      <td>00:00</td>\n",
       "    </tr>\n",
       "    <tr>\n",
       "      <td>5</td>\n",
       "      <td>0.028410</td>\n",
       "      <td>0.062906</td>\n",
       "      <td>0.945535</td>\n",
       "      <td>00:00</td>\n",
       "    </tr>\n",
       "    <tr>\n",
       "      <td>6</td>\n",
       "      <td>0.022320</td>\n",
       "      <td>0.053116</td>\n",
       "      <td>0.954858</td>\n",
       "      <td>00:00</td>\n",
       "    </tr>\n",
       "    <tr>\n",
       "      <td>7</td>\n",
       "      <td>0.019599</td>\n",
       "      <td>0.046606</td>\n",
       "      <td>0.963199</td>\n",
       "      <td>00:00</td>\n",
       "    </tr>\n",
       "    <tr>\n",
       "      <td>8</td>\n",
       "      <td>0.018211</td>\n",
       "      <td>0.042043</td>\n",
       "      <td>0.965653</td>\n",
       "      <td>00:00</td>\n",
       "    </tr>\n",
       "    <tr>\n",
       "      <td>9</td>\n",
       "      <td>0.017374</td>\n",
       "      <td>0.038695</td>\n",
       "      <td>0.966634</td>\n",
       "      <td>00:00</td>\n",
       "    </tr>\n",
       "  </tbody>\n",
       "</table>"
      ],
      "text/plain": [
       "<IPython.core.display.HTML object>"
      ]
     },
     "metadata": {},
     "output_type": "display_data"
    }
   ],
   "source": [
    "learn.fit(10, lr=lr)"
   ]
  },
  {
   "cell_type": "code",
   "execution_count": 194,
   "id": "d00e7a3d",
   "metadata": {},
   "outputs": [],
   "source": [
    "# adding a non-linearity\n",
    "def simple_net(xb):\n",
    "    res = xb@w1 + b1\n",
    "    res = res.max(tensor(0.0))\n",
    "    res = res@w2 + b2\n",
    "    return res"
   ]
  },
  {
   "cell_type": "code",
   "execution_count": 195,
   "id": "ea12f19e",
   "metadata": {},
   "outputs": [],
   "source": [
    "w1 = init_params((28*28,30))\n",
    "b1 = init_params(30)\n",
    "w2 = init_params((30,1))\n",
    "b2 = init_params(1)"
   ]
  },
  {
   "cell_type": "code",
   "execution_count": 196,
   "id": "bcc1a30a",
   "metadata": {},
   "outputs": [
    {
     "data": {
      "image/png": "[encoded data removed]",
      "text/plain": [
       "<Figure size 432x288 with 1 Axes>"
      ]
     },
     "metadata": {
      "needs_background": "light"
     },
     "output_type": "display_data"
    }
   ],
   "source": [
    "plot_function(F.relu)"
   ]
  },
  {
   "cell_type": "code",
   "execution_count": 197,
   "id": "9937ce24",
   "metadata": {},
   "outputs": [],
   "source": [
    "simple_net = nn.Sequential(nn.Linear(28*28,30),\n",
    "                          nn.ReLU(),\n",
    "                          nn.Linear(30,1))"
   ]
  },
  {
   "cell_type": "code",
   "execution_count": 198,
   "id": "e4d889d2",
   "metadata": {},
   "outputs": [],
   "source": [
    "learn = Learner(dls, simple_net, opt_func=SGD,\n",
    "               loss_func = mnist_loss, metrics=batch_accuracy)"
   ]
  },
  {
   "cell_type": "code",
   "execution_count": 199,
   "id": "5b9fd85a",
   "metadata": {},
   "outputs": [
    {
     "data": {
      "text/html": [
       "<table border=\"1\" class=\"dataframe\">\n",
       "  <thead>\n",
       "    <tr style=\"text-align: left;\">\n",
       "      <th>epoch</th>\n",
       "      <th>train_loss</th>\n",
       "      <th>valid_loss</th>\n",
       "      <th>batch_accuracy</th>\n",
       "      <th>time</th>\n",
       "    </tr>\n",
       "  </thead>\n",
       "  <tbody>\n",
       "    <tr>\n",
       "      <td>0</td>\n",
       "      <td>0.304471</td>\n",
       "      <td>0.416420</td>\n",
       "      <td>0.504907</td>\n",
       "      <td>00:00</td>\n",
       "    </tr>\n",
       "    <tr>\n",
       "      <td>1</td>\n",
       "      <td>0.143818</td>\n",
       "      <td>0.227532</td>\n",
       "      <td>0.806183</td>\n",
       "      <td>00:00</td>\n",
       "    </tr>\n",
       "    <tr>\n",
       "      <td>2</td>\n",
       "      <td>0.080216</td>\n",
       "      <td>0.114496</td>\n",
       "      <td>0.916094</td>\n",
       "      <td>00:00</td>\n",
       "    </tr>\n",
       "    <tr>\n",
       "      <td>3</td>\n",
       "      <td>0.053045</td>\n",
       "      <td>0.077414</td>\n",
       "      <td>0.940137</td>\n",
       "      <td>00:00</td>\n",
       "    </tr>\n",
       "    <tr>\n",
       "      <td>4</td>\n",
       "      <td>0.040341</td>\n",
       "      <td>0.060440</td>\n",
       "      <td>0.955839</td>\n",
       "      <td>00:00</td>\n",
       "    </tr>\n",
       "    <tr>\n",
       "      <td>5</td>\n",
       "      <td>0.033802</td>\n",
       "      <td>0.050931</td>\n",
       "      <td>0.963199</td>\n",
       "      <td>00:00</td>\n",
       "    </tr>\n",
       "    <tr>\n",
       "      <td>6</td>\n",
       "      <td>0.030029</td>\n",
       "      <td>0.044958</td>\n",
       "      <td>0.964671</td>\n",
       "      <td>00:00</td>\n",
       "    </tr>\n",
       "    <tr>\n",
       "      <td>7</td>\n",
       "      <td>0.027572</td>\n",
       "      <td>0.040888</td>\n",
       "      <td>0.967125</td>\n",
       "      <td>00:00</td>\n",
       "    </tr>\n",
       "    <tr>\n",
       "      <td>8</td>\n",
       "      <td>0.025800</td>\n",
       "      <td>0.037934</td>\n",
       "      <td>0.969578</td>\n",
       "      <td>00:00</td>\n",
       "    </tr>\n",
       "    <tr>\n",
       "      <td>9</td>\n",
       "      <td>0.024428</td>\n",
       "      <td>0.035679</td>\n",
       "      <td>0.970559</td>\n",
       "      <td>00:00</td>\n",
       "    </tr>\n",
       "    <tr>\n",
       "      <td>10</td>\n",
       "      <td>0.023315</td>\n",
       "      <td>0.033889</td>\n",
       "      <td>0.972522</td>\n",
       "      <td>00:00</td>\n",
       "    </tr>\n",
       "    <tr>\n",
       "      <td>11</td>\n",
       "      <td>0.022386</td>\n",
       "      <td>0.032423</td>\n",
       "      <td>0.972522</td>\n",
       "      <td>00:00</td>\n",
       "    </tr>\n",
       "    <tr>\n",
       "      <td>12</td>\n",
       "      <td>0.021594</td>\n",
       "      <td>0.031191</td>\n",
       "      <td>0.973503</td>\n",
       "      <td>00:00</td>\n",
       "    </tr>\n",
       "    <tr>\n",
       "      <td>13</td>\n",
       "      <td>0.020909</td>\n",
       "      <td>0.030134</td>\n",
       "      <td>0.973994</td>\n",
       "      <td>00:00</td>\n",
       "    </tr>\n",
       "    <tr>\n",
       "      <td>14</td>\n",
       "      <td>0.020308</td>\n",
       "      <td>0.029213</td>\n",
       "      <td>0.974485</td>\n",
       "      <td>00:00</td>\n",
       "    </tr>\n",
       "    <tr>\n",
       "      <td>15</td>\n",
       "      <td>0.019776</td>\n",
       "      <td>0.028403</td>\n",
       "      <td>0.975466</td>\n",
       "      <td>00:00</td>\n",
       "    </tr>\n",
       "    <tr>\n",
       "      <td>16</td>\n",
       "      <td>0.019300</td>\n",
       "      <td>0.027681</td>\n",
       "      <td>0.976448</td>\n",
       "      <td>00:00</td>\n",
       "    </tr>\n",
       "    <tr>\n",
       "      <td>17</td>\n",
       "      <td>0.018871</td>\n",
       "      <td>0.027034</td>\n",
       "      <td>0.976938</td>\n",
       "      <td>00:00</td>\n",
       "    </tr>\n",
       "    <tr>\n",
       "      <td>18</td>\n",
       "      <td>0.018482</td>\n",
       "      <td>0.026451</td>\n",
       "      <td>0.976938</td>\n",
       "      <td>00:00</td>\n",
       "    </tr>\n",
       "    <tr>\n",
       "      <td>19</td>\n",
       "      <td>0.018125</td>\n",
       "      <td>0.025923</td>\n",
       "      <td>0.977920</td>\n",
       "      <td>00:00</td>\n",
       "    </tr>\n",
       "    <tr>\n",
       "      <td>20</td>\n",
       "      <td>0.017798</td>\n",
       "      <td>0.025441</td>\n",
       "      <td>0.977920</td>\n",
       "      <td>00:00</td>\n",
       "    </tr>\n",
       "    <tr>\n",
       "      <td>21</td>\n",
       "      <td>0.017496</td>\n",
       "      <td>0.025000</td>\n",
       "      <td>0.979392</td>\n",
       "      <td>00:00</td>\n",
       "    </tr>\n",
       "    <tr>\n",
       "      <td>22</td>\n",
       "      <td>0.017215</td>\n",
       "      <td>0.024594</td>\n",
       "      <td>0.979882</td>\n",
       "      <td>00:00</td>\n",
       "    </tr>\n",
       "    <tr>\n",
       "      <td>23</td>\n",
       "      <td>0.016953</td>\n",
       "      <td>0.024220</td>\n",
       "      <td>0.980373</td>\n",
       "      <td>00:00</td>\n",
       "    </tr>\n",
       "    <tr>\n",
       "      <td>24</td>\n",
       "      <td>0.016709</td>\n",
       "      <td>0.023873</td>\n",
       "      <td>0.980864</td>\n",
       "      <td>00:00</td>\n",
       "    </tr>\n",
       "    <tr>\n",
       "      <td>25</td>\n",
       "      <td>0.016478</td>\n",
       "      <td>0.023552</td>\n",
       "      <td>0.980864</td>\n",
       "      <td>00:00</td>\n",
       "    </tr>\n",
       "    <tr>\n",
       "      <td>26</td>\n",
       "      <td>0.016261</td>\n",
       "      <td>0.023253</td>\n",
       "      <td>0.980864</td>\n",
       "      <td>00:00</td>\n",
       "    </tr>\n",
       "    <tr>\n",
       "      <td>27</td>\n",
       "      <td>0.016056</td>\n",
       "      <td>0.022975</td>\n",
       "      <td>0.981845</td>\n",
       "      <td>00:00</td>\n",
       "    </tr>\n",
       "    <tr>\n",
       "      <td>28</td>\n",
       "      <td>0.015861</td>\n",
       "      <td>0.022715</td>\n",
       "      <td>0.981845</td>\n",
       "      <td>00:00</td>\n",
       "    </tr>\n",
       "    <tr>\n",
       "      <td>29</td>\n",
       "      <td>0.015676</td>\n",
       "      <td>0.022473</td>\n",
       "      <td>0.981845</td>\n",
       "      <td>00:00</td>\n",
       "    </tr>\n",
       "    <tr>\n",
       "      <td>30</td>\n",
       "      <td>0.015500</td>\n",
       "      <td>0.022246</td>\n",
       "      <td>0.981354</td>\n",
       "      <td>00:00</td>\n",
       "    </tr>\n",
       "    <tr>\n",
       "      <td>31</td>\n",
       "      <td>0.015332</td>\n",
       "      <td>0.022033</td>\n",
       "      <td>0.981354</td>\n",
       "      <td>00:00</td>\n",
       "    </tr>\n",
       "    <tr>\n",
       "      <td>32</td>\n",
       "      <td>0.015171</td>\n",
       "      <td>0.021833</td>\n",
       "      <td>0.981354</td>\n",
       "      <td>00:00</td>\n",
       "    </tr>\n",
       "    <tr>\n",
       "      <td>33</td>\n",
       "      <td>0.015017</td>\n",
       "      <td>0.021645</td>\n",
       "      <td>0.982336</td>\n",
       "      <td>00:00</td>\n",
       "    </tr>\n",
       "    <tr>\n",
       "      <td>34</td>\n",
       "      <td>0.014870</td>\n",
       "      <td>0.021469</td>\n",
       "      <td>0.982336</td>\n",
       "      <td>00:00</td>\n",
       "    </tr>\n",
       "    <tr>\n",
       "      <td>35</td>\n",
       "      <td>0.014729</td>\n",
       "      <td>0.021302</td>\n",
       "      <td>0.982336</td>\n",
       "      <td>00:00</td>\n",
       "    </tr>\n",
       "    <tr>\n",
       "      <td>36</td>\n",
       "      <td>0.014594</td>\n",
       "      <td>0.021145</td>\n",
       "      <td>0.982336</td>\n",
       "      <td>00:00</td>\n",
       "    </tr>\n",
       "    <tr>\n",
       "      <td>37</td>\n",
       "      <td>0.014463</td>\n",
       "      <td>0.020996</td>\n",
       "      <td>0.982336</td>\n",
       "      <td>00:00</td>\n",
       "    </tr>\n",
       "    <tr>\n",
       "      <td>38</td>\n",
       "      <td>0.014337</td>\n",
       "      <td>0.020855</td>\n",
       "      <td>0.982336</td>\n",
       "      <td>00:00</td>\n",
       "    </tr>\n",
       "    <tr>\n",
       "      <td>39</td>\n",
       "      <td>0.014216</td>\n",
       "      <td>0.020722</td>\n",
       "      <td>0.982336</td>\n",
       "      <td>00:00</td>\n",
       "    </tr>\n",
       "  </tbody>\n",
       "</table>"
      ],
      "text/plain": [
       "<IPython.core.display.HTML object>"
      ]
     },
     "metadata": {},
     "output_type": "display_data"
    }
   ],
   "source": [
    "learn.fit(40, 0.1)"
   ]
  },
  {
   "cell_type": "code",
   "execution_count": 200,
   "id": "e8148da7",
   "metadata": {},
   "outputs": [
    {
     "data": {
      "image/png": "[encoded data removed]",
      "text/plain": [
       "<Figure size 432x288 with 1 Axes>"
      ]
     },
     "metadata": {
      "needs_background": "light"
     },
     "output_type": "display_data"
    }
   ],
   "source": [
    "plt.plot(L(learn.recorder.values).itemgot(2));"
   ]
  },
  {
   "cell_type": "code",
   "execution_count": 201,
   "id": "2f76fc1f",
   "metadata": {},
   "outputs": [
    {
     "data": {
      "text/plain": [
       "0.98233562707901"
      ]
     },
     "execution_count": 201,
     "metadata": {},
     "output_type": "execute_result"
    }
   ],
   "source": [
    "learn.recorder.values[-1][2]"
   ]
  },
  {
   "cell_type": "code",
   "execution_count": 202,
   "id": "0d9b9d13",
   "metadata": {},
   "outputs": [
    {
     "name": "stderr",
     "output_type": "stream",
     "text": [
      "/opt/conda/lib/python3.7/site-packages/torch/nn/functional.py:718: UserWarning: Named tensors and all their associated APIs are an experimental feature and subject to change. Please do not use them for anything important until they are released as stable. (Triggered internally at  /pytorch/c10/core/TensorImpl.h:1156.)\n",
      "  return torch.max_pool2d(input, kernel_size, stride, padding, dilation, ceil_mode)\n"
     ]
    },
    {
     "data": {
      "text/html": [
       "<table border=\"1\" class=\"dataframe\">\n",
       "  <thead>\n",
       "    <tr style=\"text-align: left;\">\n",
       "      <th>epoch</th>\n",
       "      <th>train_loss</th>\n",
       "      <th>valid_loss</th>\n",
       "      <th>accuracy</th>\n",
       "      <th>time</th>\n",
       "    </tr>\n",
       "  </thead>\n",
       "  <tbody>\n",
       "    <tr>\n",
       "      <td>0</td>\n",
       "      <td>0.123148</td>\n",
       "      <td>0.035868</td>\n",
       "      <td>0.991659</td>\n",
       "      <td>00:09</td>\n",
       "    </tr>\n",
       "  </tbody>\n",
       "</table>"
      ],
      "text/plain": [
       "<IPython.core.display.HTML object>"
      ]
     },
     "metadata": {},
     "output_type": "display_data"
    }
   ],
   "source": [
    "dls = ImageDataLoaders.from_folder(path)\n",
    "learn = cnn_learner(dls, resnet18, pretrained=False,\n",
    "                   loss_func=F.cross_entropy, metrics=accuracy)\n",
    "learn.fit_one_cycle(1, 0.1)"
   ]
  },
  {
   "cell_type": "code",
   "execution_count": null,
   "id": "b349dd6a",
   "metadata": {},
   "outputs": [],
   "source": []
  }
 ],
 "metadata": {
  "environment": {
   "name": "common-cu110.m74",
   "type": "gcloud",
   "uri": "gcr.io/deeplearning-platform-release/base-cu110:m74"
  },
  "kernelspec": {
   "display_name": "Python 3",
   "language": "python",
   "name": "python3"
  },
  "language_info": {
   "codemirror_mode": {
    "name": "ipython",
    "version": 3
   },
   "file_extension": ".py",
   "mimetype": "text/x-python",
   "name": "python",
   "nbconvert_exporter": "python",
   "pygments_lexer": "ipython3",
   "version": "3.7.10"
  }
 },
 "nbformat": 4,
 "nbformat_minor": 5
}

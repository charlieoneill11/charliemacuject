{
 "cells": [
  {
   "cell_type": "code",
   "execution_count": 1,
   "id": "7b658c93",
   "metadata": {},
   "outputs": [],
   "source": [
    "import fastbook\n",
    "from fastai.vision.all import *\n",
    "from fastbook import *\n",
    "matplotlib.rc('image', cmap='Greys')"
   ]
  },
  {
   "cell_type": "code",
   "execution_count": 76,
   "id": "cfed5164",
   "metadata": {},
   "outputs": [],
   "source": [
    "def load_data():\n",
    "    path = untar_data(URLs.MNIST_SAMPLE)\n",
    "    Path.BASE_PATH = path\n",
    "    threes = (path/'train'/'3').ls().sorted()\n",
    "    sevens = (path/'train'/'7').ls().sorted()\n",
    "    seven_tensors = [tensor(Image.open(o)) for o in sevens]\n",
    "    three_tensors = [tensor(Image.open(o)) for o in threes]\n",
    "    stacked_sevens = torch.stack(seven_tensors).float()/255\n",
    "    stacked_threes = torch.stack(three_tensors).float()/255\n",
    "    valid_3_tens = torch.stack([tensor(Image.open(o)) \n",
    "                                for o in (path/'valid'/'3').ls()])\n",
    "    valid_3_tens = valid_3_tens.float()/255\n",
    "    valid_7_tens = torch.stack([tensor(Image.open(o)) \n",
    "                                for o in (path/'valid'/'7').ls()])\n",
    "    valid_7_tens = valid_7_tens.float()/255\n",
    "    train_x = torch.cat([stacked_threes, stacked_sevens]).view(-1, 28*28)\n",
    "    train_y = tensor([1]*len(threes) + [0]*len(sevens)).unsqueeze(1)\n",
    "    dset = list(zip(train_x,train_y))\n",
    "    valid_x = torch.cat([valid_3_tens, valid_7_tens]).view(-1, 28*28)\n",
    "    valid_y = tensor([1]*len(valid_3_tens) + [0]*len(valid_7_tens)).unsqueeze(1)\n",
    "    valid_dset = list(zip(valid_x, valid_y))\n",
    "    return dset, valid_dset"
   ]
  },
  {
   "cell_type": "code",
   "execution_count": 80,
   "id": "d548cdf0",
   "metadata": {},
   "outputs": [],
   "source": [
    "def create_dataloader():\n",
    "    dset, valid_dset = load_data()\n",
    "    dl, valid_dl = DataLoader(dset, batch_size=256), DataLoader(valid_dset, batch_size=256)\n",
    "    return dl, valid_dl"
   ]
  },
  {
   "cell_type": "code",
   "execution_count": 100,
   "id": "746fc9dd",
   "metadata": {},
   "outputs": [],
   "source": [
    "dl, valid_dl = create_dataloader()\n",
    "simpleNet = nn.Sequential(nn.Linear(28*28, 30),\n",
    "                         nn.ReLU(),\n",
    "                         nn.Linear(30, 15),\n",
    "                         nn.ReLU(),\n",
    "                         nn.Linear(15, 5),\n",
    "                         nn.ReLU(),\n",
    "                         nn.Linear(5,1))\n",
    "\n",
    "opt = BasicOptim(simpleNet.parameters(), lr=0.01)\n",
    "\n",
    "def mnist_loss(predictions, targets):\n",
    "    predictions = predictions.sigmoid()\n",
    "    return torch.where(targets==1, 1-predictions, predictions).mean()\n",
    "\n",
    "def batch_accuracy(xb, yb):\n",
    "    preds = xb.sigmoid()\n",
    "    correct = (preds>0.5) == yb\n",
    "    return correct.float().mean()"
   ]
  },
  {
   "cell_type": "code",
   "execution_count": 101,
   "id": "a848d653",
   "metadata": {},
   "outputs": [
    {
     "name": "stdout",
     "output_type": "stream",
     "text": [
      "0.4932 0.4932 0.4932 0.4932 0.4932 0.4932 0.4932 0.4932 0.4932 0.4932 0.4932 0.5035 0.7384 0.9025 0.95 0.9565 0.9375 0.9233 0.9326 0.9424 0.956 0.9614 0.9658 0.9643 0.9653 0.9682 0.9692 0.9692 0.9692 0.9696 0.9696 0.9696 0.9696 0.9706 0.9716 0.9721 0.9721 0.9721 0.9721 0.9736 0.9736 0.9736 0.9736 0.9736 0.9736 0.9736 0.9736 0.9745 0.9745 0.975 "
     ]
    }
   ],
   "source": [
    "learn = Chearner(dl, valid_dl, simpleNet, opt, mnist_loss, batch_accuracy)\n",
    "learn.train_model(50)"
   ]
  },
  {
   "cell_type": "code",
   "execution_count": 82,
   "id": "c97127f5",
   "metadata": {},
   "outputs": [],
   "source": [
    "class BasicOptim:\n",
    "    \n",
    "    def __init__(self, params, lr): self.params, self.lr = list(params), lr\n",
    "        \n",
    "    def step(self, *args, **kwargs):\n",
    "        for p in self.params: p.data -= p.grad.data * self.lr\n",
    "            \n",
    "    def zero_grad(self, *args, **kwargs):\n",
    "        for p in self.params: p.grad = None"
   ]
  },
  {
   "cell_type": "code",
   "execution_count": 96,
   "id": "64a36efb",
   "metadata": {},
   "outputs": [],
   "source": [
    "class Chearner:\n",
    "    \n",
    "    def __init__(self, dl, valid_dl, model, opt, loss_func, metric): \n",
    "        self.dl, self.valid_dl = dl, valid_dl\n",
    "        self.model = model\n",
    "        self.opt = opt\n",
    "        self.loss_func = loss_func\n",
    "        self.metric = metric\n",
    "    \n",
    "    def validate_epoch(self):\n",
    "        accs = [self.metric(self.model(xb), yb) for xb, yb in self.valid_dl]\n",
    "        return round(torch.stack(accs).mean().item(), 4)\n",
    "    \n",
    "    def calc_grad(self, xb, yb):\n",
    "        preds = self.model(xb)\n",
    "        loss = self.loss_func(preds, yb)\n",
    "        loss.backward()\n",
    "    \n",
    "    def train_epoch(self, model, opt):\n",
    "        for xb,yb in self.dl:\n",
    "            self.calc_grad(xb,yb)\n",
    "            self.opt.step()\n",
    "            self.opt.zero_grad()\n",
    "            \n",
    "    def train_model(self, epochs):\n",
    "        for i in range(epochs):\n",
    "            train_epoch(self.model)\n",
    "            print(self.validate_epoch(), end= ' ')"
   ]
  },
  {
   "cell_type": "code",
   "execution_count": null,
   "id": "49a91b8b",
   "metadata": {},
   "outputs": [],
   "source": []
  }
 ],
 "metadata": {
  "environment": {
   "name": "common-cu110.m74",
   "type": "gcloud",
   "uri": "gcr.io/deeplearning-platform-release/base-cu110:m74"
  },
  "kernelspec": {
   "display_name": "Python 3",
   "language": "python",
   "name": "python3"
  },
  "language_info": {
   "codemirror_mode": {
    "name": "ipython",
    "version": 3
   },
   "file_extension": ".py",
   "mimetype": "text/x-python",
   "name": "python",
   "nbconvert_exporter": "python",
   "pygments_lexer": "ipython3",
   "version": "3.7.10"
  }
 },
 "nbformat": 4,
 "nbformat_minor": 5
}

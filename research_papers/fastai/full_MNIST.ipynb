{
 "cells": [
  {
   "cell_type": "code",
   "execution_count": 125,
   "id": "d7235fc2",
   "metadata": {},
   "outputs": [],
   "source": [
    "import fastbook\n",
    "from fastai.vision.all import *\n",
    "from fastbook import *\n",
    "matplotlib.rc('image', cmap='Greys')\n",
    "import warnings\n",
    "warnings.filterwarnings(\"ignore\")"
   ]
  },
  {
   "cell_type": "code",
   "execution_count": 107,
   "id": "6b55a857",
   "metadata": {},
   "outputs": [],
   "source": [
    "def get_paths(paths):\n",
    "    lst = []\n",
    "    for path in paths.ls().sorted():\n",
    "        lst.append(path.ls().sorted())\n",
    "    zeros, ones, twos, threes = lst[0], lst[1], lst[2], lst[3]\n",
    "    fours, fives, sixes = lst[4], lst[5], lst[6]\n",
    "    sevens, eights, nines = lst[7], lst[8], lst[9]\n",
    "    return [zeros, ones, twos, threes, fours, fives, sixes, sevens, eights, nines]\n",
    "\n",
    "def get_tensors(numbers):\n",
    "    tensors = [tensor(Image.open(o)) for o in numbers]\n",
    "    stacked_tensors = torch.stack(tensors).float()/255\n",
    "    return stacked_tensors\n",
    "\n",
    "def all_stacked(numbers):\n",
    "    stacked_lst = []\n",
    "    for number in numbers:\n",
    "        stacked_lst.append(get_tensors(number))\n",
    "    return stacked_lst\n",
    "\n",
    "def length_list(stacked_lst):\n",
    "    length_lst = []\n",
    "    for number in stacked_lst:\n",
    "        length_lst.append(number.shape[0])\n",
    "    return length_lst\n",
    "\n",
    "def split_dset(stacked_lst, length_lst):\n",
    "    x = torch.cat(stacked_lst).view(-1, 28*28)\n",
    "    y = tensor([0]*length_lst[0] + [1]*length_lst[1] +\n",
    "                    [2]*length_lst[2] + [3]*length_lst[3] + [4]*length_lst[4] + \n",
    "                    [5]*length_lst[5] + [6]*length_lst[6] + [7]*length_lst[7] + \n",
    "                    [8]*length_lst[8] + [9]*length_lst[9]).unsqueeze(1)\n",
    "    y = torch.argmax(y, axis=1)\n",
    "    return list(zip(x,y))\n",
    "\n",
    "def dset_validset():\n",
    "    path = untar_data(URLs.MNIST)\n",
    "    Path.BASE_PATH = path\n",
    "    numbers_train, numbers_valid = get_paths(path/'training'), get_paths(path/'testing')\n",
    "    stacked_lst_train, stacked_lst_valid = all_stacked(numbers_train), all_stacked(numbers_valid)\n",
    "    length_lst_train, length_lst_valid = length_list(stacked_lst_train), length_list(stacked_lst_valid)\n",
    "    dset = split_dset(stacked_lst_train, length_lst_train)\n",
    "    valid_dset = split_dset(stacked_lst_valid, length_lst_valid)\n",
    "    return dset, valid_dset\n",
    "\n",
    "def create_dataloader():\n",
    "    dset, valid_dset = dset_validset()\n",
    "    dl, valid_dl = DataLoader(dset, batch_size=256), DataLoader(valid_dset, batch_size=256)\n",
    "    return dl, valid_dl"
   ]
  },
  {
   "cell_type": "code",
   "execution_count": 115,
   "id": "3efb5717",
   "metadata": {},
   "outputs": [],
   "source": [
    "dl, valid_dl = create_dataloader()\n",
    "dls = DataLoaders(dl, valid_dl)"
   ]
  },
  {
   "cell_type": "code",
   "execution_count": 119,
   "id": "f11dabcd",
   "metadata": {},
   "outputs": [],
   "source": [
    "simpleNet = nn.Sequential(nn.Linear(28*28, 30),\n",
    "                         nn.ReLU(),\n",
    "                         nn.Linear(30, 15),\n",
    "                         nn.ReLU(),\n",
    "                         nn.Linear(15, 5),\n",
    "                         nn.ReLU(),\n",
    "                         nn.Linear(5,10))"
   ]
  },
  {
   "cell_type": "code",
   "execution_count": 120,
   "id": "27e38eca",
   "metadata": {},
   "outputs": [],
   "source": [
    "learn = Learner(dls, simpleNet, opt_func=Adam,\n",
    "               loss_func=F.cross_entropy, metrics=error_rate)"
   ]
  },
  {
   "cell_type": "code",
   "execution_count": 121,
   "id": "a0a97c4b",
   "metadata": {},
   "outputs": [
    {
     "data": {
      "text/html": [
       "<table border=\"1\" class=\"dataframe\">\n",
       "  <thead>\n",
       "    <tr style=\"text-align: left;\">\n",
       "      <th>epoch</th>\n",
       "      <th>train_loss</th>\n",
       "      <th>valid_loss</th>\n",
       "      <th>error_rate</th>\n",
       "      <th>time</th>\n",
       "    </tr>\n",
       "  </thead>\n",
       "  <tbody>\n",
       "    <tr>\n",
       "      <td>0</td>\n",
       "      <td>0.417731</td>\n",
       "      <td>0.229246</td>\n",
       "      <td>0.000000</td>\n",
       "      <td>00:01</td>\n",
       "    </tr>\n",
       "    <tr>\n",
       "      <td>1</td>\n",
       "      <td>0.065637</td>\n",
       "      <td>0.044297</td>\n",
       "      <td>0.000000</td>\n",
       "      <td>00:00</td>\n",
       "    </tr>\n",
       "  </tbody>\n",
       "</table>"
      ],
      "text/plain": [
       "<IPython.core.display.HTML object>"
      ]
     },
     "metadata": {},
     "output_type": "display_data"
    }
   ],
   "source": [
    "learn.fit(2, 0.01)"
   ]
  },
  {
   "cell_type": "code",
   "execution_count": 128,
   "id": "aaf8f99c",
   "metadata": {},
   "outputs": [
    {
     "data": {
      "text/plain": [
       "Path('.')"
      ]
     },
     "execution_count": 128,
     "metadata": {},
     "output_type": "execute_result"
    }
   ],
   "source": [
    "path = untar_data(URLs.MNIST)\n",
    "Path.BASE_PATH = path\n",
    "# dls = ImageDataLoaders.from_folder(path)\n",
    "path"
   ]
  },
  {
   "cell_type": "code",
   "execution_count": 130,
   "id": "c61b1757",
   "metadata": {},
   "outputs": [],
   "source": [
    "path = untar_data(URLs.MNIST_SAMPLE)\n",
    "dls = ImageDataLoaders.from_folder(path)"
   ]
  },
  {
   "cell_type": "code",
   "execution_count": 132,
   "id": "14187189",
   "metadata": {},
   "outputs": [],
   "source": [
    "learn = cnn_learner(dls, resnet34, pretrained=False, loss_func=F.cross_entropy, metrics=accuracy)"
   ]
  },
  {
   "cell_type": "code",
   "execution_count": 134,
   "id": "d1c10490",
   "metadata": {},
   "outputs": [
    {
     "data": {
      "text/html": [
       "<table border=\"1\" class=\"dataframe\">\n",
       "  <thead>\n",
       "    <tr style=\"text-align: left;\">\n",
       "      <th>epoch</th>\n",
       "      <th>train_loss</th>\n",
       "      <th>valid_loss</th>\n",
       "      <th>accuracy</th>\n",
       "      <th>time</th>\n",
       "    </tr>\n",
       "  </thead>\n",
       "  <tbody>\n",
       "    <tr>\n",
       "      <td>0</td>\n",
       "      <td>0.489787</td>\n",
       "      <td>85.285561</td>\n",
       "      <td>0.011776</td>\n",
       "      <td>00:11</td>\n",
       "    </tr>\n",
       "    <tr>\n",
       "      <td>1</td>\n",
       "      <td>0.199112</td>\n",
       "      <td>0.063998</td>\n",
       "      <td>0.997056</td>\n",
       "      <td>00:11</td>\n",
       "    </tr>\n",
       "    <tr>\n",
       "      <td>2</td>\n",
       "      <td>0.045694</td>\n",
       "      <td>13.665556</td>\n",
       "      <td>0.997547</td>\n",
       "      <td>00:11</td>\n",
       "    </tr>\n",
       "    <tr>\n",
       "      <td>3</td>\n",
       "      <td>0.094295</td>\n",
       "      <td>813.051331</td>\n",
       "      <td>0.962218</td>\n",
       "      <td>00:10</td>\n",
       "    </tr>\n",
       "    <tr>\n",
       "      <td>4</td>\n",
       "      <td>0.019690</td>\n",
       "      <td>0.020023</td>\n",
       "      <td>0.996565</td>\n",
       "      <td>00:10</td>\n",
       "    </tr>\n",
       "  </tbody>\n",
       "</table>"
      ],
      "text/plain": [
       "<IPython.core.display.HTML object>"
      ]
     },
     "metadata": {},
     "output_type": "display_data"
    }
   ],
   "source": [
    "learn.fit_one_cycle(5, 0.1)"
   ]
  },
  {
   "cell_type": "code",
   "execution_count": null,
   "id": "fda25798",
   "metadata": {},
   "outputs": [],
   "source": []
  }
 ],
 "metadata": {
  "environment": {
   "name": "common-cu110.m74",
   "type": "gcloud",
   "uri": "gcr.io/deeplearning-platform-release/base-cu110:m74"
  },
  "kernelspec": {
   "display_name": "Python 3",
   "language": "python",
   "name": "python3"
  },
  "language_info": {
   "codemirror_mode": {
    "name": "ipython",
    "version": 3
   },
   "file_extension": ".py",
   "mimetype": "text/x-python",
   "name": "python",
   "nbconvert_exporter": "python",
   "pygments_lexer": "ipython3",
   "version": "3.7.10"
  }
 },
 "nbformat": 4,
 "nbformat_minor": 5
}

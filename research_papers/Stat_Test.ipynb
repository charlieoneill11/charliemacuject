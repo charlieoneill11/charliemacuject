{
 "cells": [
  {
   "cell_type": "code",
   "execution_count": 70,
   "id": "dd21d4a5",
   "metadata": {},
   "outputs": [],
   "source": [
    "import pandas as pd\n",
    "import numpy as np\n",
    "from scipy import stats\n",
    "\n",
    "import seaborn as sns\n",
    "import statsmodels.api as sm\n",
    "import statsmodels.stats.api as sms\n",
    "\n",
    "from ipynb.fs.defs.ImportDB import *\n",
    "\n",
    "import warnings\n",
    "warnings.filterwarnings('ignore')"
   ]
  },
  {
   "cell_type": "code",
   "execution_count": 71,
   "id": "62965093",
   "metadata": {},
   "outputs": [],
   "source": [
    "df = pd.read_csv('/home/jupyter/charliemacuject/research_papers/data/adherence_initiation.csv', low_memory=False)"
   ]
  },
  {
   "cell_type": "code",
   "execution_count": 67,
   "id": "0ab47385",
   "metadata": {},
   "outputs": [],
   "source": [
    "df = df[df['time_above_baseline_1year'] != 'nil']\n",
    "df['time_above_baseline_1year'] = pd.to_numeric(df['time_above_baseline_1year'])\n",
    "df.dropna(subset=['time_above_baseline_1year'], inplace=True)\n",
    "df = df[df['time_above_baseline_1year'] >= 0]\n",
    "df = df[df['time_above_baseline_1year'] < 365]"
   ]
  },
  {
   "cell_type": "code",
   "execution_count": 59,
   "id": "5d09afe7",
   "metadata": {},
   "outputs": [],
   "source": [
    "df = df[df['time_above_baseline_2year'] != 'nil']\n",
    "df['time_above_baseline_2year'] = pd.to_numeric(df['time_above_baseline_2year'])\n",
    "df.dropna(subset=['time_above_baseline_2year'], inplace=True)\n",
    "df = df[df['time_above_baseline_2year'] >= 0]\n",
    "df = df[df['time_above_baseline_2year'] < 365]"
   ]
  },
  {
   "cell_type": "code",
   "execution_count": 62,
   "id": "226e31ec",
   "metadata": {},
   "outputs": [],
   "source": [
    "df = df[df['time_above_baseline_4year'] != 'nil']\n",
    "df['time_above_baseline_4year'] = pd.to_numeric(df['time_above_baseline_4year'])\n",
    "df.dropna(subset=['time_above_baseline_4year'], inplace=True)\n",
    "df = df[df['time_above_baseline_4year'] >= 0]\n",
    "df = df[df['time_above_baseline_4year'] < 365]"
   ]
  },
  {
   "cell_type": "code",
   "execution_count": 73,
   "id": "6fbbc880",
   "metadata": {},
   "outputs": [],
   "source": [
    "class Stat_Test:\n",
    "    \n",
    "    def __init__(self, ad_measure, vis_outcome):\n",
    "        self.ad_measure = ad_measure\n",
    "        self.vis_outcome = vis_outcome\n",
    "    \n",
    "    def measures_print(self):\n",
    "        print(\"The adherence measure is {}, and the visual outcome is {}.\".format(self.ad_measure, self.vis_outcome))\n",
    "        \n",
    "    def median(self):\n",
    "        median = np.median(df[self.ad_measure])\n",
    "        return median\n",
    "        \n",
    "    def samples(self):\n",
    "        median = np.median(df[self.ad_measure])\n",
    "        early = df[df[self.ad_measure] < median]\n",
    "        late = df[df[self.ad_measure] >= median]\n",
    "        sample_1 = early[self.vis_outcome]\n",
    "        sample_2 = late[self.vis_outcome]\n",
    "        return sample_1, sample_2, median\n",
    "    \n",
    "    def t_test_ind(self):\n",
    "        sample_1, sample_2, median = self.samples()\n",
    "        t, pval = stats.ttest_ind(sample_1, sample_2)\n",
    "        return t, pval\n",
    "        \n",
    "    def mann_whitney(self):\n",
    "        sample_1, sample_2, median = self.samples()\n",
    "        t, pval = stats.mannwhitneyu(sample_1, sample_2)\n",
    "        return t, pval\n",
    "            \n",
    "    def all_tests(self):\n",
    "        t_1, p_1 = self.t_test_ind()\n",
    "        t_2, p_2 = self.mann_whitney()\n",
    "        sample_1, sample_2, cutoff = self.samples()\n",
    "        median = np.round(cutoff, 2)\n",
    "        x_1, x_2 = np.mean(sample_1), np.mean(sample_2)\n",
    "        print(\"Those in Group 1 had adherence measure less than {}, and those in Group 2 had adherence measure greater than {}.\".format(median, median))\n",
    "        print(\"The mean for Early is {} and the mean for Late is {}.\".format(np.round(x_1, 2), np.round(x_2, 2)))\n",
    "        print(\"The test statistic for the independent t-test is {} and the p-value is {}.\".format(np.round(t_1, 3), \n",
    "                                                                                                     np.round(p_1, 5)))\n",
    "        print(\"The test statistic for the parametric t-test is {} and the p-value is {}.\".format(np.round(t_2, 3), \n",
    "                                                                                                     np.round(p_2, 5)))\n",
    "        if p_1 < 0.05 and p_2 > 0.05:\n",
    "            print(\"The independent t-test returned a significant result whilst the parametric t-test did not.\")\n",
    "        elif p_1 > 0.05 and p_2 < 0.05:\n",
    "            print(\"The parametric t-test returned a significant result whilst the independent t-test did not.\")\n",
    "        elif p_1 < 0.05 and p_2 < 0.05:\n",
    "            print(\"Both tests returned a significant result.\")\n",
    "        else:\n",
    "            print(\"Neither test returned a significant result. It is likely these are the same distribution.\")\n",
    "            \n",
    "    # rotating samples function\n",
    "    def samples_search(self):\n",
    "        minimum = np.round(df[self.ad_measure].min(), 2)\n",
    "        maximum = np.round(df[self.ad_measure].max(), 2)\n",
    "        data_range = np.linspace(minimum, maximum, 100)\n",
    "        diff, cut_point, len_s1, len_s2, mean_1, mean_2, p_value = 0, 0, 0, 0, 0, 0, 100\n",
    "        for i in range(len(data_range)):\n",
    "            cutoff = data_range[i]\n",
    "            early = df[df[self.ad_measure] < cutoff]\n",
    "            late = df[df[self.ad_measure] >= cutoff]\n",
    "            if len(early) != 0 and len(late) != 0:\n",
    "                sample_1, sample_2 = early[self.vis_outcome], late[self.vis_outcome]\n",
    "                x_1, x_2 = np.mean(sample_1), np.mean(sample_2)\n",
    "                t, pval = self.mann_whitney()\n",
    "                if pval < 0.05 and abs(x_1 - x_2) > diff and len(sample_1) > 100 and len(sample_2) > 100:\n",
    "                    difference = abs(x_1 - x_2)\n",
    "                    diff = np.round(difference, 4)\n",
    "                    mean_1, mean_2 = np.round(x_1, 2), np.round(x_2, 2)\n",
    "                    cut_point = np.round(cutoff, 4)\n",
    "                    len_s1, len_s2 = len(sample_1), len(sample_2)\n",
    "                    p_value = np.round(pval, 5)\n",
    "                    i += 1\n",
    "                else: \n",
    "                    i += 1\n",
    "        return diff, cut_point, len_s1, len_s2, mean_1, mean_2, p_value\n",
    "\n",
    "    def confidence_interval(self, sample_1, sample_2):\n",
    "        cm = sms.CompareMeans(sms.DescrStatsW(sample_1), sms.DescrStatsW(sample_2))\n",
    "        conf_int = cm.tconfint_diff(usevar='unequal')\n",
    "        return conf_int\n",
    "    \n",
    "    def samples_ci(self, cut):\n",
    "        early = df[df[self.ad_measure] < cut]\n",
    "        late = df[df[self.ad_measure] >= cut]\n",
    "        sample_1 = early[self.vis_outcome]\n",
    "        sample_2 = late[self.vis_outcome]\n",
    "        return sample_1, sample_2\n",
    "\n",
    "    \n",
    "    # print results from sample_search\n",
    "    def print_samples_search(self):\n",
    "        diff, cut_point, len_s1, len_s2, mean_1, mean_2, p_value = self.samples_search()\n",
    "        sample_1, sample_2 = self.samples_ci(cut_point)\n",
    "        ci = self.confidence_interval(sample_1,sample_2)\n",
    "        if diff > 0:\n",
    "            print(\"Adherence measure: {}\".format(self.ad_measure))\n",
    "            print(\"The cutoff point which maximised the difference in visual outcome between the groups is {}.\".format(cut_point))\n",
    "            print(\"This gave a p-value of {}, with {} people in the EARLY GROUP and {} people in the LATE GROUP.\".format(p_value, len_s1, len_s2))\n",
    "            print(\"The early group had mean {} of {}, and the late group had mean {} of {}.\".format(self.vis_outcome, mean_1, self.vis_outcome, mean_2))\n",
    "            print(\"Thus, the maximum difference in {} between the two groups (that maintained significance) was {}.\".format(self.vis_outcome, diff))\n",
    "            print(\"This gave a confidence interval of {}.\".format(ci))\n",
    "        else:\n",
    "            print(\"There was no cutoff point for {} that found a significant difference in {}.\".format(self.ad_measure, self.vis_outcome))"
   ]
  },
  {
   "cell_type": "code",
   "execution_count": 68,
   "id": "b9ca2b3f",
   "metadata": {},
   "outputs": [
    {
     "name": "stdout",
     "output_type": "stream",
     "text": [
      "There was no cutoff point for percentage_late that found a significant difference in time_above_baseline_1year.\n"
     ]
    }
   ],
   "source": [
    "p1 = Stat_Test(\"percentage_late\", \"time_above_baseline_1year\")\n",
    "p1.print_samples_search()"
   ]
  },
  {
   "cell_type": "code",
   "execution_count": 6,
   "id": "eb27a3d5",
   "metadata": {},
   "outputs": [],
   "source": [
    "def all_combinations():\n",
    "    results = pd.DataFrame(columns = ['mean_adherence', 'adherence_variation',\n",
    "       'percentage_late', 'MAFL', 'MAFE'], index = ['mean_vision',\n",
    "       'time_above_baseline_1year', 'time_above_baseline_2year',\n",
    "       'time_above_baseline_4year', 'proportion_above_baseline',\n",
    "       'peak_visual_improvement', 'loss_from_peak', 'time_to_peak'])\n",
    "    ad_measures = ['mean_adherence', 'adherence_variation',\n",
    "       'percentage_late', 'MAFL', 'MAFE']\n",
    "    vis_outcomes = ['mean_vision',\n",
    "       'time_above_baseline_1year', 'time_above_baseline_2year',\n",
    "       'time_above_baseline_4year', 'proportion_above_baseline',\n",
    "       'peak_visual_improvement', 'loss_from_peak', 'time_to_peak']\n",
    "    for i in range(len(ad_measures)):\n",
    "        for j in range(len(vis_outcomes)):\n",
    "            p1 = Stat_Test(ad_measures[i], vis_outcomes[j])\n",
    "            t, pval = p1.t_test_ind()\n",
    "            results[ad_measures[i]][vis_outcomes[j]] = pval\n",
    "    return results"
   ]
  },
  {
   "cell_type": "code",
   "execution_count": 11,
   "id": "5b55cc5d",
   "metadata": {},
   "outputs": [],
   "source": [
    "df = df[df['time_above_baseline_1year'] != 'nil']"
   ]
  },
  {
   "cell_type": "code",
   "execution_count": 13,
   "id": "38660841",
   "metadata": {},
   "outputs": [
    {
     "data": {
      "text/plain": [
       "0        0\n",
       "1        0\n",
       "2      343\n",
       "3       69\n",
       "4       28\n",
       "      ... \n",
       "461    105\n",
       "463      0\n",
       "465     28\n",
       "466      0\n",
       "467     91\n",
       "Name: time_above_baseline_1year, Length: 329, dtype: object"
      ]
     },
     "execution_count": 13,
     "metadata": {},
     "output_type": "execute_result"
    }
   ],
   "source": [
    "df['time_above_baseline_1year']"
   ]
  },
  {
   "cell_type": "code",
   "execution_count": 15,
   "id": "bd3b5355",
   "metadata": {},
   "outputs": [
    {
     "name": "stdout",
     "output_type": "stream",
     "text": [
      "Those in Group 1 had adherence measure less than 0.2, and those in Group 2 had adherence measure greater than 0.2.\n",
      "The mean for Early is 0.18 and the mean for Late is 0.2.\n",
      "The test statistic for the independent t-test is -1.442 and the p-value is 0.15019.\n",
      "The test statistic for the parametric t-test is 12289.0 and the p-value is 0.07541.\n",
      "Neither test returned a significant result. It is likely these are the same distribution.\n"
     ]
    }
   ],
   "source": [
    "p1 = Stat_Test(\"percentage_late\", \"loss_from_peak\")\n",
    "p1.all_tests()"
   ]
  },
  {
   "cell_type": "code",
   "execution_count": 74,
   "id": "a046006f",
   "metadata": {},
   "outputs": [
    {
     "name": "stdout",
     "output_type": "stream",
     "text": [
      "There was no cutoff point for mean_adherence that found a significant difference in mean_vision.\n",
      "       \n",
      "Adherence measure: mean_adherence\n",
      "The cutoff point which maximised the difference in visual outcome between the groups is 1.0071.\n",
      "This gave a p-value of 0.00061, with 261 people in the EARLY GROUP and 129 people in the LATE GROUP.\n",
      "The early group had mean proportion_above_baseline of 0.35, and the late group had mean proportion_above_baseline of 0.25.\n",
      "Thus, the maximum difference in proportion_above_baseline between the two groups (that maintained significance) was 0.1012.\n",
      "This gave a confidence interval of (0.03802267697097807, 0.16445259701993353).\n",
      "       \n",
      "Adherence measure: mean_adherence\n",
      "The cutoff point which maximised the difference in visual outcome between the groups is 0.9975.\n",
      "This gave a p-value of 0.0, with 176 people in the EARLY GROUP and 214 people in the LATE GROUP.\n",
      "The early group had mean peak_visual_improvement of 0.24, and the late group had mean peak_visual_improvement of 0.18.\n",
      "Thus, the maximum difference in peak_visual_improvement between the two groups (that maintained significance) was 0.0611.\n",
      "This gave a confidence interval of (0.02676317574754359, 0.09552937590613111).\n",
      "       \n",
      "There was no cutoff point for mean_adherence that found a significant difference in loss_from_peak.\n",
      "       \n",
      "There was no cutoff point for mean_adherence that found a significant difference in time_to_peak.\n",
      "       \n",
      "There was no cutoff point for adherence_variation that found a significant difference in mean_vision.\n",
      "       \n",
      "There was no cutoff point for adherence_variation that found a significant difference in proportion_above_baseline.\n",
      "       \n",
      "Adherence measure: adherence_variation\n",
      "The cutoff point which maximised the difference in visual outcome between the groups is 0.0535.\n",
      "This gave a p-value of 0.00027, with 113 people in the EARLY GROUP and 277 people in the LATE GROUP.\n",
      "The early group had mean peak_visual_improvement of 0.15, and the late group had mean peak_visual_improvement of 0.23.\n",
      "Thus, the maximum difference in peak_visual_improvement between the two groups (that maintained significance) was 0.0832.\n",
      "This gave a confidence interval of (-0.12043352614943029, -0.04601014441119076).\n",
      "       \n",
      "Adherence measure: adherence_variation\n",
      "The cutoff point which maximised the difference in visual outcome between the groups is 0.0535.\n",
      "This gave a p-value of 0.01203, with 113 people in the EARLY GROUP and 277 people in the LATE GROUP.\n",
      "The early group had mean loss_from_peak of 0.06, and the late group had mean loss_from_peak of 0.11.\n",
      "Thus, the maximum difference in loss_from_peak between the two groups (that maintained significance) was 0.0512.\n",
      "This gave a confidence interval of (-0.0772939706841601, -0.025011493478518398).\n",
      "       \n",
      "There was no cutoff point for adherence_variation that found a significant difference in time_to_peak.\n",
      "       \n",
      "Adherence measure: percentage_late\n",
      "The cutoff point which maximised the difference in visual outcome between the groups is 0.0909.\n",
      "This gave a p-value of 0.0, with 111 people in the EARLY GROUP and 279 people in the LATE GROUP.\n",
      "The early group had mean mean_vision of 0.65, and the late group had mean mean_vision of 0.5.\n",
      "Thus, the maximum difference in mean_vision between the two groups (that maintained significance) was 0.1495.\n",
      "This gave a confidence interval of (0.08056435159141342, 0.20667748768079128).\n",
      "       \n",
      "Adherence measure: percentage_late\n",
      "The cutoff point which maximised the difference in visual outcome between the groups is 0.1616.\n",
      "This gave a p-value of 0.0, with 176 people in the EARLY GROUP and 214 people in the LATE GROUP.\n",
      "The early group had mean proportion_above_baseline of 0.39, and the late group had mean proportion_above_baseline of 0.26.\n",
      "Thus, the maximum difference in proportion_above_baseline between the two groups (that maintained significance) was 0.1252.\n",
      "This gave a confidence interval of (0.06404699906152263, 0.1862567392562346).\n",
      "       \n",
      "There was no cutoff point for percentage_late that found a significant difference in peak_visual_improvement.\n",
      "       \n",
      "There was no cutoff point for percentage_late that found a significant difference in loss_from_peak.\n",
      "       \n",
      "There was no cutoff point for percentage_late that found a significant difference in time_to_peak.\n",
      "       \n",
      "There was no cutoff point for MAFL that found a significant difference in mean_vision.\n",
      "       \n",
      "There was no cutoff point for MAFL that found a significant difference in proportion_above_baseline.\n",
      "       \n",
      "Adherence measure: MAFL\n",
      "The cutoff point which maximised the difference in visual outcome between the groups is 1.0159.\n",
      "This gave a p-value of 0.00417, with 101 people in the EARLY GROUP and 289 people in the LATE GROUP.\n",
      "The early group had mean peak_visual_improvement of 0.15, and the late group had mean peak_visual_improvement of 0.22.\n",
      "Thus, the maximum difference in peak_visual_improvement between the two groups (that maintained significance) was 0.0717.\n",
      "This gave a confidence interval of (-0.10652023129397399, -0.036957562841008415).\n",
      "       \n",
      "Adherence measure: MAFL\n",
      "The cutoff point which maximised the difference in visual outcome between the groups is 1.0793.\n",
      "This gave a p-value of 2e-05, with 186 people in the EARLY GROUP and 204 people in the LATE GROUP.\n",
      "The early group had mean loss_from_peak of 0.06, and the late group had mean loss_from_peak of 0.13.\n",
      "Thus, the maximum difference in loss_from_peak between the two groups (that maintained significance) was 0.0706.\n",
      "This gave a confidence interval of (-0.09687718845121311, -0.04435884360634533).\n",
      "       \n",
      "There was no cutoff point for MAFL that found a significant difference in time_to_peak.\n",
      "       \n",
      "There was no cutoff point for MAFE that found a significant difference in mean_vision.\n",
      "       \n",
      "Adherence measure: MAFE\n",
      "The cutoff point which maximised the difference in visual outcome between the groups is 0.8964.\n",
      "This gave a p-value of 0.00162, with 196 people in the EARLY GROUP and 194 people in the LATE GROUP.\n",
      "The early group had mean proportion_above_baseline of 0.36, and the late group had mean proportion_above_baseline of 0.28.\n",
      "Thus, the maximum difference in proportion_above_baseline between the two groups (that maintained significance) was 0.0802.\n",
      "This gave a confidence interval of (0.01919783945318436, 0.14111249086450967).\n",
      "       \n",
      "Adherence measure: MAFE\n",
      "The cutoff point which maximised the difference in visual outcome between the groups is 0.9597.\n",
      "This gave a p-value of 0.0, with 273 people in the EARLY GROUP and 117 people in the LATE GROUP.\n",
      "The early group had mean peak_visual_improvement of 0.25, and the late group had mean peak_visual_improvement of 0.1.\n",
      "Thus, the maximum difference in peak_visual_improvement between the two groups (that maintained significance) was 0.1445.\n",
      "This gave a confidence interval of (0.11067165254265628, 0.1783637564658908).\n",
      "       \n",
      "Adherence measure: MAFE\n",
      "The cutoff point which maximised the difference in visual outcome between the groups is 0.9597.\n",
      "This gave a p-value of 0.00078, with 273 people in the EARLY GROUP and 117 people in the LATE GROUP.\n",
      "The early group had mean loss_from_peak of 0.12, and the late group had mean loss_from_peak of 0.06.\n",
      "Thus, the maximum difference in loss_from_peak between the two groups (that maintained significance) was 0.0539.\n",
      "This gave a confidence interval of (0.027670246110138585, 0.08005869163833516).\n",
      "       \n",
      "There was no cutoff point for MAFE that found a significant difference in time_to_peak.\n",
      "       \n"
     ]
    }
   ],
   "source": [
    "def all_cutoff_points_print():\n",
    "    ad_measures = ['mean_adherence', 'adherence_variation',\n",
    "       'percentage_late', 'MAFL', 'MAFE']\n",
    "    vis_outcomes = ['mean_vision', 'proportion_above_baseline',\n",
    "       'peak_visual_improvement', 'loss_from_peak', 'time_to_peak']\n",
    "    for i in range(len(ad_measures)):\n",
    "        for j in range(len(vis_outcomes)):\n",
    "            p1 = Stat_Test(ad_measures[i], vis_outcomes[j])\n",
    "            p1.print_samples_search()\n",
    "            print(\"       \")\n",
    "            \n",
    "all_cutoff_points_print()"
   ]
  },
  {
   "cell_type": "code",
   "execution_count": 18,
   "id": "9b0198ba",
   "metadata": {},
   "outputs": [],
   "source": [
    "pdf = df[df['time_above_baseline_1year'] != 'nil']"
   ]
  },
  {
   "cell_type": "code",
   "execution_count": null,
   "id": "ee91b2d3",
   "metadata": {},
   "outputs": [],
   "source": [
    "pdf = df[df['time_above_baseline_1year'] != 'nil']\n",
    "t, pval = stats.mannwhitneyu(sample_1, sample_2)"
   ]
  }
 ],
 "metadata": {
  "environment": {
   "name": "common-cu110.m74",
   "type": "gcloud",
   "uri": "gcr.io/deeplearning-platform-release/base-cu110:m74"
  },
  "kernelspec": {
   "display_name": "Python 3",
   "language": "python",
   "name": "python3"
  },
  "language_info": {
   "codemirror_mode": {
    "name": "ipython",
    "version": 3
   },
   "file_extension": ".py",
   "mimetype": "text/x-python",
   "name": "python",
   "nbconvert_exporter": "python",
   "pygments_lexer": "ipython3",
   "version": "3.7.10"
  }
 },
 "nbformat": 4,
 "nbformat_minor": 5
}

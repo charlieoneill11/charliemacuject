{
 "cells": [
  {
   "cell_type": "code",
   "execution_count": 1,
   "id": "8b480b7c",
   "metadata": {},
   "outputs": [],
   "source": [
    "import pandas as pd\n",
    "import numpy as np\n",
    "import matplotlib\n",
    "import matplotlib.pyplot as plt\n",
    "import warnings\n",
    "warnings.filterwarnings('ignore')"
   ]
  },
  {
   "cell_type": "code",
   "execution_count": 2,
   "id": "1ca6d44b",
   "metadata": {},
   "outputs": [],
   "source": [
    "df = pd.read_csv('/home/jupyter/charliemacuject/research_papers/data/master_allstats.csv', low_memory=False)\n",
    "df.rename(columns={'InjectionType': 'Drug'}, inplace=True)"
   ]
  },
  {
   "cell_type": "code",
   "execution_count": 3,
   "id": "d804917d",
   "metadata": {},
   "outputs": [
    {
     "data": {
      "text/plain": [
       "Index(['Unnamed: 0', 'gender', 'age', 'CreatedDate', 'ExamGraph', 'Drug',\n",
       "       'NextTime', 'DaysFirst', 'actual_time', 'adherence_factor',\n",
       "       'running_ad', 'st_dev', 'prev_vision', 'mean_vision', 'std_vision',\n",
       "       'ID'],\n",
       "      dtype='object')"
      ]
     },
     "execution_count": 3,
     "metadata": {},
     "output_type": "execute_result"
    }
   ],
   "source": [
    "df.columns"
   ]
  },
  {
   "cell_type": "code",
   "execution_count": 17,
   "id": "37aae8ff",
   "metadata": {},
   "outputs": [
    {
     "data": {
      "text/html": [
       "<div>\n",
       "<style scoped>\n",
       "    .dataframe tbody tr th:only-of-type {\n",
       "        vertical-align: middle;\n",
       "    }\n",
       "\n",
       "    .dataframe tbody tr th {\n",
       "        vertical-align: top;\n",
       "    }\n",
       "\n",
       "    .dataframe thead th {\n",
       "        text-align: right;\n",
       "    }\n",
       "</style>\n",
       "<table border=\"1\" class=\"dataframe\">\n",
       "  <thead>\n",
       "    <tr style=\"text-align: right;\">\n",
       "      <th></th>\n",
       "      <th>Unnamed: 0</th>\n",
       "      <th>gender</th>\n",
       "      <th>age</th>\n",
       "      <th>CreatedDate</th>\n",
       "      <th>ExamGraph</th>\n",
       "      <th>Drug</th>\n",
       "      <th>NextTime</th>\n",
       "      <th>DaysFirst</th>\n",
       "      <th>actual_time</th>\n",
       "      <th>adherence_factor</th>\n",
       "      <th>running_ad</th>\n",
       "      <th>st_dev</th>\n",
       "      <th>prev_vision</th>\n",
       "      <th>mean_vision</th>\n",
       "      <th>std_vision</th>\n",
       "      <th>ID</th>\n",
       "    </tr>\n",
       "  </thead>\n",
       "  <tbody>\n",
       "    <tr>\n",
       "      <th>0</th>\n",
       "      <td>118</td>\n",
       "      <td>Male</td>\n",
       "      <td>91</td>\n",
       "      <td>2017-05-09</td>\n",
       "      <td>0.333333</td>\n",
       "      <td>Lucentis</td>\n",
       "      <td>8.0</td>\n",
       "      <td>104</td>\n",
       "      <td>6.0</td>\n",
       "      <td>1.00</td>\n",
       "      <td>1.25</td>\n",
       "      <td>0.0000</td>\n",
       "      <td>0.333333</td>\n",
       "      <td>0.30</td>\n",
       "      <td>0.0981</td>\n",
       "      <td>0</td>\n",
       "    </tr>\n",
       "    <tr>\n",
       "      <th>1</th>\n",
       "      <td>119</td>\n",
       "      <td>Male</td>\n",
       "      <td>91</td>\n",
       "      <td>2017-08-08</td>\n",
       "      <td>0.333333</td>\n",
       "      <td>Lucentis</td>\n",
       "      <td>12.0</td>\n",
       "      <td>195</td>\n",
       "      <td>13.0</td>\n",
       "      <td>1.62</td>\n",
       "      <td>1.12</td>\n",
       "      <td>0.1250</td>\n",
       "      <td>0.333333</td>\n",
       "      <td>0.31</td>\n",
       "      <td>0.0862</td>\n",
       "      <td>0</td>\n",
       "    </tr>\n",
       "    <tr>\n",
       "      <th>2</th>\n",
       "      <td>120</td>\n",
       "      <td>Male</td>\n",
       "      <td>91</td>\n",
       "      <td>2017-10-31</td>\n",
       "      <td>0.333333</td>\n",
       "      <td>Lucentis</td>\n",
       "      <td>12.0</td>\n",
       "      <td>279</td>\n",
       "      <td>12.0</td>\n",
       "      <td>1.00</td>\n",
       "      <td>1.29</td>\n",
       "      <td>0.2547</td>\n",
       "      <td>0.333333</td>\n",
       "      <td>0.31</td>\n",
       "      <td>0.0777</td>\n",
       "      <td>0</td>\n",
       "    </tr>\n",
       "    <tr>\n",
       "      <th>3</th>\n",
       "      <td>121</td>\n",
       "      <td>Male</td>\n",
       "      <td>91</td>\n",
       "      <td>2018-01-23</td>\n",
       "      <td>0.333333</td>\n",
       "      <td>Lucentis</td>\n",
       "      <td>12.0</td>\n",
       "      <td>363</td>\n",
       "      <td>12.0</td>\n",
       "      <td>1.00</td>\n",
       "      <td>1.22</td>\n",
       "      <td>0.2538</td>\n",
       "      <td>0.333333</td>\n",
       "      <td>0.32</td>\n",
       "      <td>0.0714</td>\n",
       "      <td>0</td>\n",
       "    </tr>\n",
       "    <tr>\n",
       "      <th>4</th>\n",
       "      <td>122</td>\n",
       "      <td>Male</td>\n",
       "      <td>91</td>\n",
       "      <td>2018-04-24</td>\n",
       "      <td>0.333333</td>\n",
       "      <td>Lucentis</td>\n",
       "      <td>12.0</td>\n",
       "      <td>454</td>\n",
       "      <td>13.0</td>\n",
       "      <td>1.08</td>\n",
       "      <td>1.17</td>\n",
       "      <td>0.2431</td>\n",
       "      <td>0.333333</td>\n",
       "      <td>0.32</td>\n",
       "      <td>0.0663</td>\n",
       "      <td>0</td>\n",
       "    </tr>\n",
       "  </tbody>\n",
       "</table>\n",
       "</div>"
      ],
      "text/plain": [
       "   Unnamed: 0 gender  age CreatedDate  ExamGraph      Drug  NextTime  \\\n",
       "0         118   Male   91  2017-05-09   0.333333  Lucentis       8.0   \n",
       "1         119   Male   91  2017-08-08   0.333333  Lucentis      12.0   \n",
       "2         120   Male   91  2017-10-31   0.333333  Lucentis      12.0   \n",
       "3         121   Male   91  2018-01-23   0.333333  Lucentis      12.0   \n",
       "4         122   Male   91  2018-04-24   0.333333  Lucentis      12.0   \n",
       "\n",
       "   DaysFirst  actual_time  adherence_factor  running_ad  st_dev  prev_vision  \\\n",
       "0        104          6.0              1.00        1.25  0.0000     0.333333   \n",
       "1        195         13.0              1.62        1.12  0.1250     0.333333   \n",
       "2        279         12.0              1.00        1.29  0.2547     0.333333   \n",
       "3        363         12.0              1.00        1.22  0.2538     0.333333   \n",
       "4        454         13.0              1.08        1.17  0.2431     0.333333   \n",
       "\n",
       "   mean_vision  std_vision  ID  \n",
       "0         0.30      0.0981   0  \n",
       "1         0.31      0.0862   0  \n",
       "2         0.31      0.0777   0  \n",
       "3         0.32      0.0714   0  \n",
       "4         0.32      0.0663   0  "
      ]
     },
     "execution_count": 17,
     "metadata": {},
     "output_type": "execute_result"
    }
   ],
   "source": [
    "df.head()"
   ]
  },
  {
   "cell_type": "code",
   "execution_count": 14,
   "id": "1ab51b87",
   "metadata": {},
   "outputs": [],
   "source": [
    "def drug_df_separator(df):\n",
    "        \"\"\"\n",
    "        Produces a list of dataframes based single vs mult drugs.\n",
    "        Input: self.\n",
    "        Output: [Pandas dataframe].\n",
    "        \"\"\"\n",
    "        df = df.dropna(subset=['Drug'])\n",
    "        lucentis, eylea, avastin, mult = [], [], [], []\n",
    "        drug_list = ['Lucentis', 'Eylea', 'Avastin']\n",
    "        id_list = df['ID'].unique()\n",
    "        for eye in id_list:\n",
    "            pdf = df[df['ID'] == eye]\n",
    "            drugs = pdf['Drug'].unique()\n",
    "            if len(drugs) == 1:\n",
    "                if drugs[0] == 'Lucentis':\n",
    "                    lucentis.append(pdf)\n",
    "                elif drugs[0] == 'Eylea':\n",
    "                    eylea.append(pdf)\n",
    "                else:\n",
    "                    avastin.append(pdf)\n",
    "            else:\n",
    "                mult.append(pdf)\n",
    "        return pd.concat(lucentis), pd.concat(eylea), pd.concat(mult)"
   ]
  },
  {
   "cell_type": "code",
   "execution_count": 15,
   "id": "d5a38c7d",
   "metadata": {},
   "outputs": [],
   "source": [
    "luc_df, eyl_df, mult_df = drug_df_separator(df)"
   ]
  },
  {
   "cell_type": "code",
   "execution_count": 16,
   "id": "309fa4a2",
   "metadata": {},
   "outputs": [
    {
     "data": {
      "text/plain": [
       "(1049, 1338, 4031)"
      ]
     },
     "execution_count": 16,
     "metadata": {},
     "output_type": "execute_result"
    }
   ],
   "source": [
    "len(luc_df), len(eyl_df), len(mult_df)"
   ]
  },
  {
   "cell_type": "code",
   "execution_count": 35,
   "id": "fa6a68e3",
   "metadata": {},
   "outputs": [
    {
     "name": "stdout",
     "output_type": "stream",
     "text": [
      "Lucentis means for first three visits: 6.877385772122614, 7.63794100636206, 8.223828802776172.\n",
      "Eylea means for first three visits: 6.591296121097446, 7.525070955534532, 7.521286660359508.\n"
     ]
    }
   ],
   "source": [
    "def loading_dose(df):\n",
    "    id_list = df.ID.unique()\n",
    "    luc_fst, luc_snd, luc_thrd = [], [], []\n",
    "    eyl_fst, eyl_snd, eyl_thrd = [], [], []\n",
    "    for eye in id_list:\n",
    "        pdf = df[df.ID == eye]\n",
    "        pdf.CreatedDate = pd.to_datetime(pdf.CreatedDate)\n",
    "        pdf.sort_values(by=['CreatedDate'], inplace=True)\n",
    "        if len(pdf) > 3 and pdf.Drug.iloc[0] == 'Lucentis':\n",
    "            luc_fst.append((pdf.CreatedDate.iloc[1] - pdf.CreatedDate.iloc[0]).days)\n",
    "            luc_snd.append((pdf.CreatedDate.iloc[2] - pdf.CreatedDate.iloc[1]).days)\n",
    "            luc_thrd.append((pdf.CreatedDate.iloc[3] - pdf.CreatedDate.iloc[2]).days)\n",
    "        elif len(pdf) > 3 and pdf.Drug.iloc[0] == 'Eylea':\n",
    "            eyl_fst.append((pdf.CreatedDate.iloc[1] - pdf.CreatedDate.iloc[0]).days)\n",
    "            eyl_snd.append((pdf.CreatedDate.iloc[2] - pdf.CreatedDate.iloc[1]).days)\n",
    "            eyl_thrd.append((pdf.CreatedDate.iloc[3] - pdf.CreatedDate.iloc[2]).days)\n",
    "        else:\n",
    "            pass\n",
    "    return luc_fst, luc_snd, luc_thrd, eyl_fst, eyl_snd, eyl_thrd\n",
    "\n",
    "luc_fst, luc_snd, luc_thrd, eyl_fst, eyl_snd, eyl_thrd = loading_dose(df)\n",
    "    \n",
    "print(\"Lucentis means for first three visits: {}, {}, {}.\".format(np.mean(luc_fst)/7, np.mean(luc_snd)/7, np.mean(luc_thrd)/7))\n",
    "print(\"Eylea means for first three visits: {}, {}, {}.\".format(np.mean(eyl_fst)/7, np.mean(eyl_snd)/7, np.mean(eyl_thrd)/7))"
   ]
  },
  {
   "cell_type": "code",
   "execution_count": 40,
   "id": "040b52e8",
   "metadata": {},
   "outputs": [
    {
     "data": {
      "text/plain": [
       "MannwhitneyuResult(statistic=16751.0, pvalue=0.04337313315969649)"
      ]
     },
     "execution_count": 40,
     "metadata": {},
     "output_type": "execute_result"
    }
   ],
   "source": [
    "import statsmodels.api as sm\n",
    "import statsmodels.stats.api as sms\n",
    "from scipy import stats\n",
    "\n",
    "stats.mannwhitneyu(luc_thrd, eyl_thrd)"
   ]
  },
  {
   "cell_type": "code",
   "execution_count": 48,
   "id": "14ff3f57",
   "metadata": {},
   "outputs": [
    {
     "name": "stdout",
     "output_type": "stream",
     "text": [
      "(-5.768792778187898, 15.604382772021179)\n"
     ]
    }
   ],
   "source": [
    "cm = sms.CompareMeans(sms.DescrStatsW(luc_thrd), sms.DescrStatsW(eyl_thrd))\n",
    "print(cm.tconfint_diff(usevar='unequal'))"
   ]
  },
  {
   "cell_type": "code",
   "execution_count": 61,
   "id": "edf13662",
   "metadata": {},
   "outputs": [
    {
     "data": {
      "text/plain": [
       "-2.2285714285714286"
      ]
     },
     "execution_count": 61,
     "metadata": {},
     "output_type": "execute_result"
    }
   ],
   "source": [
    "-15.6/7"
   ]
  },
  {
   "cell_type": "code",
   "execution_count": 5,
   "id": "708a74f8",
   "metadata": {},
   "outputs": [
    {
     "data": {
      "text/plain": [
       "array([ 6., 13., 12., 16.,  4.,  8.,  5.,  4.,  5.,  7.,  4.,  3.,  4.,\n",
       "        5.,  8.,  8.,  3.,  4.,  4.,  3.,  5.,  9.,  9.,  7.,  7.,  9.,\n",
       "        8.,  9.,  6.,  3.,  5.,  9.,  5., 10., 11.,  4.,  8.,  7., 11.,\n",
       "        8.,  1., 10.,  7.,  7.,  6., 10.,  3., 19.,  3.,  5., 23.,  9.,\n",
       "        6., 10.,  2.,  7.,  6.,  2., 14., 13., 10.,  6.,  8., 13.,  3.,\n",
       "       12., 12., 12., 12., 11., 11., 11.,  9., 10., 12.,  1., 14., 19.,\n",
       "        6.,  2., 13., 21., 49.,  2., 12., 14., 11., 10., 14.,  1., 20.,\n",
       "        1., 11., 22.,  2., 13., 15.,  1., 13., 35.,  2.,  0., 39.,  2.,\n",
       "       16., 13., 18., 15., 17., 15., 33.])"
      ]
     },
     "execution_count": 5,
     "metadata": {},
     "output_type": "execute_result"
    }
   ],
   "source": [
    "np.round(df.actual_time.unique())"
   ]
  },
  {
   "cell_type": "code",
   "execution_count": 23,
   "id": "fcffed31",
   "metadata": {},
   "outputs": [
    {
     "data": {
      "text/html": [
       "<div>\n",
       "<style scoped>\n",
       "    .dataframe tbody tr th:only-of-type {\n",
       "        vertical-align: middle;\n",
       "    }\n",
       "\n",
       "    .dataframe tbody tr th {\n",
       "        vertical-align: top;\n",
       "    }\n",
       "\n",
       "    .dataframe thead th {\n",
       "        text-align: right;\n",
       "    }\n",
       "</style>\n",
       "<table border=\"1\" class=\"dataframe\">\n",
       "  <thead>\n",
       "    <tr style=\"text-align: right;\">\n",
       "      <th></th>\n",
       "      <th>Unnamed: 0</th>\n",
       "      <th>id</th>\n",
       "      <th>eye_id</th>\n",
       "      <th>next_visit_date</th>\n",
       "      <th>created_at</th>\n",
       "      <th>next_interval_in_weeks</th>\n",
       "      <th>drug_id</th>\n",
       "      <th>next_drug_id</th>\n",
       "      <th>admission_date</th>\n",
       "      <th>doctor_visit_type</th>\n",
       "      <th>Recommended drug</th>\n",
       "      <th>Recommended next drug</th>\n",
       "      <th>Recommended next interval</th>\n",
       "      <th>Drug</th>\n",
       "      <th>Next Drug</th>\n",
       "      <th>Next Interval</th>\n",
       "      <th>visual_acuity</th>\n",
       "    </tr>\n",
       "  </thead>\n",
       "  <tbody>\n",
       "    <tr>\n",
       "      <th>0</th>\n",
       "      <td>0</td>\n",
       "      <td>38767.0</td>\n",
       "      <td>3149.0</td>\n",
       "      <td>9/12/19</td>\n",
       "      <td>2020-07-13 14:00:16 +1000</td>\n",
       "      <td>4.0</td>\n",
       "      <td>1.0</td>\n",
       "      <td>1.0</td>\n",
       "      <td>11/11/19</td>\n",
       "      <td>NaN</td>\n",
       "      <td>NaN</td>\n",
       "      <td>NaN</td>\n",
       "      <td>NaN</td>\n",
       "      <td>Lucentis</td>\n",
       "      <td>Lucentis</td>\n",
       "      <td>4</td>\n",
       "      <td>55.0</td>\n",
       "    </tr>\n",
       "    <tr>\n",
       "      <th>1</th>\n",
       "      <td>1</td>\n",
       "      <td>38769.0</td>\n",
       "      <td>3149.0</td>\n",
       "      <td>17/1/20</td>\n",
       "      <td>2020-07-13 14:00:16 +1000</td>\n",
       "      <td>4.0</td>\n",
       "      <td>1.0</td>\n",
       "      <td>1.0</td>\n",
       "      <td>20/12/19</td>\n",
       "      <td>NaN</td>\n",
       "      <td>NaN</td>\n",
       "      <td>NaN</td>\n",
       "      <td>NaN</td>\n",
       "      <td>Lucentis</td>\n",
       "      <td>Lucentis</td>\n",
       "      <td>4</td>\n",
       "      <td>55.0</td>\n",
       "    </tr>\n",
       "    <tr>\n",
       "      <th>2</th>\n",
       "      <td>2</td>\n",
       "      <td>38771.0</td>\n",
       "      <td>3149.0</td>\n",
       "      <td>14/2/20</td>\n",
       "      <td>2020-07-13 14:00:16 +1000</td>\n",
       "      <td>4.0</td>\n",
       "      <td>1.0</td>\n",
       "      <td>1.0</td>\n",
       "      <td>17/1/20</td>\n",
       "      <td>NaN</td>\n",
       "      <td>NaN</td>\n",
       "      <td>NaN</td>\n",
       "      <td>NaN</td>\n",
       "      <td>Lucentis</td>\n",
       "      <td>Lucentis</td>\n",
       "      <td>4</td>\n",
       "      <td>55.0</td>\n",
       "    </tr>\n",
       "    <tr>\n",
       "      <th>3</th>\n",
       "      <td>3</td>\n",
       "      <td>38773.0</td>\n",
       "      <td>3149.0</td>\n",
       "      <td>13/3/20</td>\n",
       "      <td>2020-07-13 14:00:16 +1000</td>\n",
       "      <td>4.0</td>\n",
       "      <td>1.0</td>\n",
       "      <td>1.0</td>\n",
       "      <td>14/2/20</td>\n",
       "      <td>NaN</td>\n",
       "      <td>NaN</td>\n",
       "      <td>NaN</td>\n",
       "      <td>NaN</td>\n",
       "      <td>Lucentis</td>\n",
       "      <td>Lucentis</td>\n",
       "      <td>4</td>\n",
       "      <td>55.0</td>\n",
       "    </tr>\n",
       "    <tr>\n",
       "      <th>4</th>\n",
       "      <td>4</td>\n",
       "      <td>38775.0</td>\n",
       "      <td>3149.0</td>\n",
       "      <td>13/4/20</td>\n",
       "      <td>2020-07-13 14:00:16 +1000</td>\n",
       "      <td>4.0</td>\n",
       "      <td>1.0</td>\n",
       "      <td>1.0</td>\n",
       "      <td>16/3/20</td>\n",
       "      <td>NaN</td>\n",
       "      <td>NaN</td>\n",
       "      <td>NaN</td>\n",
       "      <td>NaN</td>\n",
       "      <td>Lucentis</td>\n",
       "      <td>Lucentis</td>\n",
       "      <td>4</td>\n",
       "      <td>55.0</td>\n",
       "    </tr>\n",
       "  </tbody>\n",
       "</table>\n",
       "</div>"
      ],
      "text/plain": [
       "   Unnamed: 0       id  eye_id next_visit_date                 created_at  \\\n",
       "0           0  38767.0  3149.0         9/12/19  2020-07-13 14:00:16 +1000   \n",
       "1           1  38769.0  3149.0         17/1/20  2020-07-13 14:00:16 +1000   \n",
       "2           2  38771.0  3149.0         14/2/20  2020-07-13 14:00:16 +1000   \n",
       "3           3  38773.0  3149.0         13/3/20  2020-07-13 14:00:16 +1000   \n",
       "4           4  38775.0  3149.0         13/4/20  2020-07-13 14:00:16 +1000   \n",
       "\n",
       "   next_interval_in_weeks  drug_id  next_drug_id admission_date  \\\n",
       "0                     4.0      1.0           1.0       11/11/19   \n",
       "1                     4.0      1.0           1.0       20/12/19   \n",
       "2                     4.0      1.0           1.0        17/1/20   \n",
       "3                     4.0      1.0           1.0        14/2/20   \n",
       "4                     4.0      1.0           1.0        16/3/20   \n",
       "\n",
       "  doctor_visit_type Recommended drug Recommended next drug  \\\n",
       "0               NaN              NaN                   NaN   \n",
       "1               NaN              NaN                   NaN   \n",
       "2               NaN              NaN                   NaN   \n",
       "3               NaN              NaN                   NaN   \n",
       "4               NaN              NaN                   NaN   \n",
       "\n",
       "  Recommended next interval      Drug Next Drug Next Interval  visual_acuity  \n",
       "0                       NaN  Lucentis  Lucentis             4           55.0  \n",
       "1                       NaN  Lucentis  Lucentis             4           55.0  \n",
       "2                       NaN  Lucentis  Lucentis             4           55.0  \n",
       "3                       NaN  Lucentis  Lucentis             4           55.0  \n",
       "4                       NaN  Lucentis  Lucentis             4           55.0  "
      ]
     },
     "execution_count": 23,
     "metadata": {},
     "output_type": "execute_result"
    }
   ],
   "source": [
    "df = pd.read_csv('https://raw.githubusercontent.com/charlieoneill11/macuject_automated/main/data/master.csv?token=APDSLSQLIDQSLNNWAFWR7JDBA6VL4')\n",
    "df.head()"
   ]
  },
  {
   "cell_type": "code",
   "execution_count": 29,
   "id": "f4718070",
   "metadata": {},
   "outputs": [
    {
     "data": {
      "text/plain": [
       "array(['4', nan, '0', 'nil', '6', '7', '5', '8', '13', '12', '9', '11',\n",
       "       '10', '17', '14', '2', '3', '1', '15', '16', '0.0', '4.0', '6.0',\n",
       "       '16.0', '12.0', '8.0', '5.0', '3.0', '18.0', '20.0', '10.0', '9.0',\n",
       "       '7.0', '11.0', '2.0', '13.0', '15.0', '14.0', '17.0', '19.0', 4.0,\n",
       "       0.0, 8.0, 6.0, 5.0, 10.0, 7.0, 3.0, 18.0, 16.0, 20.0, 12.0, 11.0,\n",
       "       9.0, 19.0, 13.0, 14.0, 17.0, 15.0, 2.0], dtype=object)"
      ]
     },
     "execution_count": 29,
     "metadata": {},
     "output_type": "execute_result"
    }
   ],
   "source": [
    "df['Next Interval'].unique()"
   ]
  },
  {
   "cell_type": "code",
   "execution_count": 49,
   "id": "0496db72",
   "metadata": {},
   "outputs": [],
   "source": [
    "def interval_combs(df):\n",
    "    eye_list = df['eye_id'].unique()\n",
    "    interval_list_luc, interval_list_eyl = [], []\n",
    "    for eye in eye_list:\n",
    "        df_new = df[df['eye_id'] == eye]\n",
    "        df_new = df_new[df_new['Next Interval'] != '0']\n",
    "        df_new = df_new[df_new['Next Interval'] != '0.0']\n",
    "        df_new = df_new[df_new['Next Interval'] != 'None']\n",
    "        df_new = df_new[df_new['Next Interval'] != 'nil']\n",
    "        df_new['Next Interval'] = pd.to_numeric(df_new['Next Interval'])\n",
    "        df_new = df_new.dropna(subset=['Next Interval'])\n",
    "        if len(df_new) > 4:\n",
    "            interval_luc, interval_eyl = [], []\n",
    "            for i in range(4):\n",
    "                if df_new['Drug'].iloc[0] == 'Lucentis':\n",
    "                    if int(df_new['Next Interval'].iloc[i]) == 0 or int(df_new['Next Interval'].iloc[i]) == 12:\n",
    "                        interval_luc.append(4)\n",
    "                    else:\n",
    "                        interval_luc.append(int(df_new['Next Interval'].iloc[i]))\n",
    "                elif df_new['Drug'].iloc[0] == 'Eylea':\n",
    "                    if int(df_new['Next Interval'].iloc[i]) == 0 or int(df_new['Next Interval'].iloc[i]) == 12:\n",
    "                        interval_eyl.append(4)\n",
    "                    else:\n",
    "                        interval_eyl.append(int(df_new['Next Interval'].iloc[i]))\n",
    "                else:\n",
    "                    pass\n",
    "            interval_list_luc.append(interval_luc)\n",
    "            interval_list_eyl.append(interval_eyl)\n",
    "    interval_set_luc = [list(x) for x in set(tuple(x) for x in interval_list_luc)]\n",
    "    interval_set_eyl = [list(x) for x in set(tuple(x) for x in interval_list_eyl)]\n",
    "    count_luc, comb_luc = [], []\n",
    "    count_eyl, comb_eyl = [], []\n",
    "    for i in interval_set_luc:\n",
    "        if interval_list_luc.count(i) > 5:\n",
    "            count_luc.append(interval_list_luc.count(i))\n",
    "            comb_luc.append(i)\n",
    "    for i in interval_set_eyl:\n",
    "        if interval_list_eyl.count(i) > 5:\n",
    "            count_eyl.append(interval_list_eyl.count(i))\n",
    "            comb_eyl.append(i)\n",
    "    return count_luc, comb_luc, count_eyl, comb_eyl"
   ]
  },
  {
   "cell_type": "code",
   "execution_count": 56,
   "id": "9448aa3f",
   "metadata": {},
   "outputs": [
    {
     "data": {
      "text/plain": [
       "([17, 14, 12, 9, 110, 395, 7, 9],\n",
       " [[4, 4, 4, 6],\n",
       "  [8, 8, 8, 8],\n",
       "  [4, 6, 4, 4],\n",
       "  [4, 4, 6, 4],\n",
       "  [4, 4, 4, 4],\n",
       "  [],\n",
       "  [6, 4, 4, 4],\n",
       "  [4, 4, 6, 8]],\n",
       " [19, 10, 91, 459, 8],\n",
       " [[4, 4, 4, 6], [4, 4, 6, 4], [4, 4, 4, 4], [], [6, 4, 4, 4]])"
      ]
     },
     "execution_count": 56,
     "metadata": {},
     "output_type": "execute_result"
    }
   ],
   "source": [
    "interval_combs(df)"
   ]
  },
  {
   "cell_type": "code",
   "execution_count": 61,
   "id": "79cd2173",
   "metadata": {},
   "outputs": [],
   "source": [
    "def interval_frequency(df):\n",
    "    _, _, count, comb = interval_combs(df)\n",
    "\n",
    "    # delete nonsensical rows\n",
    "    comb.remove([])\n",
    "    del count[3]\n",
    "\n",
    "    # get the dataframe of comb and count\n",
    "    comb_df = pd.DataFrame(\n",
    "        {'count': count,\n",
    "         'comb': comb\n",
    "        })\n",
    "    comb_df.sort_values('count', inplace=True, ascending=False)\n",
    "    comb_df.reset_index(inplace=True, drop=True)\n",
    "\n",
    "    # plot the interval frequencies\n",
    "    plt.rcdefaults()\n",
    "    matplotlib.rcParams['font.size'] = 18\n",
    "    fig, ax = plt.subplots(figsize=(12, 8))\n",
    "    colrs = ['#03254c', '#1167b1', '#187bcd', '#2a9df4', '#d0efff']\n",
    "\n",
    "    # data\n",
    "    combs = comb_df['comb']\n",
    "    y_pos = np.arange(len(combs))\n",
    "    interval_length = comb_df['count']\n",
    "\n",
    "    ax.barh(y_pos, interval_length, align='center', color=colrs)\n",
    "    ax.set_yticks(y_pos)\n",
    "    ax.set_yticklabels(combs, fontsize=16)\n",
    "    ax.invert_yaxis()  # labels read top-to-bottom\n",
    "    ax.set_xlabel('Interval Pattern: Number of Patients', fontsize=18)\n",
    "\n",
    "    plt.show()"
   ]
  },
  {
   "cell_type": "code",
   "execution_count": 62,
   "id": "41630ad0",
   "metadata": {},
   "outputs": [
    {
     "data": {
      "image/png": "[encoded data removed]",
      "text/plain": [
       "<Figure size 1200x800 with 1 Axes>"
      ]
     },
     "metadata": {},
     "output_type": "display_data"
    }
   ],
   "source": [
    "interval_frequency(df)"
   ]
  },
  {
   "cell_type": "markdown",
   "id": "dedfb87d",
   "metadata": {},
   "source": [
    "## Drug total utilisation"
   ]
  },
  {
   "cell_type": "code",
   "execution_count": 54,
   "id": "2d3c0d85",
   "metadata": {},
   "outputs": [],
   "source": [
    "def drug_totals(df, num_visits, drug_name):\n",
    "    eye_list = df['ID'].unique()\n",
    "    drugs_list, names_list = [], ['Lucentis', 'Avastin', 'Eylea']\n",
    "    for eye in eye_list:\n",
    "        count, df_new = 0, df[df['ID'] == eye]\n",
    "        if len(df_new) > num_visits:\n",
    "            for i in range(len(df_new)):\n",
    "                while count < num_visits:\n",
    "                    date = df_new['CreatedDate'].iloc[i]\n",
    "                    drug = df_new['Drug'].iloc[i]\n",
    "                    if drug in names_list:\n",
    "                        drugs_list.append(drug)\n",
    "                    count += 1\n",
    "                    i += 1\n",
    "    length = len(drugs_list)\n",
    "    count_drug = drugs_list.count(drug_name)\n",
    "    return count_drug\n",
    "\n",
    "# this function recurses over all patients in dataframe\n",
    "def all_drugs(visit_num, drug_name, df):\n",
    "    counts = []\n",
    "    for i in range(1, visit_num+1):\n",
    "        average_drug = drug_totals(df, i, drug_name)\n",
    "        counts.append(average_drug)\n",
    "    return counts\n",
    "\n",
    "# get the numbers for each drug\n",
    "w, y, z = all_drugs(50, 'Lucentis', df), all_drugs(50, 'Eylea', df), all_drugs(50, 'Avastin', df)"
   ]
  },
  {
   "cell_type": "code",
   "execution_count": 57,
   "id": "ced2bd89",
   "metadata": {},
   "outputs": [
    {
     "data": {
      "image/png": "[encoded data removed]",
      "text/plain": [
       "<Figure size 864x504 with 1 Axes>"
      ]
     },
     "metadata": {
      "needs_background": "light"
     },
     "output_type": "display_data"
    }
   ],
   "source": [
    "matplotlib.rcParams['font.size'] = 18\n",
    "x = list(range(1, 51))\n",
    "fig = plt.figure(figsize=(12, 7))\n",
    "ax = plt.axes()\n",
    "ax.set(xlabel='Visit Number', ylabel='Number of Injections Using Drug')\n",
    "ax.plot(x, w, label='Lucentis', color='#03254c')\n",
    "ax.plot(x, y, label='Eylea', color='#187bcd')\n",
    "ax.legend(loc='lower left')\n",
    "right_side = ax.spines[\"right\"]\n",
    "left_side = ax.spines['left']\n",
    "top_side = ax.spines['top']\n",
    "right_side.set_visible(False)\n",
    "left_side.set_visible(False)\n",
    "top_side.set_visible(False)"
   ]
  },
  {
   "cell_type": "code",
   "execution_count": null,
   "id": "8e1f9903",
   "metadata": {},
   "outputs": [],
   "source": []
  }
 ],
 "metadata": {
  "environment": {
   "name": "common-cu110.m74",
   "type": "gcloud",
   "uri": "gcr.io/deeplearning-platform-release/base-cu110:m74"
  },
  "kernelspec": {
   "display_name": "Python 3",
   "language": "python",
   "name": "python3"
  },
  "language_info": {
   "codemirror_mode": {
    "name": "ipython",
    "version": 3
   },
   "file_extension": ".py",
   "mimetype": "text/x-python",
   "name": "python",
   "nbconvert_exporter": "python",
   "pygments_lexer": "ipython3",
   "version": "3.7.10"
  }
 },
 "nbformat": 4,
 "nbformat_minor": 5
}

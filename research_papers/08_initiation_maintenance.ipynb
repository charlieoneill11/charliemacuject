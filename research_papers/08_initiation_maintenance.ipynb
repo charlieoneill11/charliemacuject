{
 "cells": [
  {
   "cell_type": "markdown",
   "metadata": {},
   "source": [
    "# Initiation and maintenance splitter"
   ]
  },
  {
   "cell_type": "code",
   "execution_count": 1,
   "metadata": {},
   "outputs": [],
   "source": [
    "import pandas as pd\n",
    "import numpy as np\n",
    "import matplotlib.pyplot as plt\n",
    "import datetime\n",
    "\n",
    "import warnings\n",
    "warnings.filterwarnings('ignore')"
   ]
  },
  {
   "cell_type": "code",
   "execution_count": 2,
   "metadata": {},
   "outputs": [
    {
     "data": {
      "text/html": [
       "<div>\n",
       "<style scoped>\n",
       "    .dataframe tbody tr th:only-of-type {\n",
       "        vertical-align: middle;\n",
       "    }\n",
       "\n",
       "    .dataframe tbody tr th {\n",
       "        vertical-align: top;\n",
       "    }\n",
       "\n",
       "    .dataframe thead th {\n",
       "        text-align: right;\n",
       "    }\n",
       "</style>\n",
       "<table border=\"1\" class=\"dataframe\">\n",
       "  <thead>\n",
       "    <tr style=\"text-align: right;\">\n",
       "      <th></th>\n",
       "      <th>Unnamed: 0</th>\n",
       "      <th>gender</th>\n",
       "      <th>age</th>\n",
       "      <th>CreatedDate</th>\n",
       "      <th>ExamGraph</th>\n",
       "      <th>NextTime</th>\n",
       "      <th>DaysFirst</th>\n",
       "      <th>actual_time</th>\n",
       "      <th>adherence_factor</th>\n",
       "      <th>running_ad</th>\n",
       "      <th>st_dev</th>\n",
       "      <th>prev_vision</th>\n",
       "      <th>mean_vision</th>\n",
       "      <th>std_vision</th>\n",
       "      <th>ID</th>\n",
       "    </tr>\n",
       "  </thead>\n",
       "  <tbody>\n",
       "    <tr>\n",
       "      <th>0</th>\n",
       "      <td>118</td>\n",
       "      <td>Male</td>\n",
       "      <td>91</td>\n",
       "      <td>2017-05-09</td>\n",
       "      <td>0.333333</td>\n",
       "      <td>8.0</td>\n",
       "      <td>104</td>\n",
       "      <td>6.0</td>\n",
       "      <td>1.00</td>\n",
       "      <td>1.25</td>\n",
       "      <td>0.0000</td>\n",
       "      <td>0.333333</td>\n",
       "      <td>0.30</td>\n",
       "      <td>0.0981</td>\n",
       "      <td>0</td>\n",
       "    </tr>\n",
       "    <tr>\n",
       "      <th>1</th>\n",
       "      <td>119</td>\n",
       "      <td>Male</td>\n",
       "      <td>91</td>\n",
       "      <td>2017-08-08</td>\n",
       "      <td>0.333333</td>\n",
       "      <td>12.0</td>\n",
       "      <td>195</td>\n",
       "      <td>13.0</td>\n",
       "      <td>1.62</td>\n",
       "      <td>1.12</td>\n",
       "      <td>0.1250</td>\n",
       "      <td>0.333333</td>\n",
       "      <td>0.31</td>\n",
       "      <td>0.0862</td>\n",
       "      <td>0</td>\n",
       "    </tr>\n",
       "    <tr>\n",
       "      <th>2</th>\n",
       "      <td>120</td>\n",
       "      <td>Male</td>\n",
       "      <td>91</td>\n",
       "      <td>2017-10-31</td>\n",
       "      <td>0.333333</td>\n",
       "      <td>12.0</td>\n",
       "      <td>279</td>\n",
       "      <td>12.0</td>\n",
       "      <td>1.00</td>\n",
       "      <td>1.29</td>\n",
       "      <td>0.2547</td>\n",
       "      <td>0.333333</td>\n",
       "      <td>0.31</td>\n",
       "      <td>0.0777</td>\n",
       "      <td>0</td>\n",
       "    </tr>\n",
       "    <tr>\n",
       "      <th>3</th>\n",
       "      <td>121</td>\n",
       "      <td>Male</td>\n",
       "      <td>91</td>\n",
       "      <td>2018-01-23</td>\n",
       "      <td>0.333333</td>\n",
       "      <td>12.0</td>\n",
       "      <td>363</td>\n",
       "      <td>12.0</td>\n",
       "      <td>1.00</td>\n",
       "      <td>1.22</td>\n",
       "      <td>0.2538</td>\n",
       "      <td>0.333333</td>\n",
       "      <td>0.32</td>\n",
       "      <td>0.0714</td>\n",
       "      <td>0</td>\n",
       "    </tr>\n",
       "    <tr>\n",
       "      <th>4</th>\n",
       "      <td>122</td>\n",
       "      <td>Male</td>\n",
       "      <td>91</td>\n",
       "      <td>2018-04-24</td>\n",
       "      <td>0.333333</td>\n",
       "      <td>12.0</td>\n",
       "      <td>454</td>\n",
       "      <td>13.0</td>\n",
       "      <td>1.08</td>\n",
       "      <td>1.17</td>\n",
       "      <td>0.2431</td>\n",
       "      <td>0.333333</td>\n",
       "      <td>0.32</td>\n",
       "      <td>0.0663</td>\n",
       "      <td>0</td>\n",
       "    </tr>\n",
       "  </tbody>\n",
       "</table>\n",
       "</div>"
      ],
      "text/plain": [
       "   Unnamed: 0 gender  age CreatedDate  ExamGraph  NextTime  DaysFirst  \\\n",
       "0         118   Male   91  2017-05-09   0.333333       8.0        104   \n",
       "1         119   Male   91  2017-08-08   0.333333      12.0        195   \n",
       "2         120   Male   91  2017-10-31   0.333333      12.0        279   \n",
       "3         121   Male   91  2018-01-23   0.333333      12.0        363   \n",
       "4         122   Male   91  2018-04-24   0.333333      12.0        454   \n",
       "\n",
       "   actual_time  adherence_factor  running_ad  st_dev  prev_vision  \\\n",
       "0          6.0              1.00        1.25  0.0000     0.333333   \n",
       "1         13.0              1.62        1.12  0.1250     0.333333   \n",
       "2         12.0              1.00        1.29  0.2547     0.333333   \n",
       "3         12.0              1.00        1.22  0.2538     0.333333   \n",
       "4         13.0              1.08        1.17  0.2431     0.333333   \n",
       "\n",
       "   mean_vision  std_vision  ID  \n",
       "0         0.30      0.0981   0  \n",
       "1         0.31      0.0862   0  \n",
       "2         0.31      0.0777   0  \n",
       "3         0.32      0.0714   0  \n",
       "4         0.32      0.0663   0  "
      ]
     },
     "execution_count": 2,
     "metadata": {},
     "output_type": "execute_result"
    }
   ],
   "source": [
    "df = pd.read_csv('/home/jupyter/charliemacuject/research_papers/data/master_allstats.csv')\n",
    "# ndf = ndf.rename(columns={\"Patient::PatientBCID\": \"ID\", \"Patient::PatientGender\": \"gender\", \"Current age in 2020\": \"age\"})\n",
    "df.head()"
   ]
  },
  {
   "cell_type": "code",
   "execution_count": 3,
   "metadata": {},
   "outputs": [
    {
     "data": {
      "text/plain": [
       "(6637, 15)"
      ]
     },
     "execution_count": 3,
     "metadata": {},
     "output_type": "execute_result"
    }
   ],
   "source": [
    "df.shape"
   ]
  },
  {
   "cell_type": "markdown",
   "metadata": {},
   "source": [
    "## Check what some intervals look like"
   ]
  },
  {
   "cell_type": "code",
   "execution_count": 4,
   "metadata": {},
   "outputs": [
    {
     "ename": "NameError",
     "evalue": "name 'check_id' is not defined",
     "output_type": "error",
     "traceback": [
      "\u001b[0;31m---------------------------------------------------------------------------\u001b[0m",
      "\u001b[0;31mNameError\u001b[0m                                 Traceback (most recent call last)",
      "\u001b[0;32m<ipython-input-4-baab33cd4593>\u001b[0m in \u001b[0;36m<module>\u001b[0;34m\u001b[0m\n\u001b[0;32m----> 1\u001b[0;31m \u001b[0mintervals\u001b[0m \u001b[0;34m=\u001b[0m \u001b[0mcheck_id\u001b[0m\u001b[0;34m[\u001b[0m\u001b[0;34m'actual_time'\u001b[0m\u001b[0;34m]\u001b[0m\u001b[0;34m\u001b[0m\u001b[0;34m\u001b[0m\u001b[0m\n\u001b[0m\u001b[1;32m      2\u001b[0m \u001b[0mintervals\u001b[0m\u001b[0;34m\u001b[0m\u001b[0;34m\u001b[0m\u001b[0m\n",
      "\u001b[0;31mNameError\u001b[0m: name 'check_id' is not defined"
     ]
    }
   ],
   "source": [
    "intervals = check_id['actual_time']\n",
    "intervals"
   ]
  },
  {
   "cell_type": "markdown",
   "metadata": {},
   "source": [
    "## Use biggest jump to determine where cutoff should be"
   ]
  },
  {
   "cell_type": "code",
   "execution_count": 5,
   "metadata": {},
   "outputs": [],
   "source": [
    "# get the test dataframe: one patient\n",
    "test_df = df[df['ID'] == 2]"
   ]
  },
  {
   "cell_type": "markdown",
   "metadata": {},
   "source": [
    "### Doctest for biggest jump"
   ]
  },
  {
   "cell_type": "code",
   "execution_count": 6,
   "metadata": {},
   "outputs": [],
   "source": [
    "# this function loops through a list to find the biggest jump \n",
    "def biggest_jump(interval_list):\n",
    "    '''\n",
    "    >>> biggest_jump(test_interval_list)\n",
    "    14\n",
    "    '''\n",
    "    diff, index = 0, 0\n",
    "    total = len(interval_list)\n",
    "    for i in range(len(interval_list)-1):\n",
    "        if interval_list[i+1] - interval_list[i] > diff and (i/total)> 0.2:\n",
    "            diff = interval_list[i+1] - interval_list[i]\n",
    "            index = i+1\n",
    "        else:\n",
    "            i += 1\n",
    "    return index"
   ]
  },
  {
   "cell_type": "code",
   "execution_count": 7,
   "metadata": {},
   "outputs": [
    {
     "data": {
      "text/plain": [
       "TestResults(failed=0, attempted=1)"
      ]
     },
     "execution_count": 7,
     "metadata": {},
     "output_type": "execute_result"
    }
   ],
   "source": [
    "import doctest\n",
    "test_interval_list = [4,4,4,4,4,5,5,5,5,5,6,6,6,6,10,10,10,12,11,12]\n",
    "doctest.testmod()"
   ]
  },
  {
   "cell_type": "code",
   "execution_count": 8,
   "metadata": {},
   "outputs": [
    {
     "ename": "NameError",
     "evalue": "name 'check_id' is not defined",
     "output_type": "error",
     "traceback": [
      "\u001b[0;31m---------------------------------------------------------------------------\u001b[0m",
      "\u001b[0;31mNameError\u001b[0m                                 Traceback (most recent call last)",
      "\u001b[0;32m<ipython-input-8-5b7f988e15c9>\u001b[0m in \u001b[0;36m<module>\u001b[0;34m\u001b[0m\n\u001b[0;32m----> 1\u001b[0;31m \u001b[0mintervals\u001b[0m \u001b[0;34m=\u001b[0m \u001b[0mcheck_id\u001b[0m\u001b[0;34m[\u001b[0m\u001b[0;34m'actual_time'\u001b[0m\u001b[0;34m]\u001b[0m\u001b[0;34m.\u001b[0m\u001b[0mtolist\u001b[0m\u001b[0;34m(\u001b[0m\u001b[0;34m)\u001b[0m\u001b[0;34m\u001b[0m\u001b[0;34m\u001b[0m\u001b[0m\n\u001b[0m\u001b[1;32m      2\u001b[0m \u001b[0mindex\u001b[0m \u001b[0;34m=\u001b[0m \u001b[0mbiggest_jump\u001b[0m\u001b[0;34m(\u001b[0m\u001b[0mintervals\u001b[0m\u001b[0;34m)\u001b[0m\u001b[0;34m\u001b[0m\u001b[0;34m\u001b[0m\u001b[0m\n\u001b[1;32m      3\u001b[0m \u001b[0mindex\u001b[0m\u001b[0;34m\u001b[0m\u001b[0;34m\u001b[0m\u001b[0m\n",
      "\u001b[0;31mNameError\u001b[0m: name 'check_id' is not defined"
     ]
    }
   ],
   "source": [
    "intervals = check_id['actual_time'].tolist()\n",
    "index = biggest_jump(intervals)\n",
    "index"
   ]
  },
  {
   "cell_type": "markdown",
   "metadata": {},
   "source": [
    "### Split the individual dataframe into initiation and maintenance, based on above index"
   ]
  },
  {
   "cell_type": "code",
   "execution_count": 9,
   "metadata": {},
   "outputs": [
    {
     "ename": "NameError",
     "evalue": "name 'index' is not defined",
     "output_type": "error",
     "traceback": [
      "\u001b[0;31m---------------------------------------------------------------------------\u001b[0m",
      "\u001b[0;31mNameError\u001b[0m                                 Traceback (most recent call last)",
      "\u001b[0;32m<ipython-input-9-107d469fd0dd>\u001b[0m in \u001b[0;36m<module>\u001b[0;34m\u001b[0m\n\u001b[0;32m----> 1\u001b[0;31m \u001b[0mtest_df_initiation\u001b[0m \u001b[0;34m=\u001b[0m \u001b[0mtest_df\u001b[0m\u001b[0;34m.\u001b[0m\u001b[0miloc\u001b[0m\u001b[0;34m[\u001b[0m\u001b[0;34m:\u001b[0m\u001b[0mindex\u001b[0m\u001b[0;34m,\u001b[0m\u001b[0;34m:\u001b[0m\u001b[0;34m]\u001b[0m\u001b[0;34m\u001b[0m\u001b[0;34m\u001b[0m\u001b[0m\n\u001b[0m\u001b[1;32m      2\u001b[0m \u001b[0mtest_df_maintenance\u001b[0m \u001b[0;34m=\u001b[0m \u001b[0mtest_df\u001b[0m\u001b[0;34m.\u001b[0m\u001b[0miloc\u001b[0m\u001b[0;34m[\u001b[0m\u001b[0mindex\u001b[0m\u001b[0;34m:\u001b[0m\u001b[0;34m,\u001b[0m\u001b[0;34m:\u001b[0m\u001b[0;34m]\u001b[0m\u001b[0;34m\u001b[0m\u001b[0;34m\u001b[0m\u001b[0m\n\u001b[1;32m      3\u001b[0m \u001b[0mtest_df_initiation\u001b[0m\u001b[0;34m\u001b[0m\u001b[0;34m\u001b[0m\u001b[0m\n",
      "\u001b[0;31mNameError\u001b[0m: name 'index' is not defined"
     ]
    }
   ],
   "source": [
    "test_df_initiation = test_df.iloc[:index,:]\n",
    "test_df_maintenance = test_df.iloc[index:,:]\n",
    "test_df_initiation"
   ]
  },
  {
   "cell_type": "markdown",
   "metadata": {},
   "source": [
    "## Split each patient's visits and add them to initiation or maintenance"
   ]
  },
  {
   "cell_type": "code",
   "execution_count": 10,
   "metadata": {},
   "outputs": [],
   "source": [
    "# function to combine all of the above operations\n",
    "def init_maint_splitter(patient_df):\n",
    "    intervals = patient_df['actual_time'].tolist()\n",
    "    index = biggest_jump(intervals)\n",
    "    patient_df_initiation = patient_df.iloc[:index,:]\n",
    "    patient_df_maintenance = patient_df.iloc[index:,:]\n",
    "    return patient_df_initiation, patient_df_maintenance"
   ]
  },
  {
   "cell_type": "code",
   "execution_count": 11,
   "metadata": {},
   "outputs": [],
   "source": [
    "test_init, test_maint = init_maint_splitter(test_df)\n",
    "# test_init"
   ]
  },
  {
   "cell_type": "code",
   "execution_count": 14,
   "metadata": {},
   "outputs": [],
   "source": [
    "# function to do the split to each patient, then concat\n",
    "def master_dataframe():\n",
    "    df = pd.read_csv('/home/jupyter/charliemacuject/research_papers/data/master_allstats.csv')\n",
    "    id_list = df[\"ID\"].unique()\n",
    "    frames_init = []\n",
    "    frames_maint = []\n",
    "    for i in range(len(id_list)):\n",
    "        patient_df = df[df['ID'] == i]\n",
    "        try:\n",
    "            init, maint = init_maint_splitter(patient_df)\n",
    "            frames_init.append(init)\n",
    "            frames_maint.append(maint)\n",
    "        except:\n",
    "            i += 1\n",
    "    initiation_df = pd.concat(frames_init)\n",
    "    maintenance_df = pd.concat(frames_maint)\n",
    "    return initiation_df, maintenance_df"
   ]
  },
  {
   "cell_type": "code",
   "execution_count": 15,
   "metadata": {},
   "outputs": [
    {
     "data": {
      "text/plain": [
       "((3529, 15), (2623, 15))"
      ]
     },
     "execution_count": 15,
     "metadata": {},
     "output_type": "execute_result"
    }
   ],
   "source": [
    "initiation_df, maintenance_df = master_dataframe()\n",
    "initiation_df.shape, maintenance_df.shape"
   ]
  },
  {
   "cell_type": "code",
   "execution_count": 16,
   "metadata": {},
   "outputs": [
    {
     "data": {
      "text/html": [
       "<div>\n",
       "<style scoped>\n",
       "    .dataframe tbody tr th:only-of-type {\n",
       "        vertical-align: middle;\n",
       "    }\n",
       "\n",
       "    .dataframe tbody tr th {\n",
       "        vertical-align: top;\n",
       "    }\n",
       "\n",
       "    .dataframe thead th {\n",
       "        text-align: right;\n",
       "    }\n",
       "</style>\n",
       "<table border=\"1\" class=\"dataframe\">\n",
       "  <thead>\n",
       "    <tr style=\"text-align: right;\">\n",
       "      <th></th>\n",
       "      <th>Unnamed: 0</th>\n",
       "      <th>gender</th>\n",
       "      <th>age</th>\n",
       "      <th>CreatedDate</th>\n",
       "      <th>ExamGraph</th>\n",
       "      <th>NextTime</th>\n",
       "      <th>DaysFirst</th>\n",
       "      <th>actual_time</th>\n",
       "      <th>adherence_factor</th>\n",
       "      <th>running_ad</th>\n",
       "      <th>st_dev</th>\n",
       "      <th>prev_vision</th>\n",
       "      <th>mean_vision</th>\n",
       "      <th>std_vision</th>\n",
       "      <th>ID</th>\n",
       "    </tr>\n",
       "  </thead>\n",
       "  <tbody>\n",
       "    <tr>\n",
       "      <th>0</th>\n",
       "      <td>118</td>\n",
       "      <td>Male</td>\n",
       "      <td>91</td>\n",
       "      <td>2017-05-09</td>\n",
       "      <td>0.333333</td>\n",
       "      <td>8.0</td>\n",
       "      <td>104</td>\n",
       "      <td>6.0</td>\n",
       "      <td>1.00</td>\n",
       "      <td>1.25</td>\n",
       "      <td>0.0000</td>\n",
       "      <td>0.333333</td>\n",
       "      <td>0.30</td>\n",
       "      <td>0.0981</td>\n",
       "      <td>0</td>\n",
       "    </tr>\n",
       "    <tr>\n",
       "      <th>1</th>\n",
       "      <td>119</td>\n",
       "      <td>Male</td>\n",
       "      <td>91</td>\n",
       "      <td>2017-08-08</td>\n",
       "      <td>0.333333</td>\n",
       "      <td>12.0</td>\n",
       "      <td>195</td>\n",
       "      <td>13.0</td>\n",
       "      <td>1.62</td>\n",
       "      <td>1.12</td>\n",
       "      <td>0.1250</td>\n",
       "      <td>0.333333</td>\n",
       "      <td>0.31</td>\n",
       "      <td>0.0862</td>\n",
       "      <td>0</td>\n",
       "    </tr>\n",
       "    <tr>\n",
       "      <th>2</th>\n",
       "      <td>120</td>\n",
       "      <td>Male</td>\n",
       "      <td>91</td>\n",
       "      <td>2017-10-31</td>\n",
       "      <td>0.333333</td>\n",
       "      <td>12.0</td>\n",
       "      <td>279</td>\n",
       "      <td>12.0</td>\n",
       "      <td>1.00</td>\n",
       "      <td>1.29</td>\n",
       "      <td>0.2547</td>\n",
       "      <td>0.333333</td>\n",
       "      <td>0.31</td>\n",
       "      <td>0.0777</td>\n",
       "      <td>0</td>\n",
       "    </tr>\n",
       "    <tr>\n",
       "      <th>3</th>\n",
       "      <td>121</td>\n",
       "      <td>Male</td>\n",
       "      <td>91</td>\n",
       "      <td>2018-01-23</td>\n",
       "      <td>0.333333</td>\n",
       "      <td>12.0</td>\n",
       "      <td>363</td>\n",
       "      <td>12.0</td>\n",
       "      <td>1.00</td>\n",
       "      <td>1.22</td>\n",
       "      <td>0.2538</td>\n",
       "      <td>0.333333</td>\n",
       "      <td>0.32</td>\n",
       "      <td>0.0714</td>\n",
       "      <td>0</td>\n",
       "    </tr>\n",
       "    <tr>\n",
       "      <th>4</th>\n",
       "      <td>122</td>\n",
       "      <td>Male</td>\n",
       "      <td>91</td>\n",
       "      <td>2018-04-24</td>\n",
       "      <td>0.333333</td>\n",
       "      <td>12.0</td>\n",
       "      <td>454</td>\n",
       "      <td>13.0</td>\n",
       "      <td>1.08</td>\n",
       "      <td>1.17</td>\n",
       "      <td>0.2431</td>\n",
       "      <td>0.333333</td>\n",
       "      <td>0.32</td>\n",
       "      <td>0.0663</td>\n",
       "      <td>0</td>\n",
       "    </tr>\n",
       "    <tr>\n",
       "      <th>...</th>\n",
       "      <td>...</td>\n",
       "      <td>...</td>\n",
       "      <td>...</td>\n",
       "      <td>...</td>\n",
       "      <td>...</td>\n",
       "      <td>...</td>\n",
       "      <td>...</td>\n",
       "      <td>...</td>\n",
       "      <td>...</td>\n",
       "      <td>...</td>\n",
       "      <td>...</td>\n",
       "      <td>...</td>\n",
       "      <td>...</td>\n",
       "      <td>...</td>\n",
       "      <td>...</td>\n",
       "    </tr>\n",
       "    <tr>\n",
       "      <th>6145</th>\n",
       "      <td>50957</td>\n",
       "      <td>Female</td>\n",
       "      <td>87</td>\n",
       "      <td>2020-02-04</td>\n",
       "      <td>0.500000</td>\n",
       "      <td>4.0</td>\n",
       "      <td>1378</td>\n",
       "      <td>4.0</td>\n",
       "      <td>1.00</td>\n",
       "      <td>0.92</td>\n",
       "      <td>0.2379</td>\n",
       "      <td>0.666667</td>\n",
       "      <td>0.73</td>\n",
       "      <td>0.1525</td>\n",
       "      <td>469</td>\n",
       "    </tr>\n",
       "    <tr>\n",
       "      <th>6146</th>\n",
       "      <td>50958</td>\n",
       "      <td>Female</td>\n",
       "      <td>87</td>\n",
       "      <td>2020-03-10</td>\n",
       "      <td>0.800000</td>\n",
       "      <td>4.0</td>\n",
       "      <td>1413</td>\n",
       "      <td>5.0</td>\n",
       "      <td>1.25</td>\n",
       "      <td>0.93</td>\n",
       "      <td>0.2336</td>\n",
       "      <td>0.500000</td>\n",
       "      <td>0.73</td>\n",
       "      <td>0.1555</td>\n",
       "      <td>469</td>\n",
       "    </tr>\n",
       "    <tr>\n",
       "      <th>6147</th>\n",
       "      <td>50959</td>\n",
       "      <td>Female</td>\n",
       "      <td>87</td>\n",
       "      <td>2020-05-05</td>\n",
       "      <td>0.800000</td>\n",
       "      <td>4.0</td>\n",
       "      <td>1469</td>\n",
       "      <td>8.0</td>\n",
       "      <td>2.00</td>\n",
       "      <td>0.94</td>\n",
       "      <td>0.2373</td>\n",
       "      <td>0.800000</td>\n",
       "      <td>0.73</td>\n",
       "      <td>0.1536</td>\n",
       "      <td>469</td>\n",
       "    </tr>\n",
       "    <tr>\n",
       "      <th>6148</th>\n",
       "      <td>50960</td>\n",
       "      <td>Female</td>\n",
       "      <td>87</td>\n",
       "      <td>2020-06-02</td>\n",
       "      <td>0.800000</td>\n",
       "      <td>4.0</td>\n",
       "      <td>1497</td>\n",
       "      <td>4.0</td>\n",
       "      <td>1.00</td>\n",
       "      <td>0.98</td>\n",
       "      <td>0.3071</td>\n",
       "      <td>0.800000</td>\n",
       "      <td>0.73</td>\n",
       "      <td>0.1518</td>\n",
       "      <td>469</td>\n",
       "    </tr>\n",
       "    <tr>\n",
       "      <th>6149</th>\n",
       "      <td>50961</td>\n",
       "      <td>Female</td>\n",
       "      <td>87</td>\n",
       "      <td>2020-06-30</td>\n",
       "      <td>0.666667</td>\n",
       "      <td>4.0</td>\n",
       "      <td>1525</td>\n",
       "      <td>4.0</td>\n",
       "      <td>1.00</td>\n",
       "      <td>0.98</td>\n",
       "      <td>0.3016</td>\n",
       "      <td>0.800000</td>\n",
       "      <td>0.73</td>\n",
       "      <td>0.1501</td>\n",
       "      <td>469</td>\n",
       "    </tr>\n",
       "  </tbody>\n",
       "</table>\n",
       "<p>3529 rows × 15 columns</p>\n",
       "</div>"
      ],
      "text/plain": [
       "      Unnamed: 0  gender  age CreatedDate  ExamGraph  NextTime  DaysFirst  \\\n",
       "0            118    Male   91  2017-05-09   0.333333       8.0        104   \n",
       "1            119    Male   91  2017-08-08   0.333333      12.0        195   \n",
       "2            120    Male   91  2017-10-31   0.333333      12.0        279   \n",
       "3            121    Male   91  2018-01-23   0.333333      12.0        363   \n",
       "4            122    Male   91  2018-04-24   0.333333      12.0        454   \n",
       "...          ...     ...  ...         ...        ...       ...        ...   \n",
       "6145       50957  Female   87  2020-02-04   0.500000       4.0       1378   \n",
       "6146       50958  Female   87  2020-03-10   0.800000       4.0       1413   \n",
       "6147       50959  Female   87  2020-05-05   0.800000       4.0       1469   \n",
       "6148       50960  Female   87  2020-06-02   0.800000       4.0       1497   \n",
       "6149       50961  Female   87  2020-06-30   0.666667       4.0       1525   \n",
       "\n",
       "      actual_time  adherence_factor  running_ad  st_dev  prev_vision  \\\n",
       "0             6.0              1.00        1.25  0.0000     0.333333   \n",
       "1            13.0              1.62        1.12  0.1250     0.333333   \n",
       "2            12.0              1.00        1.29  0.2547     0.333333   \n",
       "3            12.0              1.00        1.22  0.2538     0.333333   \n",
       "4            13.0              1.08        1.17  0.2431     0.333333   \n",
       "...           ...               ...         ...     ...          ...   \n",
       "6145          4.0              1.00        0.92  0.2379     0.666667   \n",
       "6146          5.0              1.25        0.93  0.2336     0.500000   \n",
       "6147          8.0              2.00        0.94  0.2373     0.800000   \n",
       "6148          4.0              1.00        0.98  0.3071     0.800000   \n",
       "6149          4.0              1.00        0.98  0.3016     0.800000   \n",
       "\n",
       "      mean_vision  std_vision   ID  \n",
       "0            0.30      0.0981    0  \n",
       "1            0.31      0.0862    0  \n",
       "2            0.31      0.0777    0  \n",
       "3            0.32      0.0714    0  \n",
       "4            0.32      0.0663    0  \n",
       "...           ...         ...  ...  \n",
       "6145         0.73      0.1525  469  \n",
       "6146         0.73      0.1555  469  \n",
       "6147         0.73      0.1536  469  \n",
       "6148         0.73      0.1518  469  \n",
       "6149         0.73      0.1501  469  \n",
       "\n",
       "[3529 rows x 15 columns]"
      ]
     },
     "execution_count": 16,
     "metadata": {},
     "output_type": "execute_result"
    }
   ],
   "source": [
    "initiation_df"
   ]
  },
  {
   "cell_type": "markdown",
   "metadata": {},
   "source": [
    "## Save dataframes to data folders"
   ]
  },
  {
   "cell_type": "code",
   "execution_count": 18,
   "metadata": {},
   "outputs": [],
   "source": [
    "initiation_df.to_csv('/home/jupyter/charliemacuject/research_papers/data/initiation_df.csv')\n",
    "maintenance_df.to_csv('/home/jupyter/charliemacuject/research_papers/data/maintenance_df.csv')"
   ]
  },
  {
   "cell_type": "code",
   "execution_count": null,
   "metadata": {},
   "outputs": [],
   "source": []
  }
 ],
 "metadata": {
  "environment": {
   "name": "common-cu110.m74",
   "type": "gcloud",
   "uri": "gcr.io/deeplearning-platform-release/base-cu110:m74"
  },
  "kernelspec": {
   "display_name": "Python 3",
   "language": "python",
   "name": "python3"
  },
  "language_info": {
   "codemirror_mode": {
    "name": "ipython",
    "version": 3
   },
   "file_extension": ".py",
   "mimetype": "text/x-python",
   "name": "python",
   "nbconvert_exporter": "python",
   "pygments_lexer": "ipython3",
   "version": "3.7.10"
  }
 },
 "nbformat": 4,
 "nbformat_minor": 4
}

{
 "cells": [
  {
   "cell_type": "code",
   "execution_count": 2,
   "id": "83fc77ee",
   "metadata": {},
   "outputs": [
    {
     "name": "stdout",
     "output_type": "stream",
     "text": [
      "Collecting ipynb\n",
      "  Downloading ipynb-0.5.1-py3-none-any.whl (6.9 kB)\n",
      "Installing collected packages: ipynb\n",
      "Successfully installed ipynb-0.5.1\n",
      "Note: you may need to restart the kernel to use updated packages.\n"
     ]
    }
   ],
   "source": [
    "pip install ipynb"
   ]
  },
  {
   "cell_type": "code",
   "execution_count": 4,
   "id": "223d3ca4",
   "metadata": {},
   "outputs": [],
   "source": [
    "from ipynb.fs.defs.ImportDB import *"
   ]
  },
  {
   "cell_type": "code",
   "execution_count": 5,
   "id": "c0aa9070",
   "metadata": {},
   "outputs": [],
   "source": [
    "db = ImportDB(0, True)\n",
    "df = db.return_db()"
   ]
  },
  {
   "cell_type": "code",
   "execution_count": 6,
   "id": "e9bdb1c4",
   "metadata": {},
   "outputs": [
    {
     "data": {
      "text/html": [
       "<div>\n",
       "<style scoped>\n",
       "    .dataframe tbody tr th:only-of-type {\n",
       "        vertical-align: middle;\n",
       "    }\n",
       "\n",
       "    .dataframe tbody tr th {\n",
       "        vertical-align: top;\n",
       "    }\n",
       "\n",
       "    .dataframe thead th {\n",
       "        text-align: right;\n",
       "    }\n",
       "</style>\n",
       "<table border=\"1\" class=\"dataframe\">\n",
       "  <thead>\n",
       "    <tr style=\"text-align: right;\">\n",
       "      <th></th>\n",
       "      <th>id</th>\n",
       "      <th>eye_id</th>\n",
       "      <th>next_visit_date</th>\n",
       "      <th>next_interval_in_weeks</th>\n",
       "      <th>recommended_drug</th>\n",
       "      <th>actual_drug</th>\n",
       "      <th>clinic_id</th>\n",
       "      <th>user_id</th>\n",
       "      <th>visual_acuity</th>\n",
       "      <th>irf</th>\n",
       "      <th>srf</th>\n",
       "      <th>planned_interval_in_weeks</th>\n",
       "      <th>irf_focal</th>\n",
       "      <th>irf_diffuse</th>\n",
       "    </tr>\n",
       "  </thead>\n",
       "  <tbody>\n",
       "    <tr>\n",
       "      <th>0</th>\n",
       "      <td>11626</td>\n",
       "      <td>87</td>\n",
       "      <td>2020-06-02</td>\n",
       "      <td>0.0</td>\n",
       "      <td>{}</td>\n",
       "      <td>{}</td>\n",
       "      <td>1.0</td>\n",
       "      <td>2.0</td>\n",
       "      <td>1.50</td>\n",
       "      <td>0.0</td>\n",
       "      <td>0.0</td>\n",
       "      <td>NaN</td>\n",
       "      <td>NaN</td>\n",
       "      <td>NaN</td>\n",
       "    </tr>\n",
       "    <tr>\n",
       "      <th>1</th>\n",
       "      <td>7696</td>\n",
       "      <td>87</td>\n",
       "      <td>NaN</td>\n",
       "      <td>NaN</td>\n",
       "      <td>{}</td>\n",
       "      <td>{}</td>\n",
       "      <td>1.0</td>\n",
       "      <td>NaN</td>\n",
       "      <td>NaN</td>\n",
       "      <td>0.0</td>\n",
       "      <td>0.0</td>\n",
       "      <td>NaN</td>\n",
       "      <td>NaN</td>\n",
       "      <td>NaN</td>\n",
       "    </tr>\n",
       "    <tr>\n",
       "      <th>2</th>\n",
       "      <td>75261</td>\n",
       "      <td>87</td>\n",
       "      <td>NaN</td>\n",
       "      <td>NaN</td>\n",
       "      <td>{}</td>\n",
       "      <td>{}</td>\n",
       "      <td>1.0</td>\n",
       "      <td>NaN</td>\n",
       "      <td>NaN</td>\n",
       "      <td>NaN</td>\n",
       "      <td>NaN</td>\n",
       "      <td>NaN</td>\n",
       "      <td>NaN</td>\n",
       "      <td>NaN</td>\n",
       "    </tr>\n",
       "    <tr>\n",
       "      <th>3</th>\n",
       "      <td>75088</td>\n",
       "      <td>87</td>\n",
       "      <td>NaN</td>\n",
       "      <td>NaN</td>\n",
       "      <td>{}</td>\n",
       "      <td>{}</td>\n",
       "      <td>1.0</td>\n",
       "      <td>NaN</td>\n",
       "      <td>NaN</td>\n",
       "      <td>NaN</td>\n",
       "      <td>NaN</td>\n",
       "      <td>NaN</td>\n",
       "      <td>NaN</td>\n",
       "      <td>NaN</td>\n",
       "    </tr>\n",
       "    <tr>\n",
       "      <th>4</th>\n",
       "      <td>37086</td>\n",
       "      <td>87</td>\n",
       "      <td>NaN</td>\n",
       "      <td>NaN</td>\n",
       "      <td>{}</td>\n",
       "      <td>{}</td>\n",
       "      <td>1.0</td>\n",
       "      <td>2.0</td>\n",
       "      <td>0.32</td>\n",
       "      <td>NaN</td>\n",
       "      <td>NaN</td>\n",
       "      <td>NaN</td>\n",
       "      <td>NaN</td>\n",
       "      <td>NaN</td>\n",
       "    </tr>\n",
       "  </tbody>\n",
       "</table>\n",
       "</div>"
      ],
      "text/plain": [
       "      id  eye_id next_visit_date  next_interval_in_weeks recommended_drug  \\\n",
       "0  11626      87      2020-06-02                     0.0               {}   \n",
       "1   7696      87             NaN                     NaN               {}   \n",
       "2  75261      87             NaN                     NaN               {}   \n",
       "3  75088      87             NaN                     NaN               {}   \n",
       "4  37086      87             NaN                     NaN               {}   \n",
       "\n",
       "  actual_drug  clinic_id  user_id  visual_acuity  irf  srf  \\\n",
       "0          {}        1.0      2.0           1.50  0.0  0.0   \n",
       "1          {}        1.0      NaN            NaN  0.0  0.0   \n",
       "2          {}        1.0      NaN            NaN  NaN  NaN   \n",
       "3          {}        1.0      NaN            NaN  NaN  NaN   \n",
       "4          {}        1.0      2.0           0.32  NaN  NaN   \n",
       "\n",
       "   planned_interval_in_weeks  irf_focal  irf_diffuse  \n",
       "0                        NaN        NaN          NaN  \n",
       "1                        NaN        NaN          NaN  \n",
       "2                        NaN        NaN          NaN  \n",
       "3                        NaN        NaN          NaN  \n",
       "4                        NaN        NaN          NaN  "
      ]
     },
     "execution_count": 6,
     "metadata": {},
     "output_type": "execute_result"
    }
   ],
   "source": [
    "df.head()"
   ]
  },
  {
   "cell_type": "code",
   "execution_count": null,
   "id": "50b724d9",
   "metadata": {},
   "outputs": [],
   "source": []
  }
 ],
 "metadata": {
  "environment": {
   "name": "common-cu110.m74",
   "type": "gcloud",
   "uri": "gcr.io/deeplearning-platform-release/base-cu110:m74"
  },
  "kernelspec": {
   "display_name": "Python 3",
   "language": "python",
   "name": "python3"
  },
  "language_info": {
   "codemirror_mode": {
    "name": "ipython",
    "version": 3
   },
   "file_extension": ".py",
   "mimetype": "text/x-python",
   "name": "python",
   "nbconvert_exporter": "python",
   "pygments_lexer": "ipython3",
   "version": "3.7.10"
  }
 },
 "nbformat": 4,
 "nbformat_minor": 5
}

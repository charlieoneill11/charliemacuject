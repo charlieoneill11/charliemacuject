{
 "cells": [
  {
   "cell_type": "code",
   "execution_count": 1,
   "id": "de8cd91a",
   "metadata": {},
   "outputs": [],
   "source": [
    "import numpy as np\n",
    "import pandas as pd\n",
    "from scipy import stats\n",
    "import matplotlib\n",
    "import matplotlib.pyplot as plt\n",
    "import warnings\n",
    "warnings.filterwarnings('ignore')"
   ]
  },
  {
   "cell_type": "code",
   "execution_count": 2,
   "id": "535255ec",
   "metadata": {},
   "outputs": [],
   "source": [
    "df = pd.read_csv('/home/jupyter/charliemacuject/pharma_reports/data/dr2_boronia.csv')"
   ]
  },
  {
   "cell_type": "code",
   "execution_count": 3,
   "id": "affdf549",
   "metadata": {},
   "outputs": [],
   "source": [
    "class DrAudit:\n",
    "    \n",
    "    def __init__(self, df):\n",
    "        self.df = df\n",
    "    \n",
    "    def study_period(self):\n",
    "        # study period\n",
    "        dates = pd.to_datetime(df['admission_date'])\n",
    "        earliest = dates.min()\n",
    "        latest = dates.max()\n",
    "        return earliest, latest\n",
    "    \n",
    "    def num_patients(self):\n",
    "        # number of patients\n",
    "        return len(df['ur'].unique())\n",
    "    \n",
    "    def num_eyes(self):\n",
    "        # number of eyes\n",
    "        return len(df['eye_id'].unique())\n",
    "    \n",
    "    def total_visits(self):\n",
    "        # total visits\n",
    "        return len(df)\n",
    "    \n",
    "    def initiation_drug(self, id_number):\n",
    "        '''\n",
    "        Input: patient id_number corresponding to dataframe.\n",
    "        Output: string of initiation drug for that patient.\n",
    "        '''\n",
    "        pdf = self.df[self.df['eye_id'] == id_number]\n",
    "        pdf.dropna(subset=['Drug'], inplace=True)\n",
    "        pdf['admission_date'] = pd.to_datetime(pdf['admission_date'])\n",
    "        pdf = pdf.sort_values(by=['admission_date'])\n",
    "        return pdf['Drug'].iloc[0]\n",
    "    \n",
    "    def initiation_all(self):\n",
    "        '''\n",
    "        Input: dataframe of all patients.\n",
    "        Output: list of all initiation drugs.\n",
    "        '''\n",
    "        names = ['Lucentis', 'Eylea', 'Avastin']\n",
    "        drugs = []\n",
    "        self.df.dropna(subset=['Drug'], inplace=True)\n",
    "        id_list = df['eye_id'].unique()\n",
    "        for eye in id_list:\n",
    "            drug = self.initiation_drug(eye)\n",
    "            if drug in names:\n",
    "                drugs.append(drug)\n",
    "        luc_int = np.round(drugs.count('Lucentis') / len(drugs), 3)\n",
    "        eyl_int = np.round(drugs.count('Eylea') / len(drugs), 3)\n",
    "        av_int = np.round(drugs.count('Avastin') / len(drugs), 3)\n",
    "        return luc_int, eyl_int, av_int\n",
    "    \n",
    "    def interval_column(self, pdf): # THIS NEEDS TO GO IN THE DF EDITING CLASS\n",
    "        '''\n",
    "        Input: patient dataframe.\n",
    "        Output: patient dataframe with additional column for interval length.\n",
    "        '''\n",
    "        pdf.dropna(subset=['admission_date'], inplace=True)\n",
    "        pdf['admission_date'] = pd.to_datetime(pdf['admission_date'])\n",
    "        pdf = pdf.sort_values(by=['admission_date'])\n",
    "        dates = pdf['admission_date'].reset_index(drop=True)\n",
    "        intervals = [0]\n",
    "        for i in range(len(dates)-1):\n",
    "            initial, current = dates[i], dates[i+1]\n",
    "            interval = int((current - initial).days / 7)\n",
    "            intervals.append(interval)\n",
    "        pdf['Interval'] = intervals\n",
    "        return pdf.reset_index(drop=True)\n",
    "    \n",
    "    def interval_df(self): # ALSO NEEDS TO GO IN DF EDITING CLASS\n",
    "        '''\n",
    "        Input: whole dataframe.\n",
    "        Output: whole dataframe with additional column for interval length.\n",
    "        '''\n",
    "        id_list = self.df['eye_id'].unique()\n",
    "        frames = []\n",
    "        for eye in id_list:\n",
    "            pdf = self.df[self.df['eye_id'] == eye]\n",
    "            pdf = self.interval_column(pdf)\n",
    "            frames.append(pdf)\n",
    "        return pd.concat(frames)\n",
    "\n",
    "    def irf_extred(self):\n",
    "        # this function counts the irf values when extending and reducing\n",
    "        df = self.interval_df()\n",
    "        df.dropna(subset=['irf'], inplace=True)\n",
    "        df = df[df['irf'] < 1000]\n",
    "        id_list = df['eye_id'].unique()\n",
    "        irf_extend = []\n",
    "        irf_reduce = []\n",
    "        irf_maintain = []\n",
    "        for eye in id_list:\n",
    "            pdf = df[df['eye_id'] == eye]\n",
    "            for i in range(len(pdf)-1):\n",
    "                if pdf['Interval'].iloc[i+1] > pdf['Interval'].iloc[i]:\n",
    "                    irf_extend.append(pdf['irf'].iloc[i+1])\n",
    "                elif pdf['Interval'].iloc[i+1] < pdf['Interval'].iloc[i]:\n",
    "                    irf_reduce.append(pdf['irf'].iloc[i+1])    \n",
    "                else:\n",
    "                    irf_maintain.append(pdf['irf'].iloc[i+1])   \n",
    "        return np.mean(irf_extend), np.mean(irf_reduce), np.mean(irf_maintain)\n",
    "    \n",
    "    # this function counts the srf values when extending and reducing\n",
    "    def srf_extred(self):\n",
    "        df = self.interval_df()\n",
    "        df.dropna(subset=['srf'], inplace=True)\n",
    "        df = df[df['srf'] < 1000]\n",
    "        id_list = df['eye_id'].unique()\n",
    "        srf_extend = []\n",
    "        srf_reduce = []\n",
    "        srf_maintain = []\n",
    "        for eye in id_list:\n",
    "            pdf = df[df['eye_id'] == eye]\n",
    "            for i in range(len(pdf)-1):\n",
    "                if pdf['Interval'].iloc[i+1] > pdf['Interval'].iloc[i]:\n",
    "                    srf_extend.append(pdf['srf'].iloc[i+1])\n",
    "                elif pdf['Interval'].iloc[i+1] < pdf['Interval'].iloc[i]:\n",
    "                    srf_reduce.append(pdf['srf'].iloc[i+1])    \n",
    "                else:\n",
    "                    srf_maintain.append(pdf['srf'].iloc[i+1])   \n",
    "        return np.mean(srf_extend), np.mean(srf_reduce), np.mean(srf_maintain)"
   ]
  },
  {
   "cell_type": "code",
   "execution_count": 4,
   "id": "c9195d17",
   "metadata": {},
   "outputs": [],
   "source": [
    "class Results(DrAudit):\n",
    "    \n",
    "    def __init__(self, df):\n",
    "        self.df = df\n",
    "        \n",
    "    def results_list(self):\n",
    "        results_list = ['num_patients', \n",
    "                        'num_eyes', 'total_visits', 'initiation_lucentis',\n",
    "                        'initiation_eylea', 'initiation_avastin',\n",
    "                        'irf_extend', 'irf_reduce', 'irf_maintain',\n",
    "                        'srf_extend', 'srf_reduce', 'srf_maintain',]\n",
    "        return results_list\n",
    "    \n",
    "    def get_results(self):\n",
    "        rlst = []\n",
    "        rlst.append(DrAudit.num_patients(self))\n",
    "        rlst.append(DrAudit.num_eyes(self))\n",
    "        rlst.append(DrAudit.total_visits(self))\n",
    "        luc_int, eyl_int, av_int = DrAudit.initiation_all(self)\n",
    "        rlst.append(luc_int)\n",
    "        rlst.append(eyl_int)\n",
    "        rlst.append(av_int)\n",
    "        irf_extend, irf_reduce, irf_maintain = DrAudit.irf_extred(self)\n",
    "        srf_extend, srf_reduce, srf_maintain = DrAudit.srf_extred(self)\n",
    "        rlst.append(irf_extend)\n",
    "        rlst.append(irf_reduce)\n",
    "        rlst.append(irf_maintain)\n",
    "        rlst.append(srf_extend)\n",
    "        rlst.append(srf_reduce)\n",
    "        rlst.append(srf_maintain)\n",
    "        return rlst\n",
    "    \n",
    "    def create_table(self):\n",
    "        lst = self.get_results()\n",
    "        results_list = self.results_list()\n",
    "        return pd.DataFrame(lst, index = results_list, columns=['Dr2'])"
   ]
  },
  {
   "cell_type": "code",
   "execution_count": 5,
   "id": "bc38e76d",
   "metadata": {},
   "outputs": [],
   "source": [
    "table1 = Results(df)\n",
    "to_upload = table1.create_table()"
   ]
  },
  {
   "cell_type": "code",
   "execution_count": 6,
   "id": "29b516f3",
   "metadata": {},
   "outputs": [
    {
     "data": {
      "text/html": [
       "<div>\n",
       "<style scoped>\n",
       "    .dataframe tbody tr th:only-of-type {\n",
       "        vertical-align: middle;\n",
       "    }\n",
       "\n",
       "    .dataframe tbody tr th {\n",
       "        vertical-align: top;\n",
       "    }\n",
       "\n",
       "    .dataframe thead th {\n",
       "        text-align: right;\n",
       "    }\n",
       "</style>\n",
       "<table border=\"1\" class=\"dataframe\">\n",
       "  <thead>\n",
       "    <tr style=\"text-align: right;\">\n",
       "      <th></th>\n",
       "      <th>Dr2</th>\n",
       "    </tr>\n",
       "  </thead>\n",
       "  <tbody>\n",
       "    <tr>\n",
       "      <th>num_patients</th>\n",
       "      <td>374.000000</td>\n",
       "    </tr>\n",
       "    <tr>\n",
       "      <th>num_eyes</th>\n",
       "      <td>746.000000</td>\n",
       "    </tr>\n",
       "    <tr>\n",
       "      <th>total_visits</th>\n",
       "      <td>24048.000000</td>\n",
       "    </tr>\n",
       "    <tr>\n",
       "      <th>initiation_lucentis</th>\n",
       "      <td>0.616000</td>\n",
       "    </tr>\n",
       "    <tr>\n",
       "      <th>initiation_eylea</th>\n",
       "      <td>0.367000</td>\n",
       "    </tr>\n",
       "    <tr>\n",
       "      <th>initiation_avastin</th>\n",
       "      <td>0.017000</td>\n",
       "    </tr>\n",
       "    <tr>\n",
       "      <th>irf_extend</th>\n",
       "      <td>56.660828</td>\n",
       "    </tr>\n",
       "    <tr>\n",
       "      <th>irf_reduce</th>\n",
       "      <td>55.090423</td>\n",
       "    </tr>\n",
       "    <tr>\n",
       "      <th>irf_maintain</th>\n",
       "      <td>51.162084</td>\n",
       "    </tr>\n",
       "    <tr>\n",
       "      <th>srf_extend</th>\n",
       "      <td>35.384565</td>\n",
       "    </tr>\n",
       "    <tr>\n",
       "      <th>srf_reduce</th>\n",
       "      <td>36.282286</td>\n",
       "    </tr>\n",
       "    <tr>\n",
       "      <th>srf_maintain</th>\n",
       "      <td>42.492893</td>\n",
       "    </tr>\n",
       "  </tbody>\n",
       "</table>\n",
       "</div>"
      ],
      "text/plain": [
       "                              Dr2\n",
       "num_patients           374.000000\n",
       "num_eyes               746.000000\n",
       "total_visits         24048.000000\n",
       "initiation_lucentis      0.616000\n",
       "initiation_eylea         0.367000\n",
       "initiation_avastin       0.017000\n",
       "irf_extend              56.660828\n",
       "irf_reduce              55.090423\n",
       "irf_maintain            51.162084\n",
       "srf_extend              35.384565\n",
       "srf_reduce              36.282286\n",
       "srf_maintain            42.492893"
      ]
     },
     "execution_count": 6,
     "metadata": {},
     "output_type": "execute_result"
    }
   ],
   "source": [
    "to_upload"
   ]
  },
  {
   "cell_type": "code",
   "execution_count": 99,
   "id": "82f8db4a",
   "metadata": {},
   "outputs": [],
   "source": [
    "to_upload.to_csv('/home/jupyter/charliemacuject/pharma_reports/toupload.csv')"
   ]
  },
  {
   "cell_type": "markdown",
   "id": "2bb5cd8a",
   "metadata": {},
   "source": [
    "# Alex Tan"
   ]
  },
  {
   "cell_type": "code",
   "execution_count": 10,
   "id": "5d11773a",
   "metadata": {},
   "outputs": [],
   "source": [
    "# FLUID STATE AT TIME OF SWITCHES\n",
    "df = pd.read_csv('/home/jupyter/charliemacuject/pharma_reports/data/dr2_boronia.csv')\n",
    "\n",
    "def patient_cutoff(df):\n",
    "    id_list = df['eye_id'].unique()\n",
    "    cutoff = pd.to_datetime('01/01/2016')\n",
    "    frames = []\n",
    "    for eye in id_list:\n",
    "        pdf = df[df['eye_id'] == eye]\n",
    "        pdf['admission_date'] = pd.to_datetime(pdf['admission_date'])\n",
    "        pdf.sort_values(by=['admission_date'], inplace=True)\n",
    "        if pdf['admission_date'].iloc[0] > cutoff:\n",
    "            frames.append(pdf)\n",
    "    return pd.concat(frames)"
   ]
  },
  {
   "cell_type": "code",
   "execution_count": 2,
   "id": "61c20103",
   "metadata": {},
   "outputs": [],
   "source": [
    "df = pd.read_csv('/home/jupyter/charliemacuject/pharma_reports/data/dr2_boronia_2016.csv')\n",
    "df['admission_date'] = pd.to_datetime(df['admission_date'])"
   ]
  },
  {
   "cell_type": "code",
   "execution_count": 4,
   "id": "2e593f11",
   "metadata": {},
   "outputs": [],
   "source": [
    "def pvi(df):\n",
    "    id_list = df['eye_id'].unique()\n",
    "    pvi_list = []\n",
    "    for eye in id_list:\n",
    "        pdf = df[df['eye_id'] == eye]\n",
    "        pdf.sort_values(by=['admission_date'], inplace=True)\n",
    "        pdf.dropna(subset=['visual_acuity'], inplace=True)\n",
    "        visions = pdf['visual_acuity'].to_list()\n",
    "        pvi_pdf = max(visions) - visions[0]\n",
    "        pvi_list.append(pvi_pdf)\n",
    "    return pvi_list"
   ]
  },
  {
   "cell_type": "code",
   "execution_count": 5,
   "id": "1be242ef",
   "metadata": {},
   "outputs": [
    {
     "data": {
      "text/plain": [
       "544"
      ]
     },
     "execution_count": 5,
     "metadata": {},
     "output_type": "execute_result"
    }
   ],
   "source": [
    "pvi_list = pvi(df)\n",
    "len(pvi_list)"
   ]
  },
  {
   "cell_type": "code",
   "execution_count": 9,
   "id": "b36d8dfd",
   "metadata": {},
   "outputs": [
    {
     "data": {
      "text/plain": [
       "(846, 848, 41, 4897)"
      ]
     },
     "execution_count": 9,
     "metadata": {},
     "output_type": "execute_result"
    }
   ],
   "source": [
    "# this function creates a column for a patient with the interval length\n",
    "def interval_column(pdf):\n",
    "    '''\n",
    "    Input: patient dataframe.\n",
    "    Output: patient dataframe with additional column for interval length.\n",
    "    '''\n",
    "    pdf.dropna(subset=['admission_date'], inplace=True)\n",
    "    pdf['admission_date'] = pd.to_datetime(pdf['admission_date'])\n",
    "    pdf = pdf.sort_values(by=['admission_date'])\n",
    "    dates = pdf['admission_date'].reset_index(drop=True)\n",
    "    intervals = [0]\n",
    "    for i in range(len(dates)-1):\n",
    "        initial, current = dates[i], dates[i+1]\n",
    "        interval = int((current - initial).days / 7)\n",
    "        intervals.append(interval)\n",
    "    pdf['Interval'] = intervals\n",
    "    return pdf.reset_index(drop=True)\n",
    "\n",
    "def interval_all(df):\n",
    "    '''\n",
    "    Input: whole dataframe.\n",
    "    Output: whole dataframe with additional column for interval length.\n",
    "    '''\n",
    "    id_list = df['eye_id'].unique()\n",
    "    frames = []\n",
    "    for eye in id_list:\n",
    "        pdf = df[df['eye_id'] == eye]\n",
    "        pdf = interval_column(pdf)\n",
    "        frames.append(pdf)\n",
    "    return pd.concat(frames)\n",
    "\n",
    "# this function groups dataframes by patients on single vs mult drugs\n",
    "def drug_df_separator(df):\n",
    "    df = interval_all(df)\n",
    "    df = df.dropna(subset=['Drug'])\n",
    "    df = df[df['Drug'] != 'nil']\n",
    "    df = df[df['Drug'] != 'None']\n",
    "    df = df[df['Drug'] != 'Brolucizumab']\n",
    "    lucentis, eylea, avastin, mult = [], [], [], []\n",
    "    drug_list = ['Lucentis', 'Eylea', 'Avastin']\n",
    "    id_list = df['eye_id'].unique()\n",
    "    for eye in id_list:\n",
    "        pdf = df[df['eye_id'] == eye]\n",
    "        drugs = pdf['Drug'].unique()\n",
    "        if len(drugs) == 1:\n",
    "            if drugs[0] == 'Lucentis':\n",
    "                lucentis.append(pdf)\n",
    "            elif drugs[0] == 'Eylea':\n",
    "                eylea.append(pdf)\n",
    "            else:\n",
    "                avastin.append(pdf)\n",
    "        else:\n",
    "            mult.append(pdf)\n",
    "    return pd.concat(lucentis), pd.concat(eylea), pd.concat(avastin), pd.concat(mult)\n",
    "\n",
    "lucentis_id, eylea_id, avastin_id, mult_id = drug_df_separator(df)\n",
    "len(lucentis_id), len(eylea_id), len(avastin_id), len(mult_id)"
   ]
  },
  {
   "cell_type": "code",
   "execution_count": 77,
   "id": "c679f249",
   "metadata": {},
   "outputs": [],
   "source": [
    "dfs = [luc_eyl, eyl_luc]\n",
    "pvi_lists = []\n",
    "for df in dfs:\n",
    "    pvi_list = pvi(df)\n",
    "    pvi_lists.append(pvi_list)"
   ]
  },
  {
   "cell_type": "code",
   "execution_count": 78,
   "id": "12f60e08",
   "metadata": {},
   "outputs": [
    {
     "name": "stdout",
     "output_type": "stream",
     "text": [
      "The mean is 37.88194444444444, and the std is 5.691318565191814.\n",
      "The mean is 15.936507936507937, and the std is 5.291657625285801.\n"
     ]
    }
   ],
   "source": [
    "for lst in pvi_lists:\n",
    "    ci = stats.t.interval(alpha=0.95, df=len(lst)-1, loc=np.mean(lst), scale=stats.sem(lst))\n",
    "    std = np.mean(lst) - ci[0]\n",
    "    print(\"The mean is {}, and the std is {}.\".format(np.mean(lst), std))"
   ]
  },
  {
   "cell_type": "code",
   "execution_count": 80,
   "id": "c4d591d1",
   "metadata": {},
   "outputs": [],
   "source": [
    "# Mann-Whitney U test\n",
    "from numpy.random import seed\n",
    "from numpy.random import randn\n",
    "from scipy.stats import mannwhitneyu\n",
    "# compare samples\n",
    "stat, p = mannwhitneyu(pvi_lists[0], pvi_lists[1])"
   ]
  },
  {
   "cell_type": "code",
   "execution_count": 81,
   "id": "d25ec01d",
   "metadata": {},
   "outputs": [
    {
     "data": {
      "text/plain": [
       "0.00047882694368759775"
      ]
     },
     "execution_count": 81,
     "metadata": {},
     "output_type": "execute_result"
    }
   ],
   "source": [
    "p"
   ]
  },
  {
   "cell_type": "markdown",
   "id": "4f5d48f7",
   "metadata": {},
   "source": [
    "## Time to peak visual improvement"
   ]
  },
  {
   "cell_type": "code",
   "execution_count": 26,
   "id": "60e1b9a4",
   "metadata": {},
   "outputs": [],
   "source": [
    "df = pd.read_csv('/home/jupyter/charliemacuject/pharma_reports/data/dr2_boronia_2016.csv')\n",
    "df['admission_date'] = pd.to_datetime(df['admission_date'])"
   ]
  },
  {
   "cell_type": "code",
   "execution_count": 27,
   "id": "d33a91c8",
   "metadata": {},
   "outputs": [],
   "source": [
    "def tpvi(df):\n",
    "    id_list = df['eye_id'].unique()\n",
    "    tpvi_list = []\n",
    "    for eye in id_list:\n",
    "        pdf = df[df['eye_id'] == eye]\n",
    "        pdf.sort_values(by=['admission_date'], inplace=True)\n",
    "        dates = pdf['admission_date'].to_list()\n",
    "        initial_date = dates[0]\n",
    "        pdf.dropna(subset=['visual_acuity'], inplace=True)\n",
    "        visions = pdf['visual_acuity'].to_list()\n",
    "        ndf = pdf[pdf['visual_acuity'] == max(visions)]\n",
    "        new_dates = ndf['admission_date'].to_list()\n",
    "        time = (new_dates[0] - initial_date).days\n",
    "        tpvi_list.append(time)\n",
    "    return tpvi_list"
   ]
  },
  {
   "cell_type": "code",
   "execution_count": 28,
   "id": "d5aba506",
   "metadata": {},
   "outputs": [],
   "source": [
    "tpvi_list = tpvi(df)"
   ]
  },
  {
   "cell_type": "code",
   "execution_count": 29,
   "id": "61b25f12",
   "metadata": {},
   "outputs": [
    {
     "data": {
      "text/plain": [
       "207.2702205882353"
      ]
     },
     "execution_count": 29,
     "metadata": {},
     "output_type": "execute_result"
    }
   ],
   "source": [
    "np.mean(tpvi_list)"
   ]
  },
  {
   "cell_type": "code",
   "execution_count": 74,
   "id": "2e840778",
   "metadata": {},
   "outputs": [],
   "source": [
    "dfs = [luc_eyl, eyl_luc]\n",
    "tpvi_lists = []\n",
    "for df in dfs:\n",
    "    tpvi_list = tpvi(df)\n",
    "    tpvi_lists.append(tpvi_list)"
   ]
  },
  {
   "cell_type": "code",
   "execution_count": 75,
   "id": "bc6b7ce5",
   "metadata": {},
   "outputs": [
    {
     "name": "stdout",
     "output_type": "stream",
     "text": [
      "The mean is 290.8611111111111, and the std is 46.61831430900676.\n",
      "The mean is 243.79365079365078, and the std is 62.63150341307809.\n"
     ]
    }
   ],
   "source": [
    "for lst in tpvi_lists:\n",
    "    ci = stats.t.interval(alpha=0.95, df=len(lst)-1, loc=np.mean(lst), scale=stats.sem(lst))\n",
    "    std = np.mean(lst) - ci[0]\n",
    "    print(\"The mean is {}, and the std is {}.\".format(np.mean(lst), std))"
   ]
  },
  {
   "cell_type": "code",
   "execution_count": 76,
   "id": "ea4d7109",
   "metadata": {},
   "outputs": [
    {
     "data": {
      "text/plain": [
       "0.15648849605385323"
      ]
     },
     "execution_count": 76,
     "metadata": {},
     "output_type": "execute_result"
    }
   ],
   "source": [
    "stat, p = mannwhitneyu(tpvi_lists[0], tpvi_lists[1])\n",
    "p"
   ]
  },
  {
   "cell_type": "markdown",
   "id": "38b30b2a",
   "metadata": {},
   "source": [
    "## Segment patients by improved, not improved"
   ]
  },
  {
   "cell_type": "code",
   "execution_count": 37,
   "id": "3d08eeb3",
   "metadata": {},
   "outputs": [],
   "source": [
    "df = pd.read_csv('/home/jupyter/charliemacuject/pharma_reports/data/dr2_boronia_2016.csv')\n",
    "df['admission_date'] = pd.to_datetime(df['admission_date'])"
   ]
  },
  {
   "cell_type": "code",
   "execution_count": 19,
   "id": "4a70a682",
   "metadata": {},
   "outputs": [],
   "source": [
    "# this function groups dataframes by patients on single vs mult drugs\n",
    "def drug_df_separator(df):\n",
    "    improved, not_improved = [], []\n",
    "    id_list = df['eye_id'].unique()\n",
    "    for eye in id_list:\n",
    "        pdf = df[df['eye_id'] == eye]\n",
    "        pdf.dropna(subset=['visual_acuity'], inplace=True)\n",
    "        pdf.sort_values(by=['admission_date'], inplace=True)\n",
    "        vision = pdf['visual_acuity'].to_list()\n",
    "        if max(vision) == vision[0]:\n",
    "            not_improved.append(pdf)\n",
    "        else:\n",
    "            improved.append(pdf)\n",
    "    return pd.concat(improved), pd.concat(not_improved)\n",
    "\n",
    "improved, not_improved = drug_df_separator(df)"
   ]
  },
  {
   "cell_type": "code",
   "execution_count": 46,
   "id": "7d8d7dfc",
   "metadata": {},
   "outputs": [
    {
     "name": "stdout",
     "output_type": "stream",
     "text": [
      "20.133333333333333\n",
      "15.523809523809524\n",
      "0.0\n",
      "31.28708133971292\n"
     ]
    }
   ],
   "source": [
    "dfs = [lucentis_id, eylea_id, avastin_id, mult_id]\n",
    "pvi_lists = []\n",
    "for df in dfs:\n",
    "    pvi_list = pvi(df)\n",
    "    pvi_lists.append(pvi_list)\n",
    "    \n",
    "for lst in pvi_lists:\n",
    "    print(np.mean(lst))"
   ]
  },
  {
   "cell_type": "markdown",
   "id": "9eb3e328",
   "metadata": {},
   "source": [
    "## Vision loss from peak"
   ]
  },
  {
   "cell_type": "code",
   "execution_count": 33,
   "id": "54f2a223",
   "metadata": {},
   "outputs": [],
   "source": [
    "def vlp(df):\n",
    "    id_list = df['eye_id'].unique()\n",
    "    vlp_list = []\n",
    "    for eye in id_list:\n",
    "        pdf = df[df['eye_id'] == eye]\n",
    "        pdf.sort_values(by=['admission_date'], inplace=True)\n",
    "        pdf.dropna(subset=['visual_acuity'], inplace=True)\n",
    "        visions = pdf['visual_acuity'].to_list()\n",
    "        recent = visions[-1]\n",
    "        max_vision = max(visions)\n",
    "        vlp_list.append(max_vision - recent)\n",
    "    return vlp_list"
   ]
  },
  {
   "cell_type": "code",
   "execution_count": 34,
   "id": "89ffc250",
   "metadata": {},
   "outputs": [
    {
     "data": {
      "text/plain": [
       "9.913875598086124"
      ]
     },
     "execution_count": 34,
     "metadata": {},
     "output_type": "execute_result"
    }
   ],
   "source": [
    "vlp_list = vlp(df)\n",
    "np.mean(vlp_list)"
   ]
  },
  {
   "cell_type": "code",
   "execution_count": 72,
   "id": "e12ebe29",
   "metadata": {},
   "outputs": [
    {
     "name": "stdout",
     "output_type": "stream",
     "text": [
      "The mean is 9.48611111111111, and the std is 1.960788003402742.\n",
      "The mean is 11.142857142857142, and the std is 2.8098609883524865.\n"
     ]
    }
   ],
   "source": [
    "dfs = [luc_eyl, eyl_luc]\n",
    "vlp_lists = []\n",
    "for df in dfs:\n",
    "    vlp_list = vlp(df)\n",
    "    vlp_lists.append(vlp_list)\n",
    "    \n",
    "for lst in vlp_lists:\n",
    "    ci = stats.t.interval(alpha=0.95, df=len(lst)-1, loc=np.mean(lst), scale=stats.sem(lst))\n",
    "    std = np.mean(lst) - ci[0]\n",
    "    print(\"The mean is {}, and the std is {}.\".format(np.mean(lst), std))"
   ]
  },
  {
   "cell_type": "code",
   "execution_count": 73,
   "id": "e5a3c636",
   "metadata": {},
   "outputs": [
    {
     "data": {
      "text/plain": [
       "0.05462183905364518"
      ]
     },
     "execution_count": 73,
     "metadata": {},
     "output_type": "execute_result"
    }
   ],
   "source": [
    "stat, p = mannwhitneyu(vlp_lists[0], vlp_lists[1])\n",
    "p"
   ]
  },
  {
   "cell_type": "markdown",
   "id": "c47458a4",
   "metadata": {},
   "source": [
    "## Overall visual change"
   ]
  },
  {
   "cell_type": "code",
   "execution_count": 51,
   "id": "bee08347",
   "metadata": {},
   "outputs": [],
   "source": [
    "def ovc(df):\n",
    "    id_list = df['eye_id'].unique()\n",
    "    ovc_list = []\n",
    "    for eye in id_list:\n",
    "        pdf = df[df['eye_id'] == eye]\n",
    "        pdf.sort_values(by=['admission_date'], inplace=True)\n",
    "        pdf.dropna(subset=['visual_acuity'], inplace=True)\n",
    "        visions = pdf['visual_acuity'].to_list()\n",
    "        recent = visions[-1]\n",
    "        initial = visions[0]\n",
    "        ovc_list.append(initial - recent)\n",
    "    return ovc_list"
   ]
  },
  {
   "cell_type": "code",
   "execution_count": 65,
   "id": "ec808f37",
   "metadata": {},
   "outputs": [
    {
     "name": "stdout",
     "output_type": "stream",
     "text": [
      "The mean is -28.395833333333332, and the std is 6.073959754778723.\n",
      "The mean is -4.7936507936507935, and the std is 5.318709291096716.\n"
     ]
    }
   ],
   "source": [
    "dfs = [luc_eyl, eyl_luc]\n",
    "ovc_lists = []\n",
    "for df in dfs:\n",
    "    ovc_list = ovc(df)\n",
    "    ovc_lists.append(ovc_list)\n",
    "    \n",
    "for lst in ovc_lists:\n",
    "    ci = stats.t.interval(alpha=0.95, df=len(lst)-1, loc=np.mean(lst), scale=stats.sem(lst))\n",
    "    std = np.mean(lst) - ci[0]\n",
    "    print(\"The mean is {}, and the std is {}.\".format(np.mean(lst), std))"
   ]
  },
  {
   "cell_type": "code",
   "execution_count": 58,
   "id": "a11b6adb",
   "metadata": {},
   "outputs": [
    {
     "data": {
      "text/plain": [
       "8.9285078409847e-06"
      ]
     },
     "execution_count": 58,
     "metadata": {},
     "output_type": "execute_result"
    }
   ],
   "source": [
    "stat, p = mannwhitneyu(pvi_lists[1], pvi_lists[3])\n",
    "p"
   ]
  },
  {
   "cell_type": "code",
   "execution_count": 83,
   "id": "7b75917e",
   "metadata": {},
   "outputs": [
    {
     "data": {
      "text/plain": [
       "4.789999999999999"
      ]
     },
     "execution_count": 83,
     "metadata": {},
     "output_type": "execute_result"
    }
   ],
   "source": [
    "15.93 - 11.14"
   ]
  },
  {
   "cell_type": "markdown",
   "id": "262230ac",
   "metadata": {},
   "source": [
    "## Significant switches"
   ]
  },
  {
   "cell_type": "code",
   "execution_count": 62,
   "id": "d6231727",
   "metadata": {},
   "outputs": [
    {
     "data": {
      "text/plain": [
       "(2967, 1881)"
      ]
     },
     "execution_count": 62,
     "metadata": {},
     "output_type": "execute_result"
    }
   ],
   "source": [
    "# this function groups dataframes by patients on single vs mult drugs\n",
    "def switch_df_separator(df):\n",
    "    df = interval_all(df)\n",
    "    df = df.dropna(subset=['Drug'])\n",
    "    df = df[df['Drug'] != 'nil']\n",
    "    df = df[df['Drug'] != 'None']\n",
    "    df = df[df['Drug'] != 'Brolucizumab']\n",
    "    df = df[df['Drug'] != 'Avastin']\n",
    "    luc_eyl, eyl_luc = [], []\n",
    "    drug_list = ['Lucentis', 'Eylea']\n",
    "    id_list = df['eye_id'].unique()\n",
    "    for eye in id_list:\n",
    "        pdf = df[df['eye_id'] == eye]\n",
    "        drugs = pdf['Drug'].unique()\n",
    "        if len(drugs) > 1:\n",
    "            if drugs[0] == 'Lucentis' and drugs[1] == 'Eylea':\n",
    "                luc_eyl.append(pdf)\n",
    "            elif drugs[0] == 'Eylea' and drugs[1] == 'Lucentis':\n",
    "                eyl_luc.append(pdf)\n",
    "        else:\n",
    "            pass\n",
    "    return pd.concat(luc_eyl), pd.concat(eyl_luc)\n",
    "\n",
    "luc_eyl, eyl_luc = switch_df_separator(df)\n",
    "len(luc_eyl), len(eyl_luc)"
   ]
  },
  {
   "cell_type": "code",
   "execution_count": 63,
   "id": "e832d79a",
   "metadata": {},
   "outputs": [
    {
     "data": {
      "text/plain": [
       "62.549713515335355"
      ]
     },
     "execution_count": 63,
     "metadata": {},
     "output_type": "execute_result"
    }
   ],
   "source": [
    "np.mean(luc_eyl['visual_acuity'])"
   ]
  },
  {
   "cell_type": "code",
   "execution_count": 64,
   "id": "43b364f8",
   "metadata": {},
   "outputs": [
    {
     "data": {
      "text/plain": [
       "63.47900053163211"
      ]
     },
     "execution_count": 64,
     "metadata": {},
     "output_type": "execute_result"
    }
   ],
   "source": [
    "np.mean(eyl_luc['visual_acuity'])"
   ]
  },
  {
   "cell_type": "code",
   "execution_count": 71,
   "id": "25fe5304",
   "metadata": {},
   "outputs": [
    {
     "data": {
      "text/plain": [
       "144"
      ]
     },
     "execution_count": 71,
     "metadata": {},
     "output_type": "execute_result"
    }
   ],
   "source": [
    "len(luc_eyl['eye_id'].unique())"
   ]
  },
  {
   "cell_type": "code",
   "execution_count": 69,
   "id": "68f78ca8",
   "metadata": {},
   "outputs": [
    {
     "data": {
      "text/plain": [
       "Index(['Unnamed: 0', 'Unnamed: 0.1', 'id', 'eye_id', 'next_visit_date',\n",
       "       'is_submacular_blood_present', 'created_at', 'updated_at',\n",
       "       'is_floaters_present', 'is_irf_present', 'is_irf_gt_initiation',\n",
       "       'is_srf_present', 'is_srf_gt_initiation', 'is_ped_gt_last_visit',\n",
       "       'is_ped_gt_initiation', 'is_submacular_blood_new',\n",
       "       'is_vision_worse_than_last_visit', 'next_interval_in_weeks', 'drug_id',\n",
       "       'next_drug_id', 'next_recommendation_eye_state', 'admission_date',\n",
       "       'message', 'has_submacular_blood_resolved', 'should_extend',\n",
       "       'doctor_visit_type', 'doctor_visits_id', 'irf_srf_ped_lt_previous_drug',\n",
       "       'resume_treatment', 'is_atypical', 'status_from_silverpond',\n",
       "       'silverpond_original_image_url', 'silverpond_overlay_image_url',\n",
       "       'is_oct_correct', 'is_irf_gt_initiation_prediction',\n",
       "       'is_srf_gt_initiation_prediction', 'is_recommendation_changed',\n",
       "       'Recommended drug', 'Recommended next drug',\n",
       "       'Recommended next interval', 'Drug', 'Next Drug', 'Next Interval',\n",
       "       'clinic_id', 'user_id', 'creation_mode', 'visual_acuity',\n",
       "       'high_res_silverpond_original_image_url',\n",
       "       'high_res_silverpond_overlay_image_url', 'irf', 'srf',\n",
       "       'clinic_visit_type', 'planned_drug_id', 'planned_interval_in_weeks',\n",
       "       'completed', 'treatment_reason', 'reason_bilat', 'reason_pt',\n",
       "       'reason_fluid', 'reason_only_eye', 'oct_attached_at',\n",
       "       'fluid_measured_at', 'ur', 'laterality', 'Unnamed: 62', 'Interval'],\n",
       "      dtype='object')"
      ]
     },
     "execution_count": 69,
     "metadata": {},
     "output_type": "execute_result"
    }
   ],
   "source": [
    "df.columns"
   ]
  },
  {
   "cell_type": "markdown",
   "id": "31f3c2e6",
   "metadata": {},
   "source": [
    "## Visual acuity testing class"
   ]
  },
  {
   "cell_type": "code",
   "execution_count": 88,
   "id": "cfa649c4",
   "metadata": {},
   "outputs": [],
   "source": [
    "df = pd.read_csv('/home/jupyter/charliemacuject/pharma_reports/data/dr2_boronia_2016.csv')\n",
    "df['admission_date'] = pd.to_datetime(df['admission_date'])"
   ]
  },
  {
   "cell_type": "code",
   "execution_count": 89,
   "id": "dc537dc7",
   "metadata": {},
   "outputs": [],
   "source": [
    "df = interval_all(df)\n",
    "df.to_csv('/home/jupyter/charliemacuject/pharma_reports/data/dr2_boronia_2016.csv')"
   ]
  },
  {
   "cell_type": "code",
   "execution_count": 105,
   "id": "5d830e1c",
   "metadata": {},
   "outputs": [],
   "source": [
    "class Vision:\n",
    "    \n",
    "    # df_list can be either drugs, improved, or switched\n",
    "    def __init__(self, df_list):\n",
    "        self.df_list = df_list\n",
    "        \n",
    "    def get_df(self, drop_drug_na=False):\n",
    "        df = pd.read_csv('/home/jupyter/charliemacuject/pharma_reports/data/dr2_boronia_2016.csv')\n",
    "        df['admission_date'] = pd.to_datetime(df['admission_date'])\n",
    "        if drop_drug_na:\n",
    "            df = df.dropna(subset=['Drug'])\n",
    "            df = df[df['Drug'] != 'nil']\n",
    "            df = df[df['Drug'] != 'None']\n",
    "            df = df[df['Drug'] != 'Brolucizumab']\n",
    "        return df\n",
    "        \n",
    "    def get_dataframes(self):\n",
    "        if self.df_list == 'drugs':\n",
    "            lucentis_df, eylea_df, avastin_df, mult_df = self.drug_df_separator()\n",
    "            return [lucentis_df, eylea_df, avastin_df, mult_df]\n",
    "        elif self.df_list == 'switched':\n",
    "            luc_eyl, eyl_luc = self.switch_df_separator()\n",
    "            luc_eyl\n",
    "            return [luc_eyl, eyl_luc]\n",
    "        elif self.df_list == 'improved':\n",
    "            improved, not_improved, overall = self.improved_df_separator()\n",
    "            return [improved, not_improved, overall]\n",
    "            \n",
    "    # groups dataframes by patients who improved vs didn't\n",
    "    def improved_df_separator(self):\n",
    "        df = self.get_df()\n",
    "        improved, not_improved = [], []\n",
    "        id_list = df['eye_id'].unique()\n",
    "        for eye in id_list:\n",
    "            pdf = df[df['eye_id'] == eye]\n",
    "            pdf.dropna(subset=['visual_acuity'], inplace=True)\n",
    "            pdf.sort_values(by=['admission_date'], inplace=True)\n",
    "            vision = pdf['visual_acuity'].to_list()\n",
    "            if max(vision) == vision[0]:\n",
    "                not_improved.append(pdf)\n",
    "            else:\n",
    "                improved.append(pdf)\n",
    "        return pd.concat(improved), pd.concat(not_improved), df\n",
    "            \n",
    "    \n",
    "    # this function groups dataframes by patients with specific switches\n",
    "    def switch_df_separator(self):\n",
    "        df = self.get_df(drop_drug_na=True)\n",
    "        df = df[df['Drug'] != 'Avastin']\n",
    "        luc_eyl, eyl_luc = [], []\n",
    "        drug_list = ['Lucentis', 'Eylea']\n",
    "        id_list = df['eye_id'].unique()\n",
    "        for eye in id_list:\n",
    "            pdf = df[df['eye_id'] == eye]\n",
    "            drugs = pdf['Drug'].unique()\n",
    "            if len(drugs) > 1:\n",
    "                if drugs[0] == 'Lucentis' and drugs[1] == 'Eylea':\n",
    "                    luc_eyl.append(pdf)\n",
    "                elif drugs[0] == 'Eylea' and drugs[1] == 'Lucentis':\n",
    "                    eyl_luc.append(pdf)\n",
    "            else:\n",
    "                pass\n",
    "        return pd.concat(luc_eyl), pd.concat(eyl_luc)\n",
    "    \n",
    "    # this function groups dataframes by patients on single vs mult drugs\n",
    "    def drug_df_separator(self):\n",
    "        df = self.get_df(drop_drug_na=True)\n",
    "        df = df.dropna(subset=['Drug'])\n",
    "        df = df[df['Drug'] != 'nil']\n",
    "        df = df[df['Drug'] != 'None']\n",
    "        df = df[df['Drug'] != 'Brolucizumab']\n",
    "        lucentis, eylea, avastin, mult = [], [], [], []\n",
    "        drug_list = ['Lucentis', 'Eylea', 'Avastin']\n",
    "        id_list = df['eye_id'].unique()\n",
    "        for eye in id_list:\n",
    "            pdf = df[df['eye_id'] == eye]\n",
    "            drugs = pdf['Drug'].unique()\n",
    "            if len(drugs) == 1:\n",
    "                if drugs[0] == 'Lucentis':\n",
    "                    lucentis.append(pdf)\n",
    "                elif drugs[0] == 'Eylea':\n",
    "                    eylea.append(pdf)\n",
    "                else:\n",
    "                    avastin.append(pdf)\n",
    "            else:\n",
    "                mult.append(pdf)\n",
    "        return pd.concat(lucentis), pd.concat(eylea), pd.concat(avastin), pd.concat(mult)\n",
    "    \n",
    "    def pvi(df):\n",
    "        id_list = df['eye_id'].unique()\n",
    "        pvi_list = []\n",
    "        for eye in id_list:\n",
    "            pdf = df[df['eye_id'] == eye]\n",
    "            pdf.sort_values(by=['admission_date'], inplace=True)\n",
    "            pdf.dropna(subset=['visual_acuity'], inplace=True)\n",
    "            visions = pdf['visual_acuity'].to_list()\n",
    "            pvi_pdf = max(visions) - visions[0]\n",
    "            pvi_list.append(pvi_pdf)\n",
    "        return pvi_list\n",
    "    \n",
    "    def tpvi(df):\n",
    "        id_list = df['eye_id'].unique()\n",
    "        tpvi_list = []\n",
    "        for eye in id_list:\n",
    "            pdf = df[df['eye_id'] == eye]\n",
    "            pdf.sort_values(by=['admission_date'], inplace=True)\n",
    "            dates = pdf['admission_date'].to_list()\n",
    "            initial_date = dates[0]\n",
    "            pdf.dropna(subset=['visual_acuity'], inplace=True)\n",
    "            visions = pdf['visual_acuity'].to_list()\n",
    "            ndf = pdf[pdf['visual_acuity'] == max(visions)]\n",
    "            new_dates = ndf['admission_date'].to_list()\n",
    "            time = (new_dates[0] - initial_date).days\n",
    "            tpvi_list.append(time)\n",
    "        return tpvi_list\n",
    "    \n",
    "    def ovc(df):\n",
    "        id_list = df['eye_id'].unique()\n",
    "        ovc_list = []\n",
    "        for eye in id_list:\n",
    "            pdf = df[df['eye_id'] == eye]\n",
    "            pdf.sort_values(by=['admission_date'], inplace=True)\n",
    "            pdf.dropna(subset=['visual_acuity'], inplace=True)\n",
    "            visions = pdf['visual_acuity'].to_list()\n",
    "            recent = visions[-1]\n",
    "            initial = visions[0]\n",
    "            ovc_list.append(initial - recent)\n",
    "        return ovc_list\n",
    "    \n",
    "    def vlp(df):\n",
    "        id_list = df['eye_id'].unique()\n",
    "        vlp_list = []\n",
    "        for eye in id_list:\n",
    "            pdf = df[df['eye_id'] == eye]\n",
    "            pdf.sort_values(by=['admission_date'], inplace=True)\n",
    "            pdf.dropna(subset=['visual_acuity'], inplace=True)\n",
    "            visions = pdf['visual_acuity'].to_list()\n",
    "            recent = visions[-1]\n",
    "            max_vision = max(visions)\n",
    "            vlp_list.append(max_vision - recent)\n",
    "        return vlp_list\n",
    "    \n",
    "    def list_results(self, df):\n",
    "        pvi_list, tpvi_list, vlp_list, ovc_list = pvi(df), tpvi(df), vlp(df), ovc(df)\n",
    "        return np.mean(pvi_list), np.mean(tpvi_list), np.mean(vlp_list), np.mean(ovc_list)\n",
    "\n",
    "    def print_results(self):\n",
    "        dfs = self.get_dataframes()\n",
    "        lst = []\n",
    "        if self.df_list == 'Drugs':\n",
    "            print(\"Displaying results for Lucentis, Eylea, and Multiple Drugs.\")\n",
    "        elif self.df_list == 'Improved':\n",
    "            print(\"Displaying results for Improved, Not_Improved and Overall.\")\n",
    "        else:\n",
    "            print(\"Displaying results for patients who switched from Lucentis to Eylea, and Eylea to Lucentis.\")\n",
    "        for dataframe in dfs:\n",
    "            pvi, tpvi, vlp, ovc = self.list_results(dataframe)\n",
    "            print(\"  \")\n",
    "            print(\"PVI = {}\".forma)\n",
    "            print(\"TPVI = {} days\")\n",
    "            print(VLP = {}, OCV = {}\".format(pvi, tpvi, vlp, ovc))\n",
    "            print(\"  \")\n",
    "        return lst"
   ]
  },
  {
   "cell_type": "code",
   "execution_count": 106,
   "id": "82563e32",
   "metadata": {},
   "outputs": [
    {
     "name": "stdout",
     "output_type": "stream",
     "text": [
      "Displaying results for patients who switched from Lucentis to Eylea, and Eylea to Lucentis.\n",
      "PVI = 24.67989417989418, TPVI = 298.2936507936508 days, VLP = 9.542328042328043, OCV = -15.137566137566138\n",
      "  \n",
      "PVI = 0.0, TPVI = 0.0 days, VLP = 8.144578313253012, OCV = 8.144578313253012\n",
      "  \n",
      "PVI = 17.14889705882353, TPVI = 207.2702205882353 days, VLP = 9.115808823529411, OCV = -8.033088235294118\n",
      "  \n"
     ]
    },
    {
     "data": {
      "text/plain": [
       "[]"
      ]
     },
     "execution_count": 106,
     "metadata": {},
     "output_type": "execute_result"
    }
   ],
   "source": [
    "improvements = Vision(\"improved\")\n",
    "improvements.print_results()"
   ]
  },
  {
   "cell_type": "code",
   "execution_count": null,
   "id": "8d4e9080",
   "metadata": {},
   "outputs": [],
   "source": []
  }
 ],
 "metadata": {
  "environment": {
   "name": "common-cu110.m74",
   "type": "gcloud",
   "uri": "gcr.io/deeplearning-platform-release/base-cu110:m74"
  },
  "kernelspec": {
   "display_name": "Python 3",
   "language": "python",
   "name": "python3"
  },
  "language_info": {
   "codemirror_mode": {
    "name": "ipython",
    "version": 3
   },
   "file_extension": ".py",
   "mimetype": "text/x-python",
   "name": "python",
   "nbconvert_exporter": "python",
   "pygments_lexer": "ipython3",
   "version": "3.7.10"
  }
 },
 "nbformat": 4,
 "nbformat_minor": 5
}

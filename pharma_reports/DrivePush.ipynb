{
 "cells": [
  {
   "cell_type": "markdown",
   "id": "1b11492c",
   "metadata": {},
   "source": [
    "# Class for uploading files to Google Drive using Pydrive"
   ]
  },
  {
   "cell_type": "code",
   "execution_count": 1,
   "id": "50186164",
   "metadata": {},
   "outputs": [
    {
     "name": "stdout",
     "output_type": "stream",
     "text": [
      "Go to the following link in your browser:\n",
      "\n",
      "    https://accounts.google.com/o/oauth2/auth?client_id=198855760514-cttaak3avfg6568amn6d04dv7p7tfbdt.apps.googleusercontent.com&redirect_uri=urn%3Aietf%3Awg%3Aoauth%3A2.0%3Aoob&scope=https%3A%2F%2Fwww.googleapis.com%2Fauth%2Fdrive&access_type=offline&response_type=code\n",
      "\n"
     ]
    },
    {
     "name": "stdin",
     "output_type": "stream",
     "text": [
      "Enter verification code:  4/1AX4XfWghAN64x6e87_B4JEVKyKeno_5Jn0mZHyKiwDILEzQZA1h8lKK_Sw4\n"
     ]
    },
    {
     "name": "stdout",
     "output_type": "stream",
     "text": [
      "Authentication successful.\n"
     ]
    }
   ],
   "source": [
    "from pydrive.auth import GoogleAuth\n",
    "from pydrive.drive import GoogleDrive\n",
    "gauth = GoogleAuth()\n",
    "gauth.CommandLineAuth()\n",
    "drive = GoogleDrive(gauth)"
   ]
  },
  {
   "cell_type": "code",
   "execution_count": 10,
   "id": "c93a80f0",
   "metadata": {},
   "outputs": [],
   "source": [
    "class Upload:\n",
    "    \n",
    "    def __init__(self, folder, file_list):\n",
    "        self.folder = folder\n",
    "        self.file_list = file_list\n",
    "        \n",
    "    def set_folder(self):\n",
    "        \"\"\"\n",
    "        Determines the path ID of the folder to upload to.\n",
    "        \"\"\"\n",
    "        if self.folder == 'pharma_reports':\n",
    "            folder_id = '1INvWwtJhtiD4vqCEpehd4RT06I1-50pU'\n",
    "        elif self.folder == 'research':\n",
    "            folder_id = '1GuUeRc7Zqe5GdM1dmJOUF6VPW5NklH-R'\n",
    "        else:\n",
    "            folder_id = '1INvWwtJhtiD4vqCEpehd4RT06I1-50pU'\n",
    "        return folder_id\n",
    "    \n",
    "    def view_files(self):\n",
    "        \"\"\"\n",
    "        View all folders and file in the Google Drive.\n",
    "        \"\"\"\n",
    "        fileList = drive.ListFile({'q': \"'root' in parents and trashed=false\"}).GetList()\n",
    "        for file in fileList:\n",
    "            print('Title: %s, ID: %s' % (file['title'], file['id']))\n",
    "                \n",
    "    def upload_files(self):\n",
    "        \"\"\"\n",
    "        Upload the specified file of the object.\n",
    "        \"\"\"\n",
    "        folder_id = self.set_folder()\n",
    "        upload_file_list = self.file_list\n",
    "        for upload_file in upload_file_list:\n",
    "            gfile = drive.CreateFile({'parents': [{'id': folder_id}]})\n",
    "            # Read file and set it as the content of this instance.\n",
    "            gfile.SetContentFile(upload_file)\n",
    "            gfile.Upload() # Upload the file."
   ]
  },
  {
   "cell_type": "code",
   "execution_count": 11,
   "id": "f5e948bf",
   "metadata": {},
   "outputs": [],
   "source": [
    "table1 = Upload('research', ['fluidswitch.png'])"
   ]
  },
  {
   "cell_type": "code",
   "execution_count": 12,
   "id": "06afde2a",
   "metadata": {},
   "outputs": [
    {
     "name": "stdout",
     "output_type": "stream",
     "text": [
      "Title: Personal, ID: 138NqXd_cNuKbuM4oyK776SlNNnql7vm1\n",
      "Title: research, ID: 1GuUeRc7Zqe5GdM1dmJOUF6VPW5NklH-R\n",
      "Title: pharma_reports, ID: 1INvWwtJhtiD4vqCEpehd4RT06I1-50pU\n"
     ]
    }
   ],
   "source": [
    "table1.view_files()"
   ]
  },
  {
   "cell_type": "code",
   "execution_count": 13,
   "id": "829c2171",
   "metadata": {},
   "outputs": [],
   "source": [
    "table1.upload_files()"
   ]
  },
  {
   "cell_type": "code",
   "execution_count": null,
   "id": "08595041",
   "metadata": {},
   "outputs": [],
   "source": []
  }
 ],
 "metadata": {
  "environment": {
   "name": "common-cu110.m74",
   "type": "gcloud",
   "uri": "gcr.io/deeplearning-platform-release/base-cu110:m74"
  },
  "kernelspec": {
   "display_name": "Python 3",
   "language": "python",
   "name": "python3"
  },
  "language_info": {
   "codemirror_mode": {
    "name": "ipython",
    "version": 3
   },
   "file_extension": ".py",
   "mimetype": "text/x-python",
   "name": "python",
   "nbconvert_exporter": "python",
   "pygments_lexer": "ipython3",
   "version": "3.7.10"
  }
 },
 "nbformat": 4,
 "nbformat_minor": 5
}

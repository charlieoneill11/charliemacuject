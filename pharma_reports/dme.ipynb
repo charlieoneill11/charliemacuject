{
 "cells": [
  {
   "cell_type": "code",
   "execution_count": 85,
   "id": "4960d9ca",
   "metadata": {},
   "outputs": [],
   "source": [
    "import pandas as pd\n",
    "import numpy as np\n",
    "from sklearn.model_selection import train_test_split\n",
    "from xgboost import XGBClassifier\n",
    "from sklearn.metrics import accuracy_score\n",
    "import matplotlib.pyplot as plt\n",
    "import math\n",
    "import warnings\n",
    "warnings.filterwarnings('ignore')"
   ]
  },
  {
   "cell_type": "markdown",
   "id": "059f60a1",
   "metadata": {},
   "source": [
    "## Generate dataframe"
   ]
  },
  {
   "cell_type": "code",
   "execution_count": 14,
   "id": "bee8daca",
   "metadata": {},
   "outputs": [],
   "source": [
    "class VisualOutcomes:\n",
    "    \n",
    "    def vision_list(self, df):\n",
    "        \"\"\"\n",
    "        Returns a list of visual acuity for patient.\n",
    "        Input: patient Pandas dataframe.\n",
    "        Output: list.\n",
    "        \"\"\"\n",
    "        df['CreatedDate'] = pd.to_datetime(df['CreatedDate'])\n",
    "        df.sort_values(by=['CreatedDate'], inplace=True)\n",
    "        lst = df['visual_acuity'].dropna()\n",
    "        return lst.to_list()\n",
    "    \n",
    "    def mean_vision(self, df):\n",
    "        \"\"\"\n",
    "        Returns the mean vision of a patient.\n",
    "        Input: patient Pandas dataframe.\n",
    "        Output: float (LogMAR letters).\n",
    "        \"\"\"\n",
    "        lst = self.vision_list(df)\n",
    "        return np.mean(lst)\n",
    "\n",
    "    def loss_from_peak(self, df):\n",
    "        \"\"\"\n",
    "        Returns the VLP for a patient.\n",
    "        Vision Loss from Peak (VLP) is defined as max vision minus last vision.\n",
    "        Input: Pandas dataframe.\n",
    "        Output: float (LogMAR letters).\n",
    "        \"\"\"\n",
    "        visions = self.vision_list(df)\n",
    "        return max(visions) - visions[-1]\n",
    "    \n",
    "    def overall_visual_change(self, df):\n",
    "        \"\"\"\n",
    "        Returns the OVC for a patient.\n",
    "        Overall Visual Change (OVC) is defined as last vision minus first vision.\n",
    "        Input: Pandas dataframe.\n",
    "        Output: float (LogMAR letters).\n",
    "        \"\"\"\n",
    "        visions = self.vision_list(df)\n",
    "        last = (visions[-1] + visions[-2] + visions[-3]) / 3\n",
    "        first = visions[0]\n",
    "        return last - first\n",
    "    \n",
    "    def peak_visual_improvement(self, df):\n",
    "        \"\"\"\n",
    "        Returns the PVI for a patient.\n",
    "        Peak Visual Improvement (PVI) is defined as max vision minus initial vision.\n",
    "        Input: Pandas dataframe.\n",
    "        Output: float (LogMAR letters).\n",
    "        \"\"\"\n",
    "        visions = self.vision_list(df)\n",
    "        return max(visions) - visions[0]\n",
    "\n",
    "    def proportion_above_baseline(self, df):\n",
    "        \"\"\"\n",
    "        Returns the proportion of time above starting vision.\n",
    "        Input: patient Pandas dataframe.\n",
    "        Output: float (percentage).\n",
    "        \"\"\"\n",
    "        lst = self.vision_list(df)\n",
    "        starting_vision = lst[0]\n",
    "        above_lst = [i for i in lst if i > starting_vision]\n",
    "        if len(above_lst) != 0:\n",
    "            mean = sum(above_lst) / len(above_lst)\n",
    "        else:\n",
    "            mean = 0\n",
    "        return mean\n",
    "\n",
    "    def patient_clean(self, df, number_years):\n",
    "        \"\"\"\n",
    "        Shortens a patient's dataframe to x years after initiation.\n",
    "        Input: patient Pandas dataframe, integer.\n",
    "        Output: Pandas dataframe.\n",
    "        \"\"\"\n",
    "        dates = df['CreatedDate'].to_list()\n",
    "        first = dates[0]\n",
    "        cutoff = first.replace(year = first.year + number_years)\n",
    "        df = df[df['CreatedDate'] < cutoff]\n",
    "        return df\n",
    "\n",
    "    def time_above_baseline(self, df, number_years):\n",
    "        \"\"\"\n",
    "        Returns the number of days a patient spent above baseline in first x years.\n",
    "        Input: Pandas dataframe, integer.\n",
    "        Output: integer (days).\n",
    "        \"\"\"\n",
    "        df[\"CreatedDate\"] = pd.to_datetime(df[\"CreatedDate\"])\n",
    "        df.sort_values(by=['CreatedDate'], inplace=True)\n",
    "        dates = df[\"CreatedDate\"].to_list()\n",
    "        if (dates[-1] - dates[0]).days > (number_years * 365):\n",
    "            df = patient_clean(df, number_years)\n",
    "            vision = df['visual_acuity'].to_list()\n",
    "            dates2 = df[\"CreatedDate\"].to_list()\n",
    "            days = 0\n",
    "            starting_vision = vision[0]\n",
    "            for i in range(1, len(vision)):\n",
    "                if vision[i] > vision[0]:\n",
    "                    between = (dates2[i] - dates2[i-1]).days\n",
    "                    days += between\n",
    "            return days\n",
    "        else:\n",
    "            return 'nil'\n",
    "        \n",
    "    def time_above_baseline2(self, df):\n",
    "        \"\"\"\n",
    "        Returns the number of days a patient spent above baseline in first x years.\n",
    "        Input: Pandas dataframe, integer.\n",
    "        Output: integer (days).\n",
    "        \"\"\"\n",
    "        df[\"CreatedDate\"] = pd.to_datetime(df[\"CreatedDate\"])\n",
    "        df.sort_values(by=['CreatedDate'], inplace=True)\n",
    "        dates = df[\"CreatedDate\"].to_list()\n",
    "        vision = df['visual_acuity'].to_list()\n",
    "        dates2 = df[\"CreatedDate\"].to_list()\n",
    "        days = 0\n",
    "        starting_vision = vision[0]\n",
    "        for i in range(1, len(vision)):\n",
    "            if vision[i] > vision[0]:\n",
    "                between = (dates2[i] - dates2[i-1]).days\n",
    "                days += between\n",
    "        return days\n",
    "\n",
    "    def time_to_peak(self, df):\n",
    "        \"\"\"\n",
    "        Returns the TPVI for a patient.\n",
    "        Time to Peak Visual Improvement (TPVI) is defined in days.\n",
    "        Input: Pandas dataframe.\n",
    "        Output: integer (days).\n",
    "        \"\"\"\n",
    "        df[\"CreatedDate\"] = pd.to_datetime(df[\"CreatedDate\"])\n",
    "        df.sort_values(by=['CreatedDate'], inplace=True)\n",
    "        dates = df[\"CreatedDate\"].to_list()\n",
    "        max_value = df['visual_acuity'].max()\n",
    "        df_fin = df[df['visual_acuity'] == max_value]\n",
    "        initial_date = dates[0]\n",
    "        final_date = df_fin.CreatedDate.iloc[0]\n",
    "        return (final_date - initial_date).days\n",
    "    \n",
    "    def baseline_vision(self, df):\n",
    "        \"\"\"\n",
    "        Returns the baseline vision for a patient.\n",
    "        Input: Pandas dataframe.\n",
    "        Output: integer (LogMAR letters).\n",
    "        \"\"\"\n",
    "        lst = self.vision_list(df)\n",
    "        return lst[0]"
   ]
  },
  {
   "cell_type": "code",
   "execution_count": 17,
   "id": "78ff0a56",
   "metadata": {},
   "outputs": [],
   "source": [
    "class Dataframe(VisualOutcomes):\n",
    "    \n",
    "    def get_df(self):\n",
    "        \"\"\"\n",
    "        Returns the dataframe to be analysed (all visits).\n",
    "        \"\"\"\n",
    "        df = pd.read_csv('/home/jupyter/charliemacuject/pharma_reports/data/dme.csv')\n",
    "        df.drop(columns=['Unnamed: 0'], inplace=True)\n",
    "        return df\n",
    "    \n",
    "    def dataframe_gen(self, pdf, pat_id):\n",
    "        \"\"\"\n",
    "        Returns a dataframe of all adherence measures and visual outcomes.\n",
    "        For a singular patient only (will be one row).\n",
    "        Input: integer (patient id).\n",
    "        Output: Pandas dataframe.\n",
    "        \"\"\"\n",
    "        df = pdf[pdf[\"id\"] == pat_id]\n",
    "        data = {'mean_vision': [VisualOutcomes.mean_vision(self, df)], \n",
    "                'time_above_baseline': [VisualOutcomes.time_above_baseline2(self, df)],\n",
    "                'peak_visual_improvement': [VisualOutcomes.peak_visual_improvement(self, df)],\n",
    "                'overall_visual_change': [VisualOutcomes.overall_visual_change(self, df)],\n",
    "                'time_to_peak': [VisualOutcomes.time_to_peak(self, df)],\n",
    "                'baseline': [VisualOutcomes.baseline_vision(self, df)],\n",
    "                'visits': [len(df)]}\n",
    "        return pd.DataFrame(data)\n",
    "\n",
    "    \n",
    "    def master_dataframe(self):\n",
    "        \"\"\"\n",
    "        Returns a dataframe of statics for all patients.\n",
    "        \"\"\"\n",
    "        df = self.get_df()\n",
    "        id_list = df[\"id\"].unique()\n",
    "        frames = []\n",
    "        for i in range(len(id_list)):\n",
    "            try:\n",
    "                pdf = self.dataframe_gen(df, id_list[i])\n",
    "                pdf['id'] = i\n",
    "                frames.append(pdf)\n",
    "            except:\n",
    "                i += 1\n",
    "        master = pd.concat(frames)\n",
    "        master.reset_index(inplace=True)\n",
    "        master.drop(columns=['index'], inplace=True)\n",
    "        return master"
   ]
  },
  {
   "cell_type": "code",
   "execution_count": 68,
   "id": "f72ff2e9",
   "metadata": {},
   "outputs": [
    {
     "data": {
      "text/html": [
       "<div>\n",
       "<style scoped>\n",
       "    .dataframe tbody tr th:only-of-type {\n",
       "        vertical-align: middle;\n",
       "    }\n",
       "\n",
       "    .dataframe tbody tr th {\n",
       "        vertical-align: top;\n",
       "    }\n",
       "\n",
       "    .dataframe thead th {\n",
       "        text-align: right;\n",
       "    }\n",
       "</style>\n",
       "<table border=\"1\" class=\"dataframe\">\n",
       "  <thead>\n",
       "    <tr style=\"text-align: right;\">\n",
       "      <th></th>\n",
       "      <th>mean_vision</th>\n",
       "      <th>time_above_baseline</th>\n",
       "      <th>peak_visual_improvement</th>\n",
       "      <th>overall_visual_change</th>\n",
       "      <th>time_to_peak</th>\n",
       "      <th>baseline</th>\n",
       "      <th>visits</th>\n",
       "      <th>id</th>\n",
       "    </tr>\n",
       "  </thead>\n",
       "  <tbody>\n",
       "    <tr>\n",
       "      <th>0</th>\n",
       "      <td>70.588235</td>\n",
       "      <td>0</td>\n",
       "      <td>0.0</td>\n",
       "      <td>-9.333333</td>\n",
       "      <td>0</td>\n",
       "      <td>76.0</td>\n",
       "      <td>34</td>\n",
       "      <td>0</td>\n",
       "    </tr>\n",
       "    <tr>\n",
       "      <th>1</th>\n",
       "      <td>71.687500</td>\n",
       "      <td>54</td>\n",
       "      <td>4.0</td>\n",
       "      <td>-5.666667</td>\n",
       "      <td>328</td>\n",
       "      <td>76.0</td>\n",
       "      <td>18</td>\n",
       "      <td>1</td>\n",
       "    </tr>\n",
       "    <tr>\n",
       "      <th>2</th>\n",
       "      <td>73.250000</td>\n",
       "      <td>0</td>\n",
       "      <td>0.0</td>\n",
       "      <td>-26.000000</td>\n",
       "      <td>0</td>\n",
       "      <td>85.0</td>\n",
       "      <td>32</td>\n",
       "      <td>2</td>\n",
       "    </tr>\n",
       "    <tr>\n",
       "      <th>3</th>\n",
       "      <td>75.392857</td>\n",
       "      <td>1940</td>\n",
       "      <td>20.0</td>\n",
       "      <td>15.000000</td>\n",
       "      <td>987</td>\n",
       "      <td>65.0</td>\n",
       "      <td>58</td>\n",
       "      <td>3</td>\n",
       "    </tr>\n",
       "    <tr>\n",
       "      <th>4</th>\n",
       "      <td>75.600000</td>\n",
       "      <td>50</td>\n",
       "      <td>4.0</td>\n",
       "      <td>-4.000000</td>\n",
       "      <td>363</td>\n",
       "      <td>76.0</td>\n",
       "      <td>17</td>\n",
       "      <td>4</td>\n",
       "    </tr>\n",
       "  </tbody>\n",
       "</table>\n",
       "</div>"
      ],
      "text/plain": [
       "   mean_vision  time_above_baseline  peak_visual_improvement  \\\n",
       "0    70.588235                    0                      0.0   \n",
       "1    71.687500                   54                      4.0   \n",
       "2    73.250000                    0                      0.0   \n",
       "3    75.392857                 1940                     20.0   \n",
       "4    75.600000                   50                      4.0   \n",
       "\n",
       "   overall_visual_change  time_to_peak  baseline  visits  id  \n",
       "0              -9.333333             0      76.0      34   0  \n",
       "1              -5.666667           328      76.0      18   1  \n",
       "2             -26.000000             0      85.0      32   2  \n",
       "3              15.000000           987      65.0      58   3  \n",
       "4              -4.000000           363      76.0      17   4  "
      ]
     },
     "execution_count": 68,
     "metadata": {},
     "output_type": "execute_result"
    }
   ],
   "source": [
    "dataframe = Dataframe()\n",
    "df = dataframe.master_dataframe()\n",
    "df.head()"
   ]
  },
  {
   "cell_type": "code",
   "execution_count": 69,
   "id": "b0a90fce",
   "metadata": {},
   "outputs": [
    {
     "data": {
      "text/plain": [
       "181"
      ]
     },
     "execution_count": 69,
     "metadata": {},
     "output_type": "execute_result"
    }
   ],
   "source": [
    "len(df)"
   ]
  },
  {
   "cell_type": "markdown",
   "id": "1b03a5bc",
   "metadata": {},
   "source": [
    "# Predict patient vision\n",
    "Goal: predict whether overall visual change (OVC, defined as last vision minus first vision) will be positive or negative for a given patient, using feature-engineered columns that summarise patient clinical history."
   ]
  },
  {
   "cell_type": "markdown",
   "id": "9b1d607b",
   "metadata": {},
   "source": [
    "First, we need to append a column to the dataframe that will determine whether OVC is positive or negative. To do this, we'll write a function to return a 1 or a 0 based on the value of OVC in that row."
   ]
  },
  {
   "cell_type": "code",
   "execution_count": 70,
   "id": "d705faba",
   "metadata": {},
   "outputs": [],
   "source": [
    "def label_ovc(row): return 1 if row['overall_visual_change'] > 0 else 0"
   ]
  },
  {
   "cell_type": "markdown",
   "id": "2bd47a8f",
   "metadata": {},
   "source": [
    "Notice that the parameter being input to `label_ovc` is a Series object named row. Next, we use the `apply` function in Pandas to apply the function. We save the results in a new column in the dataframe."
   ]
  },
  {
   "cell_type": "code",
   "execution_count": 71,
   "id": "7f07f5fc",
   "metadata": {},
   "outputs": [],
   "source": [
    "df['OVC_outcome'] = df.apply(lambda row: label_ovc(row), axis=1)"
   ]
  },
  {
   "cell_type": "markdown",
   "id": "d76174d4",
   "metadata": {},
   "source": [
    "Let's check that the new column is there."
   ]
  },
  {
   "cell_type": "code",
   "execution_count": 72,
   "id": "92a5cbe5",
   "metadata": {},
   "outputs": [
    {
     "data": {
      "text/html": [
       "<div>\n",
       "<style scoped>\n",
       "    .dataframe tbody tr th:only-of-type {\n",
       "        vertical-align: middle;\n",
       "    }\n",
       "\n",
       "    .dataframe tbody tr th {\n",
       "        vertical-align: top;\n",
       "    }\n",
       "\n",
       "    .dataframe thead th {\n",
       "        text-align: right;\n",
       "    }\n",
       "</style>\n",
       "<table border=\"1\" class=\"dataframe\">\n",
       "  <thead>\n",
       "    <tr style=\"text-align: right;\">\n",
       "      <th></th>\n",
       "      <th>mean_vision</th>\n",
       "      <th>time_above_baseline</th>\n",
       "      <th>peak_visual_improvement</th>\n",
       "      <th>overall_visual_change</th>\n",
       "      <th>time_to_peak</th>\n",
       "      <th>baseline</th>\n",
       "      <th>visits</th>\n",
       "      <th>id</th>\n",
       "      <th>OVC_outcome</th>\n",
       "    </tr>\n",
       "  </thead>\n",
       "  <tbody>\n",
       "    <tr>\n",
       "      <th>0</th>\n",
       "      <td>70.588235</td>\n",
       "      <td>0</td>\n",
       "      <td>0.0</td>\n",
       "      <td>-9.333333</td>\n",
       "      <td>0</td>\n",
       "      <td>76.0</td>\n",
       "      <td>34</td>\n",
       "      <td>0</td>\n",
       "      <td>0</td>\n",
       "    </tr>\n",
       "    <tr>\n",
       "      <th>1</th>\n",
       "      <td>71.687500</td>\n",
       "      <td>54</td>\n",
       "      <td>4.0</td>\n",
       "      <td>-5.666667</td>\n",
       "      <td>328</td>\n",
       "      <td>76.0</td>\n",
       "      <td>18</td>\n",
       "      <td>1</td>\n",
       "      <td>0</td>\n",
       "    </tr>\n",
       "    <tr>\n",
       "      <th>2</th>\n",
       "      <td>73.250000</td>\n",
       "      <td>0</td>\n",
       "      <td>0.0</td>\n",
       "      <td>-26.000000</td>\n",
       "      <td>0</td>\n",
       "      <td>85.0</td>\n",
       "      <td>32</td>\n",
       "      <td>2</td>\n",
       "      <td>0</td>\n",
       "    </tr>\n",
       "    <tr>\n",
       "      <th>3</th>\n",
       "      <td>75.392857</td>\n",
       "      <td>1940</td>\n",
       "      <td>20.0</td>\n",
       "      <td>15.000000</td>\n",
       "      <td>987</td>\n",
       "      <td>65.0</td>\n",
       "      <td>58</td>\n",
       "      <td>3</td>\n",
       "      <td>1</td>\n",
       "    </tr>\n",
       "    <tr>\n",
       "      <th>4</th>\n",
       "      <td>75.600000</td>\n",
       "      <td>50</td>\n",
       "      <td>4.0</td>\n",
       "      <td>-4.000000</td>\n",
       "      <td>363</td>\n",
       "      <td>76.0</td>\n",
       "      <td>17</td>\n",
       "      <td>4</td>\n",
       "      <td>0</td>\n",
       "    </tr>\n",
       "  </tbody>\n",
       "</table>\n",
       "</div>"
      ],
      "text/plain": [
       "   mean_vision  time_above_baseline  peak_visual_improvement  \\\n",
       "0    70.588235                    0                      0.0   \n",
       "1    71.687500                   54                      4.0   \n",
       "2    73.250000                    0                      0.0   \n",
       "3    75.392857                 1940                     20.0   \n",
       "4    75.600000                   50                      4.0   \n",
       "\n",
       "   overall_visual_change  time_to_peak  baseline  visits  id  OVC_outcome  \n",
       "0              -9.333333             0      76.0      34   0            0  \n",
       "1              -5.666667           328      76.0      18   1            0  \n",
       "2             -26.000000             0      85.0      32   2            0  \n",
       "3              15.000000           987      65.0      58   3            1  \n",
       "4              -4.000000           363      76.0      17   4            0  "
      ]
     },
     "execution_count": 72,
     "metadata": {},
     "output_type": "execute_result"
    }
   ],
   "source": [
    "df.head()"
   ]
  },
  {
   "cell_type": "markdown",
   "id": "a1b1245c",
   "metadata": {},
   "source": [
    "Finally, we'll save this amended dataframe so we don't have to run this every time."
   ]
  },
  {
   "cell_type": "code",
   "execution_count": 74,
   "id": "77472e02",
   "metadata": {},
   "outputs": [],
   "source": [
    "df.to_csv('/home/jupyter/charliemacuject/pharma_reports/data/dme_features.csv')"
   ]
  },
  {
   "cell_type": "markdown",
   "id": "bfdc25ef",
   "metadata": {},
   "source": [
    "## Baseline logistic regression"
   ]
  },
  {
   "cell_type": "code",
   "execution_count": 74,
   "id": "39d3d3f9",
   "metadata": {},
   "outputs": [
    {
     "name": "stdout",
     "output_type": "stream",
     "text": [
      "Accuracy: 82.61%\n"
     ]
    }
   ],
   "source": [
    "import matplotlib.pyplot as plt\n",
    "from sklearn import linear_model\n",
    "from scipy.special import expit\n",
    "\n",
    "df = pd.read_csv('/home/jupyter/charliemacuject/pharma_reports/data/dme_features.csv')\n",
    "\n",
    "X = df.drop(columns=['Unnamed: 0', 'overall_visual_change', 'OVC_outcome'])\n",
    "y = df.OVC_outcome\n",
    "\n",
    "X_train,X_test,y_train,y_test=train_test_split(X,y,random_state=2)\n",
    "\n",
    "clf = linear_model.LogisticRegression(C=1e5)\n",
    "clf.fit(X_train, y_train)\n",
    "y_pred = clf.predict(X_test)\n",
    "score = accuracy_score(y_pred, y_test)\n",
    "print(\"Accuracy: {}%\".format(np.round(100*score,2)))"
   ]
  },
  {
   "cell_type": "markdown",
   "id": "b6be5285",
   "metadata": {},
   "source": [
    "## Decision tree classifier"
   ]
  },
  {
   "cell_type": "code",
   "execution_count": 87,
   "id": "5db5afed",
   "metadata": {},
   "outputs": [],
   "source": [
    "!pip install -Uqq fastbook kaggle waterfallcharts treeinterpreter dtreeviz\n",
    "import fastbook\n",
    "fastbook.setup_book()"
   ]
  },
  {
   "cell_type": "code",
   "execution_count": 89,
   "id": "e8cd5438",
   "metadata": {},
   "outputs": [],
   "source": [
    "from sklearn.tree import DecisionTreeClassifier\n",
    "from fastbook import *\n",
    "from pandas.api.types import is_string_dtype, is_numeric_dtype, is_categorical_dtype\n",
    "from fastai.tabular.all import *\n",
    "from dtreeviz.trees import *\n",
    "from IPython.display import Image, display_svg, SVG\n",
    "\n",
    "m = DecisionTreeClassifier(max_leaf_nodes=4)\n",
    "m.fit(X, y);"
   ]
  },
  {
   "cell_type": "code",
   "execution_count": 91,
   "id": "5dae94af",
   "metadata": {},
   "outputs": [
    {
     "data": {
      "image/svg+xml": [
       "<?xml version=\"1.0\" encoding=\"UTF-8\" standalone=\"no\"?>\n",
       "<!DOCTYPE svg PUBLIC \"-//W3C//DTD SVG 1.1//EN\"\n",
       " \"http://www.w3.org/Graphics/SVG/1.1/DTD/svg11.dtd\">\n",
       "<!-- Generated by graphviz version 2.40.1 (20161225.0304)\n",
       " -->\n",
       "<!-- Title: Tree Pages: 1 -->\n",
       "<svg width=\"628pt\" height=\"381pt\"\n",
       " viewBox=\"0.00 0.00 628.00 380.50\" xmlns=\"http://www.w3.org/2000/svg\" xmlns:xlink=\"http://www.w3.org/1999/xlink\">\n",
       "<g id=\"graph0\" class=\"graph\" transform=\"scale(1 1) rotate(0) translate(4 376.5)\">\n",
       "<title>Tree</title>\n",
       "<polygon fill=\"#ffffff\" stroke=\"transparent\" points=\"-4,4 -4,-376.5 624,-376.5 624,4 -4,4\"/>\n",
       "<!-- 0 -->\n",
       "<g id=\"node1\" class=\"node\">\n",
       "<title>0</title>\n",
       "<path fill=\"#fceee4\" stroke=\"#000000\" d=\"M340.4137,-373C340.4137,-373 116.4137,-373 116.4137,-373 110.4137,-373 104.4137,-367 104.4137,-361 104.4137,-361 104.4137,-317 104.4137,-317 104.4137,-311 110.4137,-305 116.4137,-305 116.4137,-305 340.4137,-305 340.4137,-305 346.4137,-305 352.4137,-311 352.4137,-317 352.4137,-317 352.4137,-361 352.4137,-361 352.4137,-367 346.4137,-373 340.4137,-373\"/>\n",
       "<text text-anchor=\"start\" x=\"112.4137\" y=\"-357.8\" font-family=\"Helvetica,sans-Serif\" font-size=\"14.00\" fill=\"#000000\">peak_visual_improvement ≤ 4.5</text>\n",
       "<text text-anchor=\"start\" x=\"193.4137\" y=\"-342.8\" font-family=\"Helvetica,sans-Serif\" font-size=\"14.00\" fill=\"#000000\">gini = 0.5</text>\n",
       "<text text-anchor=\"start\" x=\"173.9137\" y=\"-327.8\" font-family=\"Helvetica,sans-Serif\" font-size=\"14.00\" fill=\"#000000\">samples = 181</text>\n",
       "<text text-anchor=\"start\" x=\"170.4137\" y=\"-312.8\" font-family=\"Helvetica,sans-Serif\" font-size=\"14.00\" fill=\"#000000\">value = [97, 84]</text>\n",
       "</g>\n",
       "<!-- 1 -->\n",
       "<g id=\"node2\" class=\"node\">\n",
       "<title>1</title>\n",
       "<path fill=\"#e78a47\" stroke=\"#000000\" d=\"M117.9137,-52.5C117.9137,-52.5 18.9137,-52.5 18.9137,-52.5 12.9137,-52.5 6.9137,-46.5 6.9137,-40.5 6.9137,-40.5 6.9137,-11.5 6.9137,-11.5 6.9137,-5.5 12.9137,.5 18.9137,.5 18.9137,.5 117.9137,.5 117.9137,.5 123.9137,.5 129.9137,-5.5 129.9137,-11.5 129.9137,-11.5 129.9137,-40.5 129.9137,-40.5 129.9137,-46.5 123.9137,-52.5 117.9137,-52.5\"/>\n",
       "<text text-anchor=\"start\" x=\"28.9137\" y=\"-37.3\" font-family=\"Helvetica,sans-Serif\" font-size=\"14.00\" fill=\"#000000\">gini = 0.12</text>\n",
       "<text text-anchor=\"start\" x=\"18.4137\" y=\"-22.3\" font-family=\"Helvetica,sans-Serif\" font-size=\"14.00\" fill=\"#000000\">samples = 60</text>\n",
       "<text text-anchor=\"start\" x=\"14.9137\" y=\"-7.3\" font-family=\"Helvetica,sans-Serif\" font-size=\"14.00\" fill=\"#000000\">value = [56, 4]</text>\n",
       "</g>\n",
       "<!-- 0&#45;&gt;1 -->\n",
       "<g id=\"edge1\" class=\"edge\">\n",
       "<title>0&#45;&gt;1</title>\n",
       "<path fill=\"none\" stroke=\"#000000\" d=\"M203.9996,-304.8202C191.3073,-287.0511 178.4137,-269 178.4137,-269 178.4137,-269 115.5782,-130.1908 84.8892,-62.396\"/>\n",
       "<polygon fill=\"#000000\" stroke=\"#000000\" points=\"87.9184,-60.6004 80.6059,-52.9337 81.5413,-63.4872 87.9184,-60.6004\"/>\n",
       "<text text-anchor=\"middle\" x=\"71.7915\" y=\"-72.6283\" font-family=\"Helvetica,sans-Serif\" font-size=\"14.00\" fill=\"#000000\">True</text>\n",
       "</g>\n",
       "<!-- 2 -->\n",
       "<g id=\"node3\" class=\"node\">\n",
       "<title>2</title>\n",
       "<path fill=\"#9ecff2\" stroke=\"#000000\" d=\"M432.9137,-269C432.9137,-269 199.9137,-269 199.9137,-269 193.9137,-269 187.9137,-263 187.9137,-257 187.9137,-257 187.9137,-213 187.9137,-213 187.9137,-207 193.9137,-201 199.9137,-201 199.9137,-201 432.9137,-201 432.9137,-201 438.9137,-201 444.9137,-207 444.9137,-213 444.9137,-213 444.9137,-257 444.9137,-257 444.9137,-263 438.9137,-269 432.9137,-269\"/>\n",
       "<text text-anchor=\"start\" x=\"195.9137\" y=\"-253.8\" font-family=\"Helvetica,sans-Serif\" font-size=\"14.00\" fill=\"#000000\">peak_visual_improvement ≤ 18.5</text>\n",
       "<text text-anchor=\"start\" x=\"276.9137\" y=\"-238.8\" font-family=\"Helvetica,sans-Serif\" font-size=\"14.00\" fill=\"#000000\">gini = 0.45</text>\n",
       "<text text-anchor=\"start\" x=\"261.9137\" y=\"-223.8\" font-family=\"Helvetica,sans-Serif\" font-size=\"14.00\" fill=\"#000000\">samples = 121</text>\n",
       "<text text-anchor=\"start\" x=\"258.4137\" y=\"-208.8\" font-family=\"Helvetica,sans-Serif\" font-size=\"14.00\" fill=\"#000000\">value = [41, 80]</text>\n",
       "</g>\n",
       "<!-- 0&#45;&gt;2 -->\n",
       "<g id=\"edge2\" class=\"edge\">\n",
       "<title>0&#45;&gt;2</title>\n",
       "<path fill=\"none\" stroke=\"#000000\" d=\"M257.2282,-304.9465C264.8254,-295.968 273.1111,-286.1758 281.0119,-276.8385\"/>\n",
       "<polygon fill=\"#000000\" stroke=\"#000000\" points=\"283.7468,-279.0247 287.5344,-269.13 278.4031,-274.5031 283.7468,-279.0247\"/>\n",
       "<text text-anchor=\"middle\" x=\"289.6106\" y=\"-290.3436\" font-family=\"Helvetica,sans-Serif\" font-size=\"14.00\" fill=\"#000000\">False</text>\n",
       "</g>\n",
       "<!-- 3 -->\n",
       "<g id=\"node4\" class=\"node\">\n",
       "<title>3</title>\n",
       "<path fill=\"#d1e8f9\" stroke=\"#000000\" d=\"M388.4137,-165C388.4137,-165 244.4137,-165 244.4137,-165 238.4137,-165 232.4137,-159 232.4137,-153 232.4137,-153 232.4137,-109 232.4137,-109 232.4137,-103 238.4137,-97 244.4137,-97 244.4137,-97 388.4137,-97 388.4137,-97 394.4137,-97 400.4137,-103 400.4137,-109 400.4137,-109 400.4137,-153 400.4137,-153 400.4137,-159 394.4137,-165 388.4137,-165\"/>\n",
       "<text text-anchor=\"start\" x=\"240.4137\" y=\"-149.8\" font-family=\"Helvetica,sans-Serif\" font-size=\"14.00\" fill=\"#000000\">mean_vision ≤ 66.87</text>\n",
       "<text text-anchor=\"start\" x=\"276.9137\" y=\"-134.8\" font-family=\"Helvetica,sans-Serif\" font-size=\"14.00\" fill=\"#000000\">gini = 0.49</text>\n",
       "<text text-anchor=\"start\" x=\"266.4137\" y=\"-119.8\" font-family=\"Helvetica,sans-Serif\" font-size=\"14.00\" fill=\"#000000\">samples = 92</text>\n",
       "<text text-anchor=\"start\" x=\"258.4137\" y=\"-104.8\" font-family=\"Helvetica,sans-Serif\" font-size=\"14.00\" fill=\"#000000\">value = [40, 52]</text>\n",
       "</g>\n",
       "<!-- 2&#45;&gt;3 -->\n",
       "<g id=\"edge3\" class=\"edge\">\n",
       "<title>2&#45;&gt;3</title>\n",
       "<path fill=\"none\" stroke=\"#000000\" d=\"M316.4137,-200.9465C316.4137,-192.776 316.4137,-183.9318 316.4137,-175.3697\"/>\n",
       "<polygon fill=\"#000000\" stroke=\"#000000\" points=\"319.9138,-175.13 316.4137,-165.13 312.9138,-175.13 319.9138,-175.13\"/>\n",
       "</g>\n",
       "<!-- 4 -->\n",
       "<g id=\"node7\" class=\"node\">\n",
       "<title>4</title>\n",
       "<path fill=\"#40a0e6\" stroke=\"#000000\" d=\"M600.9137,-52.5C600.9137,-52.5 501.9137,-52.5 501.9137,-52.5 495.9137,-52.5 489.9137,-46.5 489.9137,-40.5 489.9137,-40.5 489.9137,-11.5 489.9137,-11.5 489.9137,-5.5 495.9137,.5 501.9137,.5 501.9137,.5 600.9137,.5 600.9137,.5 606.9137,.5 612.9137,-5.5 612.9137,-11.5 612.9137,-11.5 612.9137,-40.5 612.9137,-40.5 612.9137,-46.5 606.9137,-52.5 600.9137,-52.5\"/>\n",
       "<text text-anchor=\"start\" x=\"511.9137\" y=\"-37.3\" font-family=\"Helvetica,sans-Serif\" font-size=\"14.00\" fill=\"#000000\">gini = 0.07</text>\n",
       "<text text-anchor=\"start\" x=\"501.4137\" y=\"-22.3\" font-family=\"Helvetica,sans-Serif\" font-size=\"14.00\" fill=\"#000000\">samples = 29</text>\n",
       "<text text-anchor=\"start\" x=\"497.9137\" y=\"-7.3\" font-family=\"Helvetica,sans-Serif\" font-size=\"14.00\" fill=\"#000000\">value = [1, 28]</text>\n",
       "</g>\n",
       "<!-- 2&#45;&gt;4 -->\n",
       "<g id=\"edge6\" class=\"edge\">\n",
       "<title>2&#45;&gt;4</title>\n",
       "<path fill=\"none\" stroke=\"#000000\" d=\"M361.8239,-200.8202C385.4314,-183.0511 409.4137,-165 409.4137,-165 409.4137,-165 474.6964,-101.0965 516.7333,-59.9477\"/>\n",
       "<polygon fill=\"#000000\" stroke=\"#000000\" points=\"519.3368,-62.297 524.0346,-52.8006 514.4401,-57.2946 519.3368,-62.297\"/>\n",
       "</g>\n",
       "<!-- 5 -->\n",
       "<g id=\"node5\" class=\"node\">\n",
       "<title>5</title>\n",
       "<path fill=\"#eead7f\" stroke=\"#000000\" d=\"M274.9137,-52.5C274.9137,-52.5 175.9137,-52.5 175.9137,-52.5 169.9137,-52.5 163.9137,-46.5 163.9137,-40.5 163.9137,-40.5 163.9137,-11.5 163.9137,-11.5 163.9137,-5.5 169.9137,.5 175.9137,.5 175.9137,.5 274.9137,.5 274.9137,.5 280.9137,.5 286.9137,-5.5 286.9137,-11.5 286.9137,-11.5 286.9137,-40.5 286.9137,-40.5 286.9137,-46.5 280.9137,-52.5 274.9137,-52.5\"/>\n",
       "<text text-anchor=\"start\" x=\"185.9137\" y=\"-37.3\" font-family=\"Helvetica,sans-Serif\" font-size=\"14.00\" fill=\"#000000\">gini = 0.39</text>\n",
       "<text text-anchor=\"start\" x=\"175.4137\" y=\"-22.3\" font-family=\"Helvetica,sans-Serif\" font-size=\"14.00\" fill=\"#000000\">samples = 23</text>\n",
       "<text text-anchor=\"start\" x=\"171.9137\" y=\"-7.3\" font-family=\"Helvetica,sans-Serif\" font-size=\"14.00\" fill=\"#000000\">value = [17, 6]</text>\n",
       "</g>\n",
       "<!-- 3&#45;&gt;5 -->\n",
       "<g id=\"edge4\" class=\"edge\">\n",
       "<title>3&#45;&gt;5</title>\n",
       "<path fill=\"none\" stroke=\"#000000\" d=\"M286.8686,-96.9095C276.7486,-85.2326 265.4229,-72.1645 255.2779,-60.4587\"/>\n",
       "<polygon fill=\"#000000\" stroke=\"#000000\" points=\"257.6666,-57.8709 248.4724,-52.6062 252.3768,-62.4554 257.6666,-57.8709\"/>\n",
       "</g>\n",
       "<!-- 6 -->\n",
       "<g id=\"node6\" class=\"node\">\n",
       "<title>6</title>\n",
       "<path fill=\"#9ccef2\" stroke=\"#000000\" d=\"M442.4137,-52.5C442.4137,-52.5 334.4137,-52.5 334.4137,-52.5 328.4137,-52.5 322.4137,-46.5 322.4137,-40.5 322.4137,-40.5 322.4137,-11.5 322.4137,-11.5 322.4137,-5.5 328.4137,.5 334.4137,.5 334.4137,.5 442.4137,.5 442.4137,.5 448.4137,.5 454.4137,-5.5 454.4137,-11.5 454.4137,-11.5 454.4137,-40.5 454.4137,-40.5 454.4137,-46.5 448.4137,-52.5 442.4137,-52.5\"/>\n",
       "<text text-anchor=\"start\" x=\"348.9137\" y=\"-37.3\" font-family=\"Helvetica,sans-Serif\" font-size=\"14.00\" fill=\"#000000\">gini = 0.44</text>\n",
       "<text text-anchor=\"start\" x=\"338.4137\" y=\"-22.3\" font-family=\"Helvetica,sans-Serif\" font-size=\"14.00\" fill=\"#000000\">samples = 69</text>\n",
       "<text text-anchor=\"start\" x=\"330.4137\" y=\"-7.3\" font-family=\"Helvetica,sans-Serif\" font-size=\"14.00\" fill=\"#000000\">value = [23, 46]</text>\n",
       "</g>\n",
       "<!-- 3&#45;&gt;6 -->\n",
       "<g id=\"edge5\" class=\"edge\">\n",
       "<title>3&#45;&gt;6</title>\n",
       "<path fill=\"none\" stroke=\"#000000\" d=\"M339.79,-96.9095C347.643,-85.4572 356.4137,-72.6666 364.3207,-61.1356\"/>\n",
       "<polygon fill=\"#000000\" stroke=\"#000000\" points=\"367.4006,-62.8329 370.1694,-52.6062 361.6275,-58.8741 367.4006,-62.8329\"/>\n",
       "</g>\n",
       "</g>\n",
       "</svg>\n"
      ],
      "text/plain": [
       "<graphviz.files.Source at 0x7f914d08af10>"
      ]
     },
     "execution_count": 91,
     "metadata": {},
     "output_type": "execute_result"
    }
   ],
   "source": [
    "draw_tree(m, X, size=10, leaves_parallel=True, precision=2)"
   ]
  },
  {
   "cell_type": "markdown",
   "id": "7b7f4ada",
   "metadata": {},
   "source": [
    "## Baseline XGBoost"
   ]
  },
  {
   "cell_type": "markdown",
   "id": "3603fa87",
   "metadata": {},
   "source": [
    "We now need to save our features (`X`) and targets (`y`) by extracting them from the dataframe. Note that we need to drop `overall_visual_change` from the features as well as `OVC_outcome`, as we are classifying OVC rather than regressing it."
   ]
  },
  {
   "cell_type": "code",
   "execution_count": 75,
   "id": "c4a18b1c",
   "metadata": {},
   "outputs": [],
   "source": [
    "X = df.drop(columns=['overall_visual_change', 'OVC_outcome'])\n",
    "y = df.OVC_outcome"
   ]
  },
  {
   "cell_type": "markdown",
   "id": "b2882fad",
   "metadata": {},
   "source": [
    "Use scikit-learn to get our train-test split."
   ]
  },
  {
   "cell_type": "code",
   "execution_count": 77,
   "id": "4c35b980",
   "metadata": {},
   "outputs": [
    {
     "data": {
      "text/plain": [
       "(135, 46)"
      ]
     },
     "execution_count": 77,
     "metadata": {},
     "output_type": "execute_result"
    }
   ],
   "source": [
    "X_train, X_test, y_train, y_test = train_test_split(X, y, random_state=1)\n",
    "len(X_train), len(X_test)"
   ]
  },
  {
   "cell_type": "markdown",
   "id": "821fa806",
   "metadata": {},
   "source": [
    "We now create the XGBoost model using `XGBClassifier`. We don't actually need to specify the objective here, but it's good for clarity. If we had more than two classes, we would instead use `multi:softmax`, but we'll just use a regular logistic function here."
   ]
  },
  {
   "cell_type": "code",
   "execution_count": 41,
   "id": "9b292011",
   "metadata": {},
   "outputs": [],
   "source": [
    "xgb = XGBClassifier(booster='gbtree', objective='binary:logistic', max_depth=6,\n",
    "                   learning_rate=0.1, n_estimators=100, random_state=2, n_jobs=-1)"
   ]
  },
  {
   "cell_type": "markdown",
   "id": "c285aab4",
   "metadata": {},
   "source": [
    "Call `fit` on the model to train it."
   ]
  },
  {
   "cell_type": "code",
   "execution_count": 42,
   "id": "e8b034bf",
   "metadata": {},
   "outputs": [
    {
     "name": "stdout",
     "output_type": "stream",
     "text": [
      "[00:21:24] WARNING: ../src/learner.cc:1095: Starting in XGBoost 1.3.0, the default evaluation metric used with the objective 'binary:logistic' was changed from 'error' to 'logloss'. Explicitly set eval_metric if you'd like to restore the old behavior.\n"
     ]
    },
    {
     "data": {
      "text/plain": [
       "XGBClassifier(base_score=0.5, booster='gbtree', colsample_bylevel=1,\n",
       "              colsample_bynode=1, colsample_bytree=1, gamma=0, gpu_id=-1,\n",
       "              importance_type='gain', interaction_constraints='',\n",
       "              learning_rate=0.1, max_delta_step=0, max_depth=6,\n",
       "              min_child_weight=1, missing=nan, monotone_constraints='()',\n",
       "              n_estimators=100, n_jobs=-1, num_parallel_tree=1, random_state=2,\n",
       "              reg_alpha=0, reg_lambda=1, scale_pos_weight=1, subsample=1,\n",
       "              tree_method='exact', validate_parameters=1, verbosity=None)"
      ]
     },
     "execution_count": 42,
     "metadata": {},
     "output_type": "execute_result"
    }
   ],
   "source": [
    "xgb.fit(X_train, y_train)"
   ]
  },
  {
   "cell_type": "markdown",
   "id": "af9bf2a6",
   "metadata": {},
   "source": [
    "Get the predictions and store them. Let's see how accurate we are."
   ]
  },
  {
   "cell_type": "code",
   "execution_count": 45,
   "id": "23990508",
   "metadata": {},
   "outputs": [
    {
     "name": "stdout",
     "output_type": "stream",
     "text": [
      "Accuracy: 76.09%\n"
     ]
    }
   ],
   "source": [
    "y_pred = xgb.predict(X_test)\n",
    "score = accuracy_score(y_pred, y_test)\n",
    "print(\"Accuracy: {}%\".format(np.round(100*score,2)))"
   ]
  },
  {
   "cell_type": "markdown",
   "id": "2b2ff2c3",
   "metadata": {},
   "source": [
    "We achieve 76% accuracy with no hyperparameter tuning and minimal feature engineering."
   ]
  },
  {
   "cell_type": "markdown",
   "id": "fed57f40",
   "metadata": {},
   "source": [
    "## Hyperparameter tuning"
   ]
  },
  {
   "cell_type": "markdown",
   "id": "10f292ce",
   "metadata": {},
   "source": [
    "Using a baseline score of 76%, we will see if we can improve upon the classifier using hyperparameter tuning. However, we'll use cross validation accuracy this time to allow us to perform grid searches and random searches."
   ]
  },
  {
   "cell_type": "code",
   "execution_count": 48,
   "id": "162ea02a",
   "metadata": {},
   "outputs": [
    {
     "name": "stdout",
     "output_type": "stream",
     "text": [
      "Accuracy:  [0.78 0.78 0.78 0.75 0.83]\n",
      "Accuracy mean: 0.78\n"
     ]
    }
   ],
   "source": [
    "X = df.drop(columns=['overall_visual_change', 'OVC_outcome'])\n",
    "y = df.OVC_outcome\n",
    "X_train, X_test, y_train, y_test = train_test_split(X, y, random_state=1)\n",
    "xgb = XGBClassifier(booster='gbtree', objective='binary:logistic', random_state=2,\n",
    "                   verbosity=0)\n",
    "\n",
    "from sklearn.model_selection import cross_val_score\n",
    "scores = cross_val_score(xgb, X, y, cv=5)\n",
    "print(\"Accuracy: \", np.round(scores, 2))\n",
    "print('Accuracy mean: %0.2f' % (scores.mean()))"
   ]
  },
  {
   "cell_type": "markdown",
   "id": "fe752a2b",
   "metadata": {},
   "source": [
    "When fine-tuning hyperparameters, `GridSearchCV` and `RandomizedSearchCV` are the main options. However, we need to ensure that cross-validation and the searches split the data the same way. Thus, we use stratified k-fold, which includes the same percentage of target values in each fold. "
   ]
  },
  {
   "cell_type": "code",
   "execution_count": 49,
   "id": "fd529192",
   "metadata": {},
   "outputs": [],
   "source": [
    "from sklearn.model_selection import StratifiedKFold\n",
    "kfold = StratifiedKFold(n_splits=5, shuffle=True, random_state=2)"
   ]
  },
  {
   "cell_type": "markdown",
   "id": "a557a028",
   "metadata": {},
   "source": [
    "The `kfold` variable can now be used inside `cross_val_score` and the search functions to ensure consistent results. We'll now redo our baseline using `kfold` so we can appropriately compare."
   ]
  },
  {
   "cell_type": "code",
   "execution_count": 50,
   "id": "c39c26cc",
   "metadata": {},
   "outputs": [
    {
     "name": "stdout",
     "output_type": "stream",
     "text": [
      "Accuracy: [0.81 0.75 0.92 0.72 0.75]\n",
      "Accuracy mean: 0.79\n"
     ]
    }
   ],
   "source": [
    "scores = cross_val_score(xgb, X, y, cv=kfold)\n",
    "print('Accuracy:', np.round(scores, 2))\n",
    "print('Accuracy mean: %0.2f' % (scores.mean()))"
   ]
  },
  {
   "cell_type": "markdown",
   "id": "df06b08f",
   "metadata": {},
   "source": [
    "`GridSearchCV` searches all possible combinations in a hyperparameter grid to find the best results. `RandomizedSearchCV` selects 10 random hyperparameter combinations to search, which makes it computationally less expensive than grid search.\n",
    "\n",
    "We'll write a function that can swap between applying grid search and random search."
   ]
  },
  {
   "cell_type": "code",
   "execution_count": 60,
   "id": "353e229d",
   "metadata": {},
   "outputs": [],
   "source": [
    "from sklearn.model_selection import GridSearchCV, RandomizedSearchCV\n",
    "\n",
    "def grid_search(params, random=False):\n",
    "    xgb = XGBClassifier(booster='gbtree', objective='binary:logistic',\n",
    "                       random_state=2, verbosity=0)\n",
    "    if random:\n",
    "        grid = RandomizedSearchCV(xgb, params, cv=kfold, n_iter=20, n_jobs=-1)\n",
    "    else:\n",
    "        grid = GridSearchCV(xgb, params, cv=kfold, n_jobs=-1)\n",
    "    grid.fit(X,y)\n",
    "    best_params = grid.best_params_\n",
    "    print(\"Best params: \", best_params)\n",
    "    best_score = grid.best_score_\n",
    "    print(\"Training score: {:.3f}\".format(best_score))"
   ]
  },
  {
   "cell_type": "markdown",
   "id": "35ab626f",
   "metadata": {},
   "source": [
    "There are many, many hyperparameters we could tune (see the XGBoost documentation [here](https://xgboost.readthedocs.io/en/latest/parameter.html)). We'll choose the key ones."
   ]
  },
  {
   "cell_type": "code",
   "execution_count": 57,
   "id": "a9ee0c5c",
   "metadata": {},
   "outputs": [
    {
     "name": "stdout",
     "output_type": "stream",
     "text": [
      "Best params:  {'n_estimators': 200}\n",
      "Training score: 0.801\n"
     ]
    }
   ],
   "source": [
    "grid_search(params={'n_estimators':[100, 200, 400, 800]})"
   ]
  },
  {
   "cell_type": "code",
   "execution_count": 64,
   "id": "fb611d49",
   "metadata": {},
   "outputs": [
    {
     "name": "stdout",
     "output_type": "stream",
     "text": [
      "Best params:  {'learning_rate': 0.05}\n",
      "Training score: 0.801\n"
     ]
    }
   ],
   "source": [
    "grid_search(params={'learning_rate':[0.01, 0.05, 0.1, 0.2, 0.3, 0.4, 0.5]})"
   ]
  },
  {
   "cell_type": "code",
   "execution_count": null,
   "id": "f248c4fa",
   "metadata": {},
   "outputs": [],
   "source": [
    "grid_search(params={'max_depth':[2, 3, 5, 6, 8]})"
   ]
  },
  {
   "cell_type": "code",
   "execution_count": null,
   "id": "7ba099d0",
   "metadata": {},
   "outputs": [],
   "source": [
    "grid_search(params={'gamma':[0, 0.1, 0.5, 1, 2, 5]})"
   ]
  },
  {
   "cell_type": "code",
   "execution_count": null,
   "id": "626241b3",
   "metadata": {},
   "outputs": [],
   "source": [
    "grid_search(params={'min_child_weight':[1, 2, 3, 4, 5]})"
   ]
  },
  {
   "cell_type": "code",
   "execution_count": null,
   "id": "ec90c540",
   "metadata": {},
   "outputs": [],
   "source": [
    "grid_search(params={'subsample':[0.5, 0.7, 0.8, 0.9, 1]})"
   ]
  },
  {
   "cell_type": "code",
   "execution_count": null,
   "id": "d962b04b",
   "metadata": {},
   "outputs": [],
   "source": [
    "grid_search(params={'colsample_bytree':[0.5, 0.7, 0.8, 0.9, 1]})"
   ]
  },
  {
   "cell_type": "markdown",
   "id": "1167f13d",
   "metadata": {},
   "source": [
    "### Early stopping\n",
    "Early stopping allows us to choose the number of training rounds without predefining it. Instead, we continue to train until no further gains are produced. A score is determined after each boosting round, and a peak score is achieved when all subsequent scores fail to produce any gains. We choose the number of rounds after peak to examine. "
   ]
  },
  {
   "cell_type": "code",
   "execution_count": 65,
   "id": "4345984a",
   "metadata": {},
   "outputs": [
    {
     "name": "stdout",
     "output_type": "stream",
     "text": [
      "[0]\tvalidation_0-error:0.21739\n",
      "[1]\tvalidation_0-error:0.17391\n",
      "[2]\tvalidation_0-error:0.19565\n",
      "[3]\tvalidation_0-error:0.23913\n",
      "[4]\tvalidation_0-error:0.26087\n",
      "[5]\tvalidation_0-error:0.26087\n",
      "[6]\tvalidation_0-error:0.26087\n",
      "[7]\tvalidation_0-error:0.26087\n",
      "[8]\tvalidation_0-error:0.23913\n",
      "[9]\tvalidation_0-error:0.23913\n",
      "[10]\tvalidation_0-error:0.26087\n",
      "Accuracy: 82.61%\n"
     ]
    }
   ],
   "source": [
    "model = XGBClassifier(booster='gbtree', objective='binary:logistic', random_state=2)\n",
    "eval_set = [(X_test, y_test)]\n",
    "eval_metric='error'\n",
    "model.fit(X_train, y_train, eval_metric=\"error\", eval_set=eval_set, early_stopping_rounds=10, \n",
    "          verbose=True)\n",
    "y_pred = model.predict(X_test)\n",
    "accuracy = accuracy_score(y_test, y_pred)\n",
    "print(\"Accuracy: %.2f%%\" % (accuracy * 100.0))"
   ]
  },
  {
   "cell_type": "markdown",
   "id": "1f4fa4ce",
   "metadata": {},
   "source": [
    "Early stopping reveals that `n_estimators = 2` gives the best result. We try again, but using a maximum of 5000 trees and 100 consecutive rounds of non-improvement."
   ]
  },
  {
   "cell_type": "code",
   "execution_count": 67,
   "id": "1c01a993",
   "metadata": {},
   "outputs": [
    {
     "name": "stdout",
     "output_type": "stream",
     "text": [
      "Accuracy: 82.61%\n"
     ]
    }
   ],
   "source": [
    "model = XGBClassifier(random_state=2, n_estimators=5000)\n",
    "eval_set = [(X_test, y_test)]\n",
    "eval_metric=\"error\"\n",
    "model.fit(X_train, y_train, eval_metric=eval_metric, eval_set=eval_set, \n",
    "          early_stopping_rounds=100, verbose=False)\n",
    "y_pred = model.predict(X_test)\n",
    "accuracy = accuracy_score(y_test, y_pred)\n",
    "print(\"Accuracy: %.2f%%\" % (accuracy * 100.0))"
   ]
  },
  {
   "cell_type": "markdown",
   "id": "34f51b26",
   "metadata": {},
   "source": [
    "## Random forest"
   ]
  },
  {
   "cell_type": "markdown",
   "id": "79e93905",
   "metadata": {},
   "source": [
    "Instead of using a normal decision tree, we can bag predictors using the following procedure:\n",
    "1. Randomly choose a subset of features (\"bootstap replicates of learning set\").\n",
    "2. Train a model using this subset.\n",
    "3. Save that model, and repeat step 1.\n",
    "4. Using these various trained models, make a prediction, and take the average.\n",
    "\n",
    "This procedure is known as _bagging_. The intuition behind it is this: although each of the models trained on a subset of data will make more errors than a model trained on the full dataset, those errors will not be correlated with each other. The average of errors is thus zero."
   ]
  },
  {
   "cell_type": "code",
   "execution_count": 94,
   "id": "16779118",
   "metadata": {},
   "outputs": [
    {
     "data": {
      "text/plain": [
       "Index(['Unnamed: 0', 'mean_vision', 'time_above_baseline',\n",
       "       'peak_visual_improvement', 'overall_visual_change', 'time_to_peak',\n",
       "       'baseline', 'visits', 'id', 'OVC_outcome'],\n",
       "      dtype='object')"
      ]
     },
     "execution_count": 94,
     "metadata": {},
     "output_type": "execute_result"
    }
   ],
   "source": [
    "from sklearn.ensemble import RandomForestClassifier\n",
    "df = pd.read_csv('/home/jupyter/charliemacuject/pharma_reports/data/dme_features.csv')\n",
    "df.columns"
   ]
  },
  {
   "cell_type": "markdown",
   "id": "42320c7d",
   "metadata": {},
   "source": [
    "Set the dependent variable."
   ]
  },
  {
   "cell_type": "code",
   "execution_count": 95,
   "id": "2c2e21fc",
   "metadata": {},
   "outputs": [],
   "source": [
    "X = df.drop(columns=['Unnamed: 0', 'OVC_outcome', 'overall_visual_change'])\n",
    "y = df.OVC_outcome"
   ]
  },
  {
   "cell_type": "markdown",
   "id": "24ece91f",
   "metadata": {},
   "source": [
    "We create a random forest by specifying parameters that indicate how many trees should be in the forest, how we should subset the data items (the rows) and how we should subset the fields (the columns)."
   ]
  },
  {
   "cell_type": "code",
   "execution_count": 96,
   "id": "cf00ef76",
   "metadata": {},
   "outputs": [],
   "source": [
    "def rf(xs, y, n_estimators=40, max_samples=135,\n",
    "      max_features=0.5, min_samples_leaf=5, **kwargs):\n",
    "    return RandomForestClassifier(n_jobs=-1, n_estimators=n_estimators,\n",
    "                                max_samples=max_samples, max_features=max_features,\n",
    "                                min_samples_leaf=min_samples_leaf, oob_score=True).fit(xs,y)"
   ]
  },
  {
   "cell_type": "code",
   "execution_count": 97,
   "id": "77102f30",
   "metadata": {},
   "outputs": [],
   "source": [
    "X_train, X_test, y_train, y_test = train_test_split(X, y, random_state=2)"
   ]
  },
  {
   "cell_type": "code",
   "execution_count": 98,
   "id": "0db59805",
   "metadata": {},
   "outputs": [],
   "source": [
    "def accuracy_print(m, X_train, y_train, X_test, y_test): \n",
    "    train_score = accuracy_score(m.predict(X_train), y_train)\n",
    "    test_score = accuracy_score(m.predict(X_test), y_test)\n",
    "    return train_score, test_score"
   ]
  },
  {
   "cell_type": "code",
   "execution_count": 99,
   "id": "fe07166f",
   "metadata": {},
   "outputs": [
    {
     "data": {
      "text/plain": [
       "(0.9037037037037037, 0.8478260869565217)"
      ]
     },
     "execution_count": 99,
     "metadata": {},
     "output_type": "execute_result"
    }
   ],
   "source": [
    "m = rf(X_train, y_train);\n",
    "accuracy_print(m, X_train, y_train, X_test, y_test)"
   ]
  },
  {
   "cell_type": "markdown",
   "id": "c3297b53",
   "metadata": {},
   "source": [
    "We want to be able to see how this model is making its predictions using _feature importance_. We can grab this using an sklearn built in attribute."
   ]
  },
  {
   "cell_type": "code",
   "execution_count": 100,
   "id": "55af7a25",
   "metadata": {},
   "outputs": [],
   "source": [
    "def rf_feat_importance(m, df):\n",
    "    return pd.DataFrame({'cols':df.columns, 'imp':m.feature_importances_}\n",
    "                       ).sort_values('imp', ascending=False)"
   ]
  },
  {
   "cell_type": "code",
   "execution_count": 101,
   "id": "b88fcedc",
   "metadata": {},
   "outputs": [
    {
     "data": {
      "text/html": [
       "<div>\n",
       "<style scoped>\n",
       "    .dataframe tbody tr th:only-of-type {\n",
       "        vertical-align: middle;\n",
       "    }\n",
       "\n",
       "    .dataframe tbody tr th {\n",
       "        vertical-align: top;\n",
       "    }\n",
       "\n",
       "    .dataframe thead th {\n",
       "        text-align: right;\n",
       "    }\n",
       "</style>\n",
       "<table border=\"1\" class=\"dataframe\">\n",
       "  <thead>\n",
       "    <tr style=\"text-align: right;\">\n",
       "      <th></th>\n",
       "      <th>cols</th>\n",
       "      <th>imp</th>\n",
       "    </tr>\n",
       "  </thead>\n",
       "  <tbody>\n",
       "    <tr>\n",
       "      <th>2</th>\n",
       "      <td>peak_visual_improvement</td>\n",
       "      <td>0.292336</td>\n",
       "    </tr>\n",
       "    <tr>\n",
       "      <th>1</th>\n",
       "      <td>time_above_baseline</td>\n",
       "      <td>0.251016</td>\n",
       "    </tr>\n",
       "    <tr>\n",
       "      <th>3</th>\n",
       "      <td>time_to_peak</td>\n",
       "      <td>0.126540</td>\n",
       "    </tr>\n",
       "    <tr>\n",
       "      <th>0</th>\n",
       "      <td>mean_vision</td>\n",
       "      <td>0.110089</td>\n",
       "    </tr>\n",
       "    <tr>\n",
       "      <th>4</th>\n",
       "      <td>baseline</td>\n",
       "      <td>0.093376</td>\n",
       "    </tr>\n",
       "    <tr>\n",
       "      <th>5</th>\n",
       "      <td>visits</td>\n",
       "      <td>0.083052</td>\n",
       "    </tr>\n",
       "    <tr>\n",
       "      <th>6</th>\n",
       "      <td>id</td>\n",
       "      <td>0.043590</td>\n",
       "    </tr>\n",
       "  </tbody>\n",
       "</table>\n",
       "</div>"
      ],
      "text/plain": [
       "                      cols       imp\n",
       "2  peak_visual_improvement  0.292336\n",
       "1      time_above_baseline  0.251016\n",
       "3             time_to_peak  0.126540\n",
       "0              mean_vision  0.110089\n",
       "4                 baseline  0.093376\n",
       "5                   visits  0.083052\n",
       "6                       id  0.043590"
      ]
     },
     "execution_count": 101,
     "metadata": {},
     "output_type": "execute_result"
    }
   ],
   "source": [
    "fi = rf_feat_importance(m, X_train)\n",
    "fi[:10]"
   ]
  },
  {
   "cell_type": "code",
   "execution_count": 102,
   "id": "fcf12635",
   "metadata": {},
   "outputs": [
    {
     "data": {
      "image/png": "[encoded data removed]",
      "text/plain": [
       "<Figure size 864x504 with 1 Axes>"
      ]
     },
     "metadata": {
      "needs_background": "light"
     },
     "output_type": "display_data"
    }
   ],
   "source": [
    "def plot_fi(fi):\n",
    "    return fi.plot('cols', 'imp', 'barh', figsize=(12,7), legend=False)\n",
    "\n",
    "plot_fi(fi[:6]);"
   ]
  },
  {
   "cell_type": "markdown",
   "id": "7a4a120c",
   "metadata": {},
   "source": [
    "We'd like to understand the relationship between predictors and OVC. It's a good idea to first check the distribution of important predictors:"
   ]
  },
  {
   "cell_type": "code",
   "execution_count": 10,
   "id": "bab16962",
   "metadata": {},
   "outputs": [
    {
     "data": {
      "image/png": "[encoded data removed]",
      "text/plain": [
       "<Figure size 432x288 with 1 Axes>"
      ]
     },
     "metadata": {
      "needs_background": "light"
     },
     "output_type": "display_data"
    }
   ],
   "source": [
    "ax = X_train.peak_visual_improvement.hist()"
   ]
  },
  {
   "cell_type": "markdown",
   "id": "20e67b64",
   "metadata": {},
   "source": [
    "We now examine _partial dependence plots_. The question we are asking is: if a row varied on nothing other than the feature in question, how would it impact the dependent variable? In other words, how does `peak_visual_improvement` impact sales price, all other things being equal?\n",
    "\n",
    "We can't just take an average to answer this question. This is because other things vary from patient to patient, not just their PVIs. This approach would instead capture the effect of how every other field changed along with PVI and how that overall change affected OVC.\n",
    "\n",
    "Instead, what we do is replace every single value in the PVI column with 0, and then calculate the predicted OVC, and then average. Then we do the same for PVI = 1.0, 2.0 and so on. This isolates the effect of only PVI.\n",
    "\n",
    "With these averages, we can then plot each of these years on the x-axis, and each of the predictions on the y-axis. This is a partial dependence plot."
   ]
  },
  {
   "cell_type": "code",
   "execution_count": 53,
   "id": "d9ba5c1c",
   "metadata": {},
   "outputs": [],
   "source": [
    "from sklearn.inspection import plot_partial_dependence\n",
    "\n",
    "#fig, ax = plt.subplots(figsize=(12,4))\n",
    "#plot_partial_dependence(m, df, ['peak_visual_improvement', 'overall_visual_change'],\n",
    "                       #grid_resolution=20, ax=ax);"
   ]
  },
  {
   "cell_type": "markdown",
   "id": "77a2f238",
   "metadata": {},
   "source": [
    "## Tree interpreter"
   ]
  },
  {
   "cell_type": "markdown",
   "id": "cf0d18d5",
   "metadata": {},
   "source": [
    "It would be nice to know exactly _how_ predictions were generated given any individual patient. What were the most important factors, and can we quantify how these factors influenced prediction?\n",
    "\n",
    "Above, we calculated feature importances across the entire random forest. Here, we do the same thing for a single row of data, representing a single patient."
   ]
  },
  {
   "cell_type": "code",
   "execution_count": 14,
   "id": "8a41508e",
   "metadata": {},
   "outputs": [],
   "source": [
    "import warnings\n",
    "warnings.simplefilter('ignore', FutureWarning)\n",
    "\n",
    "from treeinterpreter import treeinterpreter\n",
    "from waterfall_chart import plot as waterfall"
   ]
  },
  {
   "cell_type": "markdown",
   "id": "ebb2f40a",
   "metadata": {},
   "source": [
    "Let's pick the first few rows of our validation set."
   ]
  },
  {
   "cell_type": "code",
   "execution_count": 15,
   "id": "310dc3c0",
   "metadata": {},
   "outputs": [],
   "source": [
    "row = X_test.iloc[:5]"
   ]
  },
  {
   "cell_type": "markdown",
   "id": "41ffcd58",
   "metadata": {},
   "source": [
    "We can then pass these to `treeinterpreter`."
   ]
  },
  {
   "cell_type": "code",
   "execution_count": 17,
   "id": "2af3691c",
   "metadata": {},
   "outputs": [],
   "source": [
    "prediction, bias, contributions = treeinterpreter.predict(m, row.values)"
   ]
  },
  {
   "cell_type": "markdown",
   "id": "c22466ea",
   "metadata": {},
   "source": [
    "The clearest way to display the contributions is with a waterfall plot. This shows how the positive and negative contributions from all the independent variables sum to create the final prediction."
   ]
  },
  {
   "cell_type": "code",
   "execution_count": 37,
   "id": "69c00d7a",
   "metadata": {},
   "outputs": [
    {
     "data": {
      "image/png": "[encoded data removed]",
      "text/plain": [
       "<Figure size 432x288 with 1 Axes>"
      ]
     },
     "metadata": {
      "needs_background": "light"
     },
     "output_type": "display_data"
    }
   ],
   "source": [
    "conts = [-0.0196, -0.162, -0.209, -0.043, 0.004, -0.010, -0.005]\n",
    "waterfall(X_test.columns, conts, threshold=0.08, \n",
    "          rotation_value=45,formatting='{:,.3f}');"
   ]
  },
  {
   "cell_type": "markdown",
   "id": "1b3b9edb",
   "metadata": {},
   "source": [
    "## Using a neural network"
   ]
  },
  {
   "cell_type": "code",
   "execution_count": 41,
   "id": "be967243",
   "metadata": {},
   "outputs": [
    {
     "data": {
      "text/plain": [
       "Index(['mean_vision', 'time_above_baseline', 'peak_visual_improvement',\n",
       "       'time_to_peak', 'baseline', 'visits', 'id', 'OVC_outcome'],\n",
       "      dtype='object')"
      ]
     },
     "execution_count": 41,
     "metadata": {},
     "output_type": "execute_result"
    }
   ],
   "source": [
    "df = pd.read_csv('/home/jupyter/charliemacuject/pharma_reports/data/dme_features.csv')\n",
    "df.drop(columns=['Unnamed: 0', 'overall_visual_change'], inplace=True)\n",
    "df.columns"
   ]
  },
  {
   "cell_type": "code",
   "execution_count": 42,
   "id": "b702b5a7",
   "metadata": {},
   "outputs": [],
   "source": [
    "dep_var = 'OVC_outcome'"
   ]
  },
  {
   "cell_type": "code",
   "execution_count": 65,
   "id": "de8025c6",
   "metadata": {},
   "outputs": [],
   "source": [
    "from fastai import *\n",
    "\n",
    "procs_nn = [Normalize]\n",
    "to_nn = TabularPandas(df, procs_nn, y_names=dep_var)"
   ]
  },
  {
   "cell_type": "code",
   "execution_count": 66,
   "id": "49af619a",
   "metadata": {},
   "outputs": [],
   "source": [
    "dls = to_nn.dataloaders(64)"
   ]
  },
  {
   "cell_type": "code",
   "execution_count": 69,
   "id": "a584c8ff",
   "metadata": {},
   "outputs": [],
   "source": [
    "learn = tabular_learner(dls, layers=[500,250])"
   ]
  },
  {
   "cell_type": "code",
   "execution_count": 71,
   "id": "41c2431c",
   "metadata": {},
   "outputs": [],
   "source": [
    "#learn.fit_one_cycle(5, 1e-2)"
   ]
  },
  {
   "cell_type": "code",
   "execution_count": null,
   "id": "9b39da5e",
   "metadata": {},
   "outputs": [],
   "source": []
  }
 ],
 "metadata": {
  "environment": {
   "name": "common-cu110.m74",
   "type": "gcloud",
   "uri": "gcr.io/deeplearning-platform-release/base-cu110:m74"
  },
  "kernelspec": {
   "display_name": "Python 3",
   "language": "python",
   "name": "python3"
  },
  "language_info": {
   "codemirror_mode": {
    "name": "ipython",
    "version": 3
   },
   "file_extension": ".py",
   "mimetype": "text/x-python",
   "name": "python",
   "nbconvert_exporter": "python",
   "pygments_lexer": "ipython3",
   "version": "3.7.10"
  }
 },
 "nbformat": 4,
 "nbformat_minor": 5
}

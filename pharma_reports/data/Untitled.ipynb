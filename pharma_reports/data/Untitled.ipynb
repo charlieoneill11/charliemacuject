{
 "cells": [
  {
   "cell_type": "code",
   "execution_count": 1,
   "id": "025cd255",
   "metadata": {},
   "outputs": [],
   "source": [
    "import pandas as pd\n",
    "import numpy as np\n",
    "import warnings\n",
    "warnings.filterwarnings('ignore')"
   ]
  },
  {
   "cell_type": "code",
   "execution_count": 7,
   "id": "c4e62702",
   "metadata": {},
   "outputs": [],
   "source": [
    "def id_cleaner(df):\n",
    "    id_list = df.id.unique()\n",
    "    frames = []\n",
    "    i = 0\n",
    "    for eye in id_list:\n",
    "        pdf = df[df.id == eye]\n",
    "        pdf_left = pdf[pdf.Laterality == 'Left']\n",
    "        pdf_right = pdf[pdf.Laterality == 'Right']\n",
    "        pdf_left.id = i\n",
    "        pdf_right.id = i + 1\n",
    "        i += 2\n",
    "        if len(pdf_left) != 0:\n",
    "            frames.append(pdf_left)\n",
    "        if len(pdf_right) != 0:\n",
    "            frames.append(pdf_right)\n",
    "    return pd.concat(frames)\n",
    "\n",
    "def time_sort(df):\n",
    "    id_list = df.id.unique()\n",
    "    frames = []\n",
    "    for eye in id_list:\n",
    "        pdf = df[df.id == eye]\n",
    "        pdf.admission_date = pd.to_datetime(pdf.admission_date, dayfirst=True)\n",
    "        pdf.sort_values(by='admission_date', inplace=True)\n",
    "        frames.append(pdf)\n",
    "    return pd.concat(frames)"
   ]
  },
  {
   "cell_type": "code",
   "execution_count": 44,
   "id": "cbc1e6c9",
   "metadata": {},
   "outputs": [],
   "source": [
    "df = pd.read_csv('/home/jupyter/charliemacuject/pharma_reports/data/eric.csv')\n",
    "df.rename(columns={'Patient::PatientBCID': 'id', 'CreatedDate': 'admission_date'}, inplace=True)\n",
    "new_df = id_cleaner(df)\n",
    "new_df = time_sort(new_df)\n",
    "#new_df.drop(columns=['Unnamed: 0', 'Unnamed: 0.1'], inplace = True)\n",
    "#new_df.to_csv('/home/jupyter/charliemacuject/pharma_reports/data/DME/ericmayer.csv')"
   ]
  },
  {
   "cell_type": "code",
   "execution_count": 45,
   "id": "ed7c16df",
   "metadata": {},
   "outputs": [
    {
     "data": {
      "text/html": [
       "<div>\n",
       "<style scoped>\n",
       "    .dataframe tbody tr th:only-of-type {\n",
       "        vertical-align: middle;\n",
       "    }\n",
       "\n",
       "    .dataframe tbody tr th {\n",
       "        vertical-align: top;\n",
       "    }\n",
       "\n",
       "    .dataframe thead th {\n",
       "        text-align: right;\n",
       "    }\n",
       "</style>\n",
       "<table border=\"1\" class=\"dataframe\">\n",
       "  <thead>\n",
       "    <tr style=\"text-align: right;\">\n",
       "      <th></th>\n",
       "      <th>id</th>\n",
       "      <th>admission_date</th>\n",
       "      <th>DoctorName</th>\n",
       "      <th>visual_acuity</th>\n",
       "      <th>InjToday</th>\n",
       "      <th>InjNext</th>\n",
       "      <th>NextInt</th>\n",
       "      <th>Laterality</th>\n",
       "    </tr>\n",
       "  </thead>\n",
       "  <tbody>\n",
       "    <tr>\n",
       "      <th>0</th>\n",
       "      <td>1</td>\n",
       "      <td>2007-04-24</td>\n",
       "      <td>Dr. Devinder Chauhan</td>\n",
       "      <td>80.0</td>\n",
       "      <td>NaN</td>\n",
       "      <td>NaN</td>\n",
       "      <td>NaN</td>\n",
       "      <td>Right</td>\n",
       "    </tr>\n",
       "    <tr>\n",
       "      <th>1</th>\n",
       "      <td>1</td>\n",
       "      <td>2007-05-04</td>\n",
       "      <td>Dr. Devinder Chauhan</td>\n",
       "      <td>85.0</td>\n",
       "      <td>NaN</td>\n",
       "      <td>NaN</td>\n",
       "      <td>NaN</td>\n",
       "      <td>Right</td>\n",
       "    </tr>\n",
       "    <tr>\n",
       "      <th>2</th>\n",
       "      <td>1</td>\n",
       "      <td>2007-06-01</td>\n",
       "      <td>Dr. Devinder Chauhan</td>\n",
       "      <td>85.0</td>\n",
       "      <td>NaN</td>\n",
       "      <td>NaN</td>\n",
       "      <td>NaN</td>\n",
       "      <td>Right</td>\n",
       "    </tr>\n",
       "    <tr>\n",
       "      <th>3</th>\n",
       "      <td>1</td>\n",
       "      <td>2007-07-20</td>\n",
       "      <td>Dr. Devinder Chauhan</td>\n",
       "      <td>85.0</td>\n",
       "      <td>NaN</td>\n",
       "      <td>NaN</td>\n",
       "      <td>NaN</td>\n",
       "      <td>Right</td>\n",
       "    </tr>\n",
       "    <tr>\n",
       "      <th>4</th>\n",
       "      <td>1</td>\n",
       "      <td>2007-08-17</td>\n",
       "      <td>Dr. Devinder Chauhan</td>\n",
       "      <td>80.0</td>\n",
       "      <td>NaN</td>\n",
       "      <td>NaN</td>\n",
       "      <td>NaN</td>\n",
       "      <td>Right</td>\n",
       "    </tr>\n",
       "  </tbody>\n",
       "</table>\n",
       "</div>"
      ],
      "text/plain": [
       "   id admission_date            DoctorName  visual_acuity InjToday InjNext  \\\n",
       "0   1     2007-04-24  Dr. Devinder Chauhan           80.0      NaN     NaN   \n",
       "1   1     2007-05-04  Dr. Devinder Chauhan           85.0      NaN     NaN   \n",
       "2   1     2007-06-01  Dr. Devinder Chauhan           85.0      NaN     NaN   \n",
       "3   1     2007-07-20  Dr. Devinder Chauhan           85.0      NaN     NaN   \n",
       "4   1     2007-08-17  Dr. Devinder Chauhan           80.0      NaN     NaN   \n",
       "\n",
       "   NextInt Laterality  \n",
       "0      NaN      Right  \n",
       "1      NaN      Right  \n",
       "2      NaN      Right  \n",
       "3      NaN      Right  \n",
       "4      NaN      Right  "
      ]
     },
     "execution_count": 45,
     "metadata": {},
     "output_type": "execute_result"
    }
   ],
   "source": [
    "new_df.head()"
   ]
  },
  {
   "cell_type": "code",
   "execution_count": 39,
   "id": "a54b9523",
   "metadata": {},
   "outputs": [
    {
     "data": {
      "text/plain": [
       "array(['Dr. Devinder Chauhan', 'Dr. Devinder Chauhan (BOR)',\n",
       "       'Dr. Eric Mayer', 'Dr. Lei Liu (BOR)', 'Dr. Alex Tan',\n",
       "       'Dr. Alex Tan\\t'], dtype=object)"
      ]
     },
     "execution_count": 39,
     "metadata": {},
     "output_type": "execute_result"
    }
   ],
   "source": [
    "new_df.DoctorName.unique()"
   ]
  },
  {
   "cell_type": "code",
   "execution_count": 40,
   "id": "e26fd56d",
   "metadata": {},
   "outputs": [],
   "source": [
    "def data_separator(df):\n",
    "    df_dev1 = df[df.DoctorName == 'Dr. Devinder Chauhan']\n",
    "    df_dev2 = df[df.DoctorName == 'Dr. Devinder Chauhan (BOR)']\n",
    "    df_eric = df[df.DoctorName == 'Dr. Eric Mayer']\n",
    "    df_alex = df[df.DoctorName == 'Dr. Alex Tan']\n",
    "    df_alex2 = df[df.DoctorName == 'Dr. Alex Tan\\t']\n",
    "    return pd.concat([df_dev1, df_dev2]), df_eric, pd.concat([df_alex, df_alex2])"
   ]
  },
  {
   "cell_type": "code",
   "execution_count": 46,
   "id": "f571037a",
   "metadata": {},
   "outputs": [],
   "source": [
    "df_dev, df_eric, df_alex = data_separator(new_df)"
   ]
  },
  {
   "cell_type": "code",
   "execution_count": 47,
   "id": "8d2b0169",
   "metadata": {},
   "outputs": [
    {
     "data": {
      "text/plain": [
       "(46111, 30346, 192)"
      ]
     },
     "execution_count": 47,
     "metadata": {},
     "output_type": "execute_result"
    }
   ],
   "source": [
    "len(df_dev), len(df_eric), len(df_alex)"
   ]
  },
  {
   "cell_type": "code",
   "execution_count": 48,
   "id": "97094e04",
   "metadata": {},
   "outputs": [],
   "source": [
    "df_dev.to_csv('/home/jupyter/charliemacuject/pharma_reports/data/devinder_chauhan_all.csv')"
   ]
  },
  {
   "cell_type": "code",
   "execution_count": 33,
   "id": "3385499d",
   "metadata": {},
   "outputs": [],
   "source": [
    "df_eric.to_csv('/home/jupyter/charliemacuject/pharma_reports/data/eric_mayer.csv')"
   ]
  },
  {
   "cell_type": "code",
   "execution_count": 34,
   "id": "40d260b8",
   "metadata": {},
   "outputs": [],
   "source": [
    "df_alex.to_csv('/home/jupyter/charliemacuject/pharma_reports/data/alex_tan.csv')"
   ]
  },
  {
   "cell_type": "code",
   "execution_count": 55,
   "id": "c5f99772",
   "metadata": {},
   "outputs": [
    {
     "data": {
      "text/plain": [
       "0        80.0\n",
       "1        85.0\n",
       "2        85.0\n",
       "3        85.0\n",
       "4        80.0\n",
       "         ... \n",
       "76585    46.0\n",
       "76587    46.0\n",
       "76588    46.0\n",
       "76589    40.0\n",
       "76590    35.0\n",
       "Name: visual_acuity, Length: 42166, dtype: float64"
      ]
     },
     "execution_count": 55,
     "metadata": {},
     "output_type": "execute_result"
    }
   ],
   "source": [
    "df_dev.visual_acuity"
   ]
  },
  {
   "cell_type": "code",
   "execution_count": 57,
   "id": "7ad4a7c0",
   "metadata": {},
   "outputs": [
    {
     "data": {
      "text/plain": [
       "68.48909666555993"
      ]
     },
     "execution_count": 57,
     "metadata": {},
     "output_type": "execute_result"
    }
   ],
   "source": [
    "vas = df_dev.visual_acuity.to_list()\n",
    "np.mean(vas)"
   ]
  },
  {
   "cell_type": "code",
   "execution_count": 58,
   "id": "9c050954",
   "metadata": {},
   "outputs": [],
   "source": [
    "id_list = df_dev.id.unique()\n",
    "lst = []\n",
    "for eye in id_list:\n",
    "    pdf = df_dev[df_dev.id == eye]\n",
    "    vas = pdf.visual_acuity.to_list()\n",
    "    lst.append(vas[0])"
   ]
  },
  {
   "cell_type": "code",
   "execution_count": 59,
   "id": "52174db5",
   "metadata": {},
   "outputs": [
    {
     "data": {
      "text/plain": [
       "65.85035750766087"
      ]
     },
     "execution_count": 59,
     "metadata": {},
     "output_type": "execute_result"
    }
   ],
   "source": [
    "np.mean(lst)"
   ]
  },
  {
   "cell_type": "code",
   "execution_count": null,
   "id": "1afb321c",
   "metadata": {},
   "outputs": [],
   "source": []
  }
 ],
 "metadata": {
  "environment": {
   "name": "common-cu110.m74",
   "type": "gcloud",
   "uri": "gcr.io/deeplearning-platform-release/base-cu110:m74"
  },
  "kernelspec": {
   "display_name": "Python 3",
   "language": "python",
   "name": "python3"
  },
  "language_info": {
   "codemirror_mode": {
    "name": "ipython",
    "version": 3
   },
   "file_extension": ".py",
   "mimetype": "text/x-python",
   "name": "python",
   "nbconvert_exporter": "python",
   "pygments_lexer": "ipython3",
   "version": "3.7.10"
  }
 },
 "nbformat": 4,
 "nbformat_minor": 5
}

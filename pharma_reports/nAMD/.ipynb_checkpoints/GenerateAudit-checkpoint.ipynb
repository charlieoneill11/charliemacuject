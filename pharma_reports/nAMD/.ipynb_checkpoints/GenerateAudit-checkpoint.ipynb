{
 "cells": [
  {
   "cell_type": "code",
   "execution_count": 2,
   "id": "eaf0bdb0",
   "metadata": {},
   "outputs": [
    {
     "name": "stdout",
     "output_type": "stream",
     "text": [
      "Go to the following link in your browser:\n",
      "\n",
      "    https://accounts.google.com/o/oauth2/auth?client_id=198855760514-cttaak3avfg6568amn6d04dv7p7tfbdt.apps.googleusercontent.com&redirect_uri=urn%3Aietf%3Awg%3Aoauth%3A2.0%3Aoob&scope=https%3A%2F%2Fwww.googleapis.com%2Fauth%2Fdrive&access_type=offline&response_type=code\n",
      "\n"
     ]
    },
    {
     "name": "stdin",
     "output_type": "stream",
     "text": [
      "Enter verification code:  4/1AX4XfWiPQ1aq5INVSnZHcF1PGFG_I10qQpkxxR8yDAivFzGRxBZOmJ999WA\n"
     ]
    },
    {
     "name": "stdout",
     "output_type": "stream",
     "text": [
      "Authentication successful.\n"
     ]
    }
   ],
   "source": [
    "from ipynb.fs.full.DoctorAudit import DataSeparator"
   ]
  },
  {
   "cell_type": "code",
   "execution_count": 4,
   "id": "6b11171c",
   "metadata": {},
   "outputs": [],
   "source": [
    "from ipynb.fs.full.DoctorAudit import InitialMetrics, Vision, Upload, generate_audit"
   ]
  },
  {
   "cell_type": "code",
   "execution_count": 5,
   "id": "6239ada9",
   "metadata": {},
   "outputs": [],
   "source": [
    "generate_audit(dr_name='Chuck')"
   ]
  },
  {
   "cell_type": "code",
   "execution_count": null,
   "id": "606f250f",
   "metadata": {},
   "outputs": [],
   "source": []
  }
 ],
 "metadata": {
  "environment": {
   "name": "common-cu110.m74",
   "type": "gcloud",
   "uri": "gcr.io/deeplearning-platform-release/base-cu110:m74"
  },
  "kernelspec": {
   "display_name": "Python 3",
   "language": "python",
   "name": "python3"
  },
  "language_info": {
   "codemirror_mode": {
    "name": "ipython",
    "version": 3
   },
   "file_extension": ".py",
   "mimetype": "text/x-python",
   "name": "python",
   "nbconvert_exporter": "python",
   "pygments_lexer": "ipython3",
   "version": "3.7.10"
  }
 },
 "nbformat": 4,
 "nbformat_minor": 5
}

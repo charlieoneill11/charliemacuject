{
 "cells": [
  {
   "cell_type": "code",
   "execution_count": 21,
   "id": "8e4ae743",
   "metadata": {},
   "outputs": [],
   "source": [
    "from ipynb.fs.full.DoctorAudit import DataSeparator"
   ]
  },
  {
   "cell_type": "code",
   "execution_count": 22,
   "id": "aad9c1e9",
   "metadata": {},
   "outputs": [],
   "source": [
    "from ipynb.fs.full.DoctorAudit import InitialMetrics, Vision, Upload, generate_audit"
   ]
  },
  {
   "cell_type": "code",
   "execution_count": 23,
   "id": "3bfbf5e4",
   "metadata": {},
   "outputs": [
    {
     "name": "stdin",
     "output_type": "stream",
     "text": [
      "Please input doctor's name. Chuck\n"
     ]
    }
   ],
   "source": [
    "name = input(\"Please input doctor's name.\")"
   ]
  },
  {
   "cell_type": "code",
   "execution_count": 24,
   "id": "95d07d3d",
   "metadata": {},
   "outputs": [],
   "source": [
    "generate_audit(dr_name=name)"
   ]
  },
  {
   "cell_type": "code",
   "execution_count": null,
   "id": "3c006e67",
   "metadata": {},
   "outputs": [],
   "source": []
  }
 ],
 "metadata": {
  "environment": {
   "name": "common-cu110.m74",
   "type": "gcloud",
   "uri": "gcr.io/deeplearning-platform-release/base-cu110:m74"
  },
  "kernelspec": {
   "display_name": "Python 3",
   "language": "python",
   "name": "python3"
  },
  "language_info": {
   "codemirror_mode": {
    "name": "ipython",
    "version": 3
   },
   "file_extension": ".py",
   "mimetype": "text/x-python",
   "name": "python",
   "nbconvert_exporter": "python",
   "pygments_lexer": "ipython3",
   "version": "3.7.10"
  }
 },
 "nbformat": 4,
 "nbformat_minor": 5
}
